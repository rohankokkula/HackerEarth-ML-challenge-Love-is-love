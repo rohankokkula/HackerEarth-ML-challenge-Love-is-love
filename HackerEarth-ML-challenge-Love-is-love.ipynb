{
 "cells": [
  {
   "cell_type": "markdown",
   "metadata": {
    "_uuid": "92b885dd147dac19bd0a33db3cd0da100bd5bc23"
   },
   "source": [
    "# Twitter Sentiment Analysis"
   ]
  },
  {
   "cell_type": "code",
   "execution_count": 1,
   "metadata": {
    "_uuid": "70282bce8b42a51e4d44f2c7d85c4ca9567b0fd4"
   },
   "outputs": [
    {
     "name": "stdout",
     "output_type": "stream",
     "text": [
      "Collecting gensim\n",
      "\u001b[?25l  Downloading https://files.pythonhosted.org/packages/2b/e0/fa6326251692056dc880a64eb22117e03269906ba55a6864864d24ec8b4e/gensim-3.8.3-cp36-cp36m-manylinux1_x86_64.whl (24.2MB)\n",
      "\u001b[K    100% |████████████████████████████████| 24.2MB 1.9MB/s eta 0:00:01\n",
      "\u001b[?25hCollecting smart-open>=1.8.1 (from gensim)\n",
      "\u001b[?25l  Downloading https://files.pythonhosted.org/packages/0b/8e/464b06f5efd26f2dc16ce7bd1662c2f31cadf9104fdbcbf5994674cc3a51/smart_open-2.1.0.tar.gz (116kB)\n",
      "\u001b[K    100% |████████████████████████████████| 122kB 31.5MB/s ta 0:00:01\n",
      "\u001b[?25hRequirement already satisfied, skipping upgrade: six>=1.5.0 in /opt/conda/lib/python3.6/site-packages (from gensim) (1.11.0)\n",
      "Requirement already satisfied, skipping upgrade: scipy>=0.18.1 in /opt/conda/lib/python3.6/site-packages (from gensim) (1.1.0)\n",
      "Requirement already satisfied, skipping upgrade: numpy>=1.11.3 in /opt/conda/lib/python3.6/site-packages (from gensim) (1.15.4)\n",
      "Requirement already satisfied, skipping upgrade: requests in /opt/conda/lib/python3.6/site-packages (from smart-open>=1.8.1->gensim) (2.21.0)\n",
      "Requirement already satisfied, skipping upgrade: boto in /opt/conda/lib/python3.6/site-packages (from smart-open>=1.8.1->gensim) (2.48.0)\n",
      "Requirement already satisfied, skipping upgrade: boto3 in /opt/conda/lib/python3.6/site-packages (from smart-open>=1.8.1->gensim) (1.9.63)\n",
      "Requirement already satisfied, skipping upgrade: certifi>=2017.4.17 in /opt/conda/lib/python3.6/site-packages (from requests->smart-open>=1.8.1->gensim) (2018.11.29)\n",
      "Requirement already satisfied, skipping upgrade: urllib3<1.25,>=1.21.1 in /opt/conda/lib/python3.6/site-packages (from requests->smart-open>=1.8.1->gensim) (1.22)\n",
      "Requirement already satisfied, skipping upgrade: chardet<3.1.0,>=3.0.2 in /opt/conda/lib/python3.6/site-packages (from requests->smart-open>=1.8.1->gensim) (3.0.4)\n",
      "Requirement already satisfied, skipping upgrade: idna<2.9,>=2.5 in /opt/conda/lib/python3.6/site-packages (from requests->smart-open>=1.8.1->gensim) (2.6)\n",
      "Requirement already satisfied, skipping upgrade: botocore<1.13.0,>=1.12.63 in /opt/conda/lib/python3.6/site-packages (from boto3->smart-open>=1.8.1->gensim) (1.12.63)\n",
      "Requirement already satisfied, skipping upgrade: jmespath<1.0.0,>=0.7.1 in /opt/conda/lib/python3.6/site-packages (from boto3->smart-open>=1.8.1->gensim) (0.9.3)\n",
      "Requirement already satisfied, skipping upgrade: s3transfer<0.2.0,>=0.1.10 in /opt/conda/lib/python3.6/site-packages (from boto3->smart-open>=1.8.1->gensim) (0.1.13)\n",
      "Requirement already satisfied, skipping upgrade: python-dateutil<3.0.0,>=2.1; python_version >= \"2.7\" in /opt/conda/lib/python3.6/site-packages (from botocore<1.13.0,>=1.12.63->boto3->smart-open>=1.8.1->gensim) (2.6.0)\n",
      "Requirement already satisfied, skipping upgrade: docutils>=0.10 in /opt/conda/lib/python3.6/site-packages (from botocore<1.13.0,>=1.12.63->boto3->smart-open>=1.8.1->gensim) (0.14)\n",
      "Building wheels for collected packages: smart-open\n",
      "  Running setup.py bdist_wheel for smart-open ... \u001b[?25ldone\n",
      "\u001b[?25h  Stored in directory: /root/.cache/pip/wheels/25/6c/db/7dcb26f19fb260c5629af85ed1c8ef9641143444fc7ec1fa08\n",
      "Successfully built smart-open\n",
      "Installing collected packages: smart-open, gensim\n",
      "  Found existing installation: smart-open 1.7.1\n",
      "    Uninstalling smart-open-1.7.1:\n",
      "      Successfully uninstalled smart-open-1.7.1\n",
      "  Found existing installation: gensim 3.6.0\n",
      "    Uninstalling gensim-3.6.0:\n",
      "      Successfully uninstalled gensim-3.6.0\n",
      "Successfully installed gensim-3.8.3 smart-open-2.1.0\n",
      "\u001b[33mYou are using pip version 18.1, however version 20.2b1 is available.\n",
      "You should consider upgrading via the 'pip install --upgrade pip' command.\u001b[0m\n",
      "Collecting keras\n",
      "  Downloading https://files.pythonhosted.org/packages/44/e1/dc0757b20b56c980b5553c1b5c4c32d378c7055ab7bfa92006801ad359ab/Keras-2.4.3-py2.py3-none-any.whl\n",
      "Requirement already satisfied, skipping upgrade: pyyaml in /opt/conda/lib/python3.6/site-packages (from keras) (3.12)\n",
      "Requirement already satisfied, skipping upgrade: numpy>=1.9.1 in /opt/conda/lib/python3.6/site-packages (from keras) (1.15.4)\n",
      "Requirement already satisfied, skipping upgrade: scipy>=0.14 in /opt/conda/lib/python3.6/site-packages (from keras) (1.1.0)\n",
      "Requirement already satisfied, skipping upgrade: h5py in /opt/conda/lib/python3.6/site-packages (from keras) (2.8.0)\n",
      "Requirement already satisfied, skipping upgrade: six in /opt/conda/lib/python3.6/site-packages (from h5py->keras) (1.11.0)\n",
      "Installing collected packages: keras\n",
      "  Found existing installation: Keras 2.2.4\n",
      "    Uninstalling Keras-2.2.4:\n",
      "      Successfully uninstalled Keras-2.2.4\n",
      "Successfully installed keras-2.4.3\n",
      "\u001b[33mYou are using pip version 18.1, however version 20.2b1 is available.\n",
      "You should consider upgrading via the 'pip install --upgrade pip' command.\u001b[0m\n",
      "Collecting pandas\n",
      "\u001b[?25l  Downloading https://files.pythonhosted.org/packages/c0/95/cb9820560a2713384ef49060b0087dfa2591c6db6f240215c2bce1f4211c/pandas-1.0.5-cp36-cp36m-manylinux1_x86_64.whl (10.1MB)\n",
      "\u001b[K    100% |████████████████████████████████| 10.1MB 4.8MB/s eta 0:00:01\n",
      "\u001b[?25hRequirement already satisfied, skipping upgrade: numpy>=1.13.3 in /opt/conda/lib/python3.6/site-packages (from pandas) (1.15.4)\n",
      "Requirement already satisfied, skipping upgrade: pytz>=2017.2 in /opt/conda/lib/python3.6/site-packages (from pandas) (2018.4)\n",
      "Collecting python-dateutil>=2.6.1 (from pandas)\n",
      "\u001b[?25l  Downloading https://files.pythonhosted.org/packages/d4/70/d60450c3dd48ef87586924207ae8907090de0b306af2bce5d134d78615cb/python_dateutil-2.8.1-py2.py3-none-any.whl (227kB)\n",
      "\u001b[K    100% |████████████████████████████████| 235kB 29.8MB/s ta 0:00:01\n",
      "\u001b[?25hRequirement already satisfied, skipping upgrade: six>=1.5 in /opt/conda/lib/python3.6/site-packages (from python-dateutil>=2.6.1->pandas) (1.11.0)\n",
      "Installing collected packages: python-dateutil, pandas\n",
      "  Found existing installation: python-dateutil 2.6.0\n",
      "    Uninstalling python-dateutil-2.6.0:\n",
      "      Successfully uninstalled python-dateutil-2.6.0\n",
      "  Found existing installation: pandas 0.23.4\n",
      "    Uninstalling pandas-0.23.4:\n",
      "      Successfully uninstalled pandas-0.23.4\n",
      "Successfully installed pandas-1.0.5 python-dateutil-2.8.1\n",
      "\u001b[33mYou are using pip version 18.1, however version 20.2b1 is available.\n",
      "You should consider upgrading via the 'pip install --upgrade pip' command.\u001b[0m\n"
     ]
    }
   ],
   "source": [
    "!pip install gensim --upgrade\n",
    "!pip install keras --upgrade\n",
    "!pip install pandas --upgrade"
   ]
  },
  {
   "cell_type": "code",
   "execution_count": 5,
   "metadata": {
    "_uuid": "303e72966af732ddef0bd8108a321095314e44af"
   },
   "outputs": [
    {
     "name": "stdout",
     "output_type": "stream",
     "text": [
      "Requirement already up-to-date: pip in /opt/conda/lib/python3.6/site-packages (20.1.1)\n",
      "Requirement already satisfied: tensorflow in /opt/conda/lib/python3.6/site-packages (1.11.0rc1)\n",
      "Requirement already satisfied: wheel>=0.26 in /opt/conda/lib/python3.6/site-packages (from tensorflow) (0.31.1)\n",
      "Requirement already satisfied: grpcio>=1.8.6 in /opt/conda/lib/python3.6/site-packages (from tensorflow) (1.17.0)\n",
      "Requirement already satisfied: tensorboard<1.11.0,>=1.10.0 in /opt/conda/lib/python3.6/site-packages (from tensorflow) (1.10.0)\n",
      "Requirement already satisfied: setuptools<=39.1.0 in /opt/conda/lib/python3.6/site-packages (from tensorflow) (39.1.0)\n",
      "Requirement already satisfied: astor>=0.6.0 in /opt/conda/lib/python3.6/site-packages (from tensorflow) (0.7.1)\n",
      "Requirement already satisfied: gast>=0.2.0 in /opt/conda/lib/python3.6/site-packages (from tensorflow) (0.2.0)\n",
      "Requirement already satisfied: protobuf>=3.6.0 in /opt/conda/lib/python3.6/site-packages (from tensorflow) (3.6.1)\n",
      "Requirement already satisfied: keras-applications>=1.0.5 in /opt/conda/lib/python3.6/site-packages (from tensorflow) (1.0.6)\n",
      "Requirement already satisfied: absl-py>=0.1.6 in /opt/conda/lib/python3.6/site-packages (from tensorflow) (0.6.1)\n",
      "Requirement already satisfied: keras-preprocessing>=1.0.3 in /opt/conda/lib/python3.6/site-packages (from tensorflow) (1.0.5)\n",
      "Requirement already satisfied: six>=1.10.0 in /opt/conda/lib/python3.6/site-packages (from tensorflow) (1.11.0)\n",
      "Requirement already satisfied: termcolor>=1.1.0 in /opt/conda/lib/python3.6/site-packages (from tensorflow) (1.1.0)\n",
      "Requirement already satisfied: numpy>=1.13.3 in /opt/conda/lib/python3.6/site-packages (from tensorflow) (1.15.4)\n",
      "Requirement already satisfied: markdown>=2.6.8 in /opt/conda/lib/python3.6/site-packages (from tensorboard<1.11.0,>=1.10.0->tensorflow) (3.0.1)\n",
      "Requirement already satisfied: werkzeug>=0.11.10 in /opt/conda/lib/python3.6/site-packages (from tensorboard<1.11.0,>=1.10.0->tensorflow) (0.14.1)\n",
      "Requirement already satisfied: h5py in /opt/conda/lib/python3.6/site-packages (from keras-applications>=1.0.5->tensorflow) (2.8.0)\n"
     ]
    }
   ],
   "source": [
    "!pip install --upgrade pip\n",
    "!pip install tensorflow\n",
    "\n",
    "# DataFrame\n",
    "import pandas as pd\n",
    "\n",
    "# Matplot\n",
    "import matplotlib.pyplot as plt\n",
    "%matplotlib inline\n",
    "\n",
    "# Scikit-learn\n",
    "from sklearn.model_selection import train_test_split\n",
    "from sklearn.preprocessing import LabelEncoder\n",
    "from sklearn.metrics import confusion_matrix, classification_report, accuracy_score\n",
    "from sklearn.manifold import TSNE\n",
    "from sklearn.feature_extraction.text import TfidfVectorizer\n",
    "\n",
    "# Keras\n",
    "from tensorflow.keras.preprocessing.text import Tokenizer\n",
    "from tensorflow.keras.preprocessing.sequence import pad_sequences\n",
    "from tensorflow.keras.models import Sequential\n",
    "from tensorflow.keras.layers import Activation, Dense, Dropout, Embedding, Flatten, Conv1D, MaxPooling1D, LSTM\n",
    "from tensorflow.keras import utils\n",
    "from tensorflow.keras.callbacks import ReduceLROnPlateau, EarlyStopping\n",
    "\n",
    "# nltk\n",
    "import nltk\n",
    "from nltk.corpus import stopwords\n",
    "from  nltk.stem import SnowballStemmer\n",
    "\n",
    "# Word2vec\n",
    "import gensim\n",
    "\n",
    "# Utility\n",
    "import re\n",
    "import numpy as np\n",
    "import os\n",
    "from collections import Counter\n",
    "import logging\n",
    "import time\n",
    "import pickle\n",
    "import itertools\n",
    "\n",
    "# Set log\n",
    "logging.basicConfig(format='%(asctime)s : %(levelname)s : %(message)s', level=logging.INFO)"
   ]
  },
  {
   "cell_type": "code",
   "execution_count": 6,
   "metadata": {
    "_uuid": "35e1a89dead5fd160e4c9a024a21d2e569fc89ff"
   },
   "outputs": [
    {
     "name": "stdout",
     "output_type": "stream",
     "text": [
      "[nltk_data] Downloading package stopwords to /usr/share/nltk_data...\n",
      "[nltk_data]   Unzipping corpora/stopwords.zip.\n"
     ]
    },
    {
     "data": {
      "text/plain": [
       "True"
      ]
     },
     "execution_count": 6,
     "metadata": {},
     "output_type": "execute_result"
    }
   ],
   "source": [
    "nltk.download('stopwords')"
   ]
  },
  {
   "cell_type": "markdown",
   "metadata": {
    "_uuid": "e8b01a07df001e4abcc745900336c4db06e455f3"
   },
   "source": [
    "### Settings"
   ]
  },
  {
   "cell_type": "code",
   "execution_count": 7,
   "metadata": {
    "_uuid": "180f0dd2a95419e4602b5c0229822b0111c826f6"
   },
   "outputs": [],
   "source": [
    "# DATASET\n",
    "DATASET_COLUMNS = [\"target\", \"ids\", \"date\", \"flag\", \"user\", \"text\"]\n",
    "DATASET_ENCODING = \"ISO-8859-1\"\n",
    "TRAIN_SIZE = 0.8\n",
    "\n",
    "# TEXT CLENAING\n",
    "TEXT_CLEANING_RE = \"@\\S+|https?:\\S+|http?:\\S|[^A-Za-z0-9]+\"\n",
    "\n",
    "# WORD2VEC \n",
    "W2V_SIZE = 300\n",
    "W2V_WINDOW = 7\n",
    "W2V_EPOCH = 32\n",
    "W2V_MIN_COUNT = 10\n",
    "\n",
    "# KERAS\n",
    "SEQUENCE_LENGTH = 300\n",
    "EPOCHS = 8\n",
    "BATCH_SIZE = 1024\n",
    "\n",
    "# SENTIMENT\n",
    "POSITIVE = \"POSITIVE\"\n",
    "NEGATIVE = \"NEGATIVE\"\n",
    "NEUTRAL = \"NEUTRAL\"\n",
    "SENTIMENT_THRESHOLDS = (0.4, 0.7)\n",
    "\n",
    "# EXPORT\n",
    "KERAS_MODEL = \"model.h5\"\n",
    "WORD2VEC_MODEL = \"model.w2v\"\n",
    "TOKENIZER_MODEL = \"tokenizer.pkl\"\n",
    "ENCODER_MODEL = \"encoder.pkl\""
   ]
  },
  {
   "cell_type": "markdown",
   "metadata": {
    "_uuid": "1c3beecc618be68480b3d4f0de08d9d863da1dc1"
   },
   "source": [
    "### Read Dataset"
   ]
  },
  {
   "cell_type": "markdown",
   "metadata": {
    "_uuid": "563b3c44f1092dba0b853747b098e00509098cca"
   },
   "source": [
    "### Dataset details\n",
    "* **target**: the polarity of the tweet (0 = negative, 2 = neutral, 4 = positive)\n",
    "* **ids**: The id of the tweet ( 2087)\n",
    "* **date**: the date of the tweet (Sat May 16 23:58:44 UTC 2009)\n",
    "* **flag**: The query (lyx). If there is no query, then this value is NO_QUERY.\n",
    "* **user**: the user that tweeted (robotickilldozr)\n",
    "* **text**: the text of the tweet (Lyx is cool)"
   ]
  },
  {
   "cell_type": "code",
   "execution_count": 8,
   "metadata": {
    "_uuid": "bba8f91cd70de4f5ea0fb0870ae2029b6e3dcc24"
   },
   "outputs": [
    {
     "name": "stdout",
     "output_type": "stream",
     "text": [
      "Open file: ../input/training.1600000.processed.noemoticon.csv\n"
     ]
    }
   ],
   "source": [
    "df = pd.read_csv('twitter data.csv', encoding =DATASET_ENCODING , names=DATASET_COLUMNS)"
   ]
  },
  {
   "cell_type": "code",
   "execution_count": 9,
   "metadata": {
    "_uuid": "936d499c00c4f1648bc16ca9d283c3b39be7fb10"
   },
   "outputs": [
    {
     "name": "stdout",
     "output_type": "stream",
     "text": [
      "Dataset size: 1600000\n"
     ]
    }
   ],
   "source": [
    "print(\"Dataset size:\", len(df))"
   ]
  },
  {
   "cell_type": "code",
   "execution_count": 10,
   "metadata": {
    "_uuid": "7486ed895b813c5246f97b31b6162b0f65ff763b"
   },
   "outputs": [
    {
     "ename": "ImportError",
     "evalue": "cannot import name 'is_url'",
     "output_type": "error",
     "traceback": [
      "\u001b[0;31m---------------------------------------------------------------------------\u001b[0m",
      "\u001b[0;31mImportError\u001b[0m                               Traceback (most recent call last)",
      "\u001b[0;32m/opt/conda/lib/python3.6/site-packages/IPython/core/formatters.py\u001b[0m in \u001b[0;36m__call__\u001b[0;34m(self, obj)\u001b[0m\n\u001b[1;32m    343\u001b[0m             \u001b[0mmethod\u001b[0m \u001b[0;34m=\u001b[0m \u001b[0mget_real_method\u001b[0m\u001b[0;34m(\u001b[0m\u001b[0mobj\u001b[0m\u001b[0;34m,\u001b[0m \u001b[0mself\u001b[0m\u001b[0;34m.\u001b[0m\u001b[0mprint_method\u001b[0m\u001b[0;34m)\u001b[0m\u001b[0;34m\u001b[0m\u001b[0m\n\u001b[1;32m    344\u001b[0m             \u001b[0;32mif\u001b[0m \u001b[0mmethod\u001b[0m \u001b[0;32mis\u001b[0m \u001b[0;32mnot\u001b[0m \u001b[0;32mNone\u001b[0m\u001b[0;34m:\u001b[0m\u001b[0;34m\u001b[0m\u001b[0m\n\u001b[0;32m--> 345\u001b[0;31m                 \u001b[0;32mreturn\u001b[0m \u001b[0mmethod\u001b[0m\u001b[0;34m(\u001b[0m\u001b[0;34m)\u001b[0m\u001b[0;34m\u001b[0m\u001b[0m\n\u001b[0m\u001b[1;32m    346\u001b[0m             \u001b[0;32mreturn\u001b[0m \u001b[0;32mNone\u001b[0m\u001b[0;34m\u001b[0m\u001b[0m\n\u001b[1;32m    347\u001b[0m         \u001b[0;32melse\u001b[0m\u001b[0;34m:\u001b[0m\u001b[0;34m\u001b[0m\u001b[0m\n",
      "\u001b[0;32m/opt/conda/lib/python3.6/site-packages/pandas/core/frame.py\u001b[0m in \u001b[0;36m_repr_html_\u001b[0;34m(self)\u001b[0m\n\u001b[1;32m    694\u001b[0m         \u001b[0mReturn\u001b[0m \u001b[0ma\u001b[0m \u001b[0mhtml\u001b[0m \u001b[0mrepresentation\u001b[0m \u001b[0;32mfor\u001b[0m \u001b[0ma\u001b[0m \u001b[0mparticular\u001b[0m \u001b[0mDataFrame\u001b[0m\u001b[0;34m.\u001b[0m\u001b[0;34m\u001b[0m\u001b[0m\n\u001b[1;32m    695\u001b[0m \u001b[0;34m\u001b[0m\u001b[0m\n\u001b[0;32m--> 696\u001b[0;31m         \u001b[0mMainly\u001b[0m \u001b[0;32mfor\u001b[0m \u001b[0mIPython\u001b[0m \u001b[0mnotebook\u001b[0m\u001b[0;34m.\u001b[0m\u001b[0;34m\u001b[0m\u001b[0m\n\u001b[0m\u001b[1;32m    697\u001b[0m         \"\"\"\n\u001b[1;32m    698\u001b[0m         \u001b[0;32mif\u001b[0m \u001b[0mself\u001b[0m\u001b[0;34m.\u001b[0m\u001b[0m_info_repr\u001b[0m\u001b[0;34m(\u001b[0m\u001b[0;34m)\u001b[0m\u001b[0;34m:\u001b[0m\u001b[0;34m\u001b[0m\u001b[0m\n",
      "\u001b[0;32m/opt/conda/lib/python3.6/site-packages/pandas/core/frame.py\u001b[0m in \u001b[0;36mto_html\u001b[0;34m(self, buf, columns, col_space, header, index, na_rep, formatters, float_format, sparsify, index_names, justify, bold_rows, classes, escape, max_rows, max_cols, show_dimensions, notebook, decimal, border, table_id)\u001b[0m\n\u001b[1;32m   2035\u001b[0m     ) -> None:\n\u001b[1;32m   2036\u001b[0m         \"\"\"\n\u001b[0;32m-> 2037\u001b[0;31m         \u001b[0mWrite\u001b[0m \u001b[0ma\u001b[0m \u001b[0mDataFrame\u001b[0m \u001b[0mto\u001b[0m \u001b[0mthe\u001b[0m \u001b[0mbinary\u001b[0m \u001b[0mparquet\u001b[0m \u001b[0mformat\u001b[0m\u001b[0;34m.\u001b[0m\u001b[0;34m\u001b[0m\u001b[0m\n\u001b[0m\u001b[1;32m   2038\u001b[0m \u001b[0;34m\u001b[0m\u001b[0m\n\u001b[1;32m   2039\u001b[0m         \u001b[0;34m.\u001b[0m\u001b[0;34m.\u001b[0m \u001b[0mversionadded\u001b[0m\u001b[0;34m:\u001b[0m\u001b[0;34m:\u001b[0m \u001b[0;36m0.21\u001b[0m\u001b[0;36m.0\u001b[0m\u001b[0;34m\u001b[0m\u001b[0m\n",
      "\u001b[0;32m/opt/conda/lib/python3.6/site-packages/pandas/io/formats/format.py\u001b[0m in \u001b[0;36mto_html\u001b[0;34m(self, classes, notebook, border)\u001b[0m\n\u001b[1;32m    745\u001b[0m                 \u001b[0mstr_columns\u001b[0m \u001b[0;34m=\u001b[0m \u001b[0;34m[\u001b[0m\u001b[0;34m[\u001b[0m\u001b[0mlabel\u001b[0m\u001b[0;34m]\u001b[0m \u001b[0;32mfor\u001b[0m \u001b[0mlabel\u001b[0m \u001b[0;32min\u001b[0m \u001b[0mself\u001b[0m\u001b[0;34m.\u001b[0m\u001b[0mheader\u001b[0m\u001b[0;34m]\u001b[0m\u001b[0;34m\u001b[0m\u001b[0m\n\u001b[1;32m    746\u001b[0m             \u001b[0;32melse\u001b[0m\u001b[0;34m:\u001b[0m\u001b[0;34m\u001b[0m\u001b[0m\n\u001b[0;32m--> 747\u001b[0;31m                 \u001b[0mstr_columns\u001b[0m \u001b[0;34m=\u001b[0m \u001b[0mself\u001b[0m\u001b[0;34m.\u001b[0m\u001b[0m_get_formatted_column_labels\u001b[0m\u001b[0;34m(\u001b[0m\u001b[0mframe\u001b[0m\u001b[0;34m)\u001b[0m\u001b[0;34m\u001b[0m\u001b[0m\n\u001b[0m\u001b[1;32m    748\u001b[0m \u001b[0;34m\u001b[0m\u001b[0m\n\u001b[1;32m    749\u001b[0m             \u001b[0;32mif\u001b[0m \u001b[0mself\u001b[0m\u001b[0;34m.\u001b[0m\u001b[0mshow_row_idx_names\u001b[0m\u001b[0;34m:\u001b[0m\u001b[0;34m\u001b[0m\u001b[0m\n",
      "\u001b[0;32m/opt/conda/lib/python3.6/site-packages/pandas/io/formats/html.py\u001b[0m in \u001b[0;36m<module>\u001b[0;34m()\u001b[0m\n\u001b[1;32m     14\u001b[0m \u001b[0;32mfrom\u001b[0m \u001b[0mpandas\u001b[0m \u001b[0;32mimport\u001b[0m \u001b[0moption_context\u001b[0m\u001b[0;34m\u001b[0m\u001b[0m\n\u001b[1;32m     15\u001b[0m \u001b[0;34m\u001b[0m\u001b[0m\n\u001b[0;32m---> 16\u001b[0;31m \u001b[0;32mfrom\u001b[0m \u001b[0mpandas\u001b[0m\u001b[0;34m.\u001b[0m\u001b[0mio\u001b[0m\u001b[0;34m.\u001b[0m\u001b[0mcommon\u001b[0m \u001b[0;32mimport\u001b[0m \u001b[0mis_url\u001b[0m\u001b[0;34m\u001b[0m\u001b[0m\n\u001b[0m\u001b[1;32m     17\u001b[0m from pandas.io.formats.format import (\n\u001b[1;32m     18\u001b[0m     \u001b[0mDataFrameFormatter\u001b[0m\u001b[0;34m,\u001b[0m\u001b[0;34m\u001b[0m\u001b[0m\n",
      "\u001b[0;31mImportError\u001b[0m: cannot import name 'is_url'"
     ]
    },
    {
     "data": {
      "text/plain": [
       "   target                        ...                                                                       text\n",
       "0       0                        ...                          @switchfoot http://twitpic.com/2y1zl - Awww, t...\n",
       "1       0                        ...                          is upset that he can't update his Facebook by ...\n",
       "2       0                        ...                          @Kenichan I dived many times for the ball. Man...\n",
       "3       0                        ...                            my whole body feels itchy and like its on fire \n",
       "4       0                        ...                          @nationwideclass no, it's not behaving at all....\n",
       "\n",
       "[5 rows x 6 columns]"
      ]
     },
     "execution_count": 10,
     "metadata": {},
     "output_type": "execute_result"
    }
   ],
   "source": [
    "df.head(5)"
   ]
  },
  {
   "cell_type": "markdown",
   "metadata": {
    "_uuid": "3f9a7bb129e184967b13261fb5d253af451c75c5"
   },
   "source": [
    "### Map target label to String\n",
    "* **0** -> **NEGATIVE**\n",
    "* **2** -> **NEUTRAL**\n",
    "* **4** -> **POSITIVE**"
   ]
  },
  {
   "cell_type": "code",
   "execution_count": 11,
   "metadata": {
    "_uuid": "14074b59106cb9550440839e48b832223fc9502f"
   },
   "outputs": [],
   "source": [
    "decode_map = {0: \"NEGATIVE\", 2: \"NEUTRAL\", 4: \"POSITIVE\"}\n",
    "def decode_sentiment(label):\n",
    "    return decode_map[int(label)]"
   ]
  },
  {
   "cell_type": "code",
   "execution_count": 12,
   "metadata": {
    "_uuid": "4449d473187f647a195a6ac6986b009da32a7f4b"
   },
   "outputs": [
    {
     "name": "stdout",
     "output_type": "stream",
     "text": [
      "CPU times: user 1.06 s, sys: 42.8 ms, total: 1.11 s\n",
      "Wall time: 1.11 s\n"
     ]
    }
   ],
   "source": [
    "%%time\n",
    "df.target = df.target.apply(lambda x: decode_sentiment(x))"
   ]
  },
  {
   "cell_type": "code",
   "execution_count": 13,
   "metadata": {
    "_uuid": "19eb327803192f31cce3512aacb232f4d6b38715"
   },
   "outputs": [
    {
     "data": {
      "text/plain": [
       "Text(0.5,1,'Dataset labels distribuition')"
      ]
     },
     "execution_count": 13,
     "metadata": {},
     "output_type": "execute_result"
    },
    {
     "data": {
      "image/png": "[encoded data removed]",
      "text/plain": [
       "<Figure size 1152x576 with 1 Axes>"
      ]
     },
     "metadata": {},
     "output_type": "display_data"
    }
   ],
   "source": [
    "target_cnt = Counter(df.target)\n",
    "\n",
    "plt.figure(figsize=(16,8))\n",
    "plt.bar(target_cnt.keys(), target_cnt.values())\n",
    "plt.title(\"Dataset labels distribuition\")"
   ]
  },
  {
   "cell_type": "markdown",
   "metadata": {
    "_uuid": "4329b1573518b03e497213efa7676220734ebb4b"
   },
   "source": [
    "### Pre-Process dataset"
   ]
  },
  {
   "cell_type": "code",
   "execution_count": 14,
   "metadata": {
    "_uuid": "8aeee8b7b9ea11b749c7f91cd4787a7b50ed1a91"
   },
   "outputs": [],
   "source": [
    "stop_words = stopwords.words(\"english\")\n",
    "stemmer = SnowballStemmer(\"english\")"
   ]
  },
  {
   "cell_type": "code",
   "execution_count": 15,
   "metadata": {
    "_uuid": "649ebcb97969b9ac4301138783704bb3d7846a49"
   },
   "outputs": [],
   "source": [
    "def preprocess(text, stem=False):\n",
    "    # Remove link,user and special characters\n",
    "    text = re.sub(TEXT_CLEANING_RE, ' ', str(text).lower()).strip()\n",
    "    tokens = []\n",
    "    for token in text.split():\n",
    "        if token not in stop_words:\n",
    "            if stem:\n",
    "                tokens.append(stemmer.stem(token))\n",
    "            else:\n",
    "                tokens.append(token)\n",
    "    return \" \".join(tokens)"
   ]
  },
  {
   "cell_type": "code",
   "execution_count": 16,
   "metadata": {
    "_uuid": "f7f3e77ab9291d14687c49e71ba9b2b1e3323432"
   },
   "outputs": [
    {
     "name": "stdout",
     "output_type": "stream",
     "text": [
      "CPU times: user 1min 7s, sys: 145 ms, total: 1min 7s\n",
      "Wall time: 1min 7s\n"
     ]
    }
   ],
   "source": [
    "%%time\n",
    "df.text = df.text.apply(lambda x: preprocess(x))"
   ]
  },
  {
   "cell_type": "markdown",
   "metadata": {
    "_uuid": "f5f9714a8507409bbe780eebf2855a33e8e6ba37"
   },
   "source": [
    "### Split train and test"
   ]
  },
  {
   "cell_type": "code",
   "execution_count": 17,
   "metadata": {
    "_uuid": "d2b1179c968e3f3910c790ecf0c5b2cbb34b0e68"
   },
   "outputs": [
    {
     "name": "stdout",
     "output_type": "stream",
     "text": [
      "TRAIN size: 1280000\n",
      "TEST size: 320000\n"
     ]
    }
   ],
   "source": [
    "df_train, df_test = train_test_split(df, test_size=1-TRAIN_SIZE, random_state=42)\n",
    "print(\"TRAIN size:\", len(df_train))\n",
    "print(\"TEST size:\", len(df_test))"
   ]
  },
  {
   "cell_type": "markdown",
   "metadata": {
    "_uuid": "f08a28aab2c3d16d8b9681a7d5d07587153a1cd6"
   },
   "source": [
    "### Word2Vec "
   ]
  },
  {
   "cell_type": "code",
   "execution_count": 18,
   "metadata": {
    "_uuid": "2461bf564de1b4414841933d0c1d1bee5f5cc5a6"
   },
   "outputs": [
    {
     "name": "stdout",
     "output_type": "stream",
     "text": [
      "CPU times: user 3.73 s, sys: 353 ms, total: 4.08 s\n",
      "Wall time: 4.28 s\n"
     ]
    }
   ],
   "source": [
    "%%time\n",
    "documents = [_text.split() for _text in df_train.text] "
   ]
  },
  {
   "cell_type": "code",
   "execution_count": 19,
   "metadata": {
    "_uuid": "8e19b9f25801ba86420decc266d2b3e6fb44f1ea"
   },
   "outputs": [],
   "source": [
    "w2v_model = gensim.models.word2vec.Word2Vec(size=W2V_SIZE, \n",
    "                                            window=W2V_WINDOW, \n",
    "                                            min_count=W2V_MIN_COUNT, \n",
    "                                            workers=8)"
   ]
  },
  {
   "cell_type": "code",
   "execution_count": 20,
   "metadata": {
    "_uuid": "58d655af07653c594bec6bebcfb302a973b0ad9c"
   },
   "outputs": [
    {
     "name": "stderr",
     "output_type": "stream",
     "text": [
      "2020-07-18 03:20:23,461 : INFO : collecting all words and their counts\n",
      "2020-07-18 03:20:23,463 : INFO : PROGRESS: at sentence #0, processed 0 words, keeping 0 word types\n",
      "2020-07-18 03:20:23,490 : INFO : PROGRESS: at sentence #10000, processed 72565 words, keeping 14005 word types\n",
      "2020-07-18 03:20:23,515 : INFO : PROGRESS: at sentence #20000, processed 144393 words, keeping 21587 word types\n",
      "2020-07-18 03:20:23,542 : INFO : PROGRESS: at sentence #30000, processed 215826 words, keeping 27541 word types\n",
      "2020-07-18 03:20:23,567 : INFO : PROGRESS: at sentence #40000, processed 288271 words, keeping 32764 word types\n",
      "2020-07-18 03:20:23,594 : INFO : PROGRESS: at sentence #50000, processed 359772 words, keeping 37587 word types\n",
      "2020-07-18 03:20:23,623 : INFO : PROGRESS: at sentence #60000, processed 431431 words, keeping 42198 word types\n",
      "2020-07-18 03:20:23,651 : INFO : PROGRESS: at sentence #70000, processed 503103 words, keeping 46458 word types\n",
      "2020-07-18 03:20:23,678 : INFO : PROGRESS: at sentence #80000, processed 575709 words, keeping 50476 word types\n",
      "2020-07-18 03:20:23,704 : INFO : PROGRESS: at sentence #90000, processed 647100 words, keeping 54140 word types\n",
      "2020-07-18 03:20:23,732 : INFO : PROGRESS: at sentence #100000, processed 718681 words, keeping 57777 word types\n",
      "2020-07-18 03:20:23,759 : INFO : PROGRESS: at sentence #110000, processed 790696 words, keeping 61207 word types\n",
      "2020-07-18 03:20:23,787 : INFO : PROGRESS: at sentence #120000, processed 863134 words, keeping 64583 word types\n",
      "2020-07-18 03:20:23,814 : INFO : PROGRESS: at sentence #130000, processed 935111 words, keeping 67865 word types\n",
      "2020-07-18 03:20:23,841 : INFO : PROGRESS: at sentence #140000, processed 1006668 words, keeping 70966 word types\n",
      "2020-07-18 03:20:23,869 : INFO : PROGRESS: at sentence #150000, processed 1078512 words, keeping 74119 word types\n",
      "2020-07-18 03:20:23,896 : INFO : PROGRESS: at sentence #160000, processed 1149914 words, keeping 77187 word types\n",
      "2020-07-18 03:20:23,924 : INFO : PROGRESS: at sentence #170000, processed 1222145 words, keeping 80267 word types\n",
      "2020-07-18 03:20:23,951 : INFO : PROGRESS: at sentence #180000, processed 1294708 words, keeping 83393 word types\n",
      "2020-07-18 03:20:23,980 : INFO : PROGRESS: at sentence #190000, processed 1367608 words, keeping 86329 word types\n",
      "2020-07-18 03:20:24,010 : INFO : PROGRESS: at sentence #200000, processed 1439469 words, keeping 89103 word types\n",
      "2020-07-18 03:20:24,037 : INFO : PROGRESS: at sentence #210000, processed 1512099 words, keeping 91840 word types\n",
      "2020-07-18 03:20:24,065 : INFO : PROGRESS: at sentence #220000, processed 1584149 words, keeping 94636 word types\n",
      "2020-07-18 03:20:24,093 : INFO : PROGRESS: at sentence #230000, processed 1656354 words, keeping 97353 word types\n",
      "2020-07-18 03:20:24,121 : INFO : PROGRESS: at sentence #240000, processed 1728573 words, keeping 99975 word types\n",
      "2020-07-18 03:20:24,149 : INFO : PROGRESS: at sentence #250000, processed 1801102 words, keeping 102594 word types\n",
      "2020-07-18 03:20:24,176 : INFO : PROGRESS: at sentence #260000, processed 1873103 words, keeping 105162 word types\n",
      "2020-07-18 03:20:24,203 : INFO : PROGRESS: at sentence #270000, processed 1945245 words, keeping 107626 word types\n",
      "2020-07-18 03:20:24,231 : INFO : PROGRESS: at sentence #280000, processed 2017163 words, keeping 110141 word types\n",
      "2020-07-18 03:20:24,260 : INFO : PROGRESS: at sentence #290000, processed 2089574 words, keeping 112539 word types\n",
      "2020-07-18 03:20:24,288 : INFO : PROGRESS: at sentence #300000, processed 2160996 words, keeping 114893 word types\n",
      "2020-07-18 03:20:24,315 : INFO : PROGRESS: at sentence #310000, processed 2232913 words, keeping 117298 word types\n",
      "2020-07-18 03:20:24,345 : INFO : PROGRESS: at sentence #320000, processed 2305039 words, keeping 119693 word types\n",
      "2020-07-18 03:20:24,372 : INFO : PROGRESS: at sentence #330000, processed 2377119 words, keeping 122131 word types\n",
      "2020-07-18 03:20:24,401 : INFO : PROGRESS: at sentence #340000, processed 2449370 words, keeping 124416 word types\n",
      "2020-07-18 03:20:24,435 : INFO : PROGRESS: at sentence #350000, processed 2521564 words, keeping 126669 word types\n",
      "2020-07-18 03:20:24,476 : INFO : PROGRESS: at sentence #360000, processed 2593681 words, keeping 128912 word types\n",
      "2020-07-18 03:20:24,517 : INFO : PROGRESS: at sentence #370000, processed 2665692 words, keeping 131135 word types\n",
      "2020-07-18 03:20:24,557 : INFO : PROGRESS: at sentence #380000, processed 2737859 words, keeping 133403 word types\n",
      "2020-07-18 03:20:24,599 : INFO : PROGRESS: at sentence #390000, processed 2809848 words, keeping 135551 word types\n",
      "2020-07-18 03:20:24,644 : INFO : PROGRESS: at sentence #400000, processed 2882438 words, keeping 137742 word types\n",
      "2020-07-18 03:20:24,686 : INFO : PROGRESS: at sentence #410000, processed 2954075 words, keeping 139909 word types\n",
      "2020-07-18 03:20:24,728 : INFO : PROGRESS: at sentence #420000, processed 3026247 words, keeping 142144 word types\n",
      "2020-07-18 03:20:24,769 : INFO : PROGRESS: at sentence #430000, processed 3098659 words, keeping 144364 word types\n",
      "2020-07-18 03:20:24,810 : INFO : PROGRESS: at sentence #440000, processed 3170663 words, keeping 146439 word types\n",
      "2020-07-18 03:20:24,853 : INFO : PROGRESS: at sentence #450000, processed 3243344 words, keeping 148526 word types\n",
      "2020-07-18 03:20:24,894 : INFO : PROGRESS: at sentence #460000, processed 3315466 words, keeping 150610 word types\n",
      "2020-07-18 03:20:24,935 : INFO : PROGRESS: at sentence #470000, processed 3388295 words, keeping 152737 word types\n",
      "2020-07-18 03:20:24,970 : INFO : PROGRESS: at sentence #480000, processed 3460120 words, keeping 154757 word types\n",
      "2020-07-18 03:20:24,998 : INFO : PROGRESS: at sentence #490000, processed 3531883 words, keeping 156825 word types\n",
      "2020-07-18 03:20:25,027 : INFO : PROGRESS: at sentence #500000, processed 3604217 words, keeping 158859 word types\n",
      "2020-07-18 03:20:25,058 : INFO : PROGRESS: at sentence #510000, processed 3676427 words, keeping 160852 word types\n",
      "2020-07-18 03:20:25,088 : INFO : PROGRESS: at sentence #520000, processed 3749045 words, keeping 162863 word types\n",
      "2020-07-18 03:20:25,118 : INFO : PROGRESS: at sentence #530000, processed 3821622 words, keeping 164929 word types\n",
      "2020-07-18 03:20:25,166 : INFO : PROGRESS: at sentence #540000, processed 3893627 words, keeping 166840 word types\n",
      "2020-07-18 03:20:25,207 : INFO : PROGRESS: at sentence #550000, processed 3965477 words, keeping 168799 word types\n",
      "2020-07-18 03:20:25,240 : INFO : PROGRESS: at sentence #560000, processed 4038050 words, keeping 170802 word types\n",
      "2020-07-18 03:20:25,269 : INFO : PROGRESS: at sentence #570000, processed 4110296 words, keeping 172760 word types\n",
      "2020-07-18 03:20:25,298 : INFO : PROGRESS: at sentence #580000, processed 4182385 words, keeping 174635 word types\n",
      "2020-07-18 03:20:25,335 : INFO : PROGRESS: at sentence #590000, processed 4254632 words, keeping 176470 word types\n",
      "2020-07-18 03:20:25,362 : INFO : PROGRESS: at sentence #600000, processed 4326859 words, keeping 178350 word types\n",
      "2020-07-18 03:20:25,390 : INFO : PROGRESS: at sentence #610000, processed 4399183 words, keeping 180290 word types\n",
      "2020-07-18 03:20:25,418 : INFO : PROGRESS: at sentence #620000, processed 4471343 words, keeping 182129 word types\n",
      "2020-07-18 03:20:25,447 : INFO : PROGRESS: at sentence #630000, processed 4543286 words, keeping 184005 word types\n",
      "2020-07-18 03:20:25,474 : INFO : PROGRESS: at sentence #640000, processed 4615780 words, keeping 185835 word types\n",
      "2020-07-18 03:20:25,503 : INFO : PROGRESS: at sentence #650000, processed 4688481 words, keeping 187705 word types\n",
      "2020-07-18 03:20:25,539 : INFO : PROGRESS: at sentence #660000, processed 4760481 words, keeping 189439 word types\n",
      "2020-07-18 03:20:25,567 : INFO : PROGRESS: at sentence #670000, processed 4833024 words, keeping 191232 word types\n",
      "2020-07-18 03:20:25,594 : INFO : PROGRESS: at sentence #680000, processed 4904516 words, keeping 193177 word types\n",
      "2020-07-18 03:20:25,624 : INFO : PROGRESS: at sentence #690000, processed 4976968 words, keeping 194960 word types\n",
      "2020-07-18 03:20:25,652 : INFO : PROGRESS: at sentence #700000, processed 5049412 words, keeping 196725 word types\n",
      "2020-07-18 03:20:25,680 : INFO : PROGRESS: at sentence #710000, processed 5121976 words, keeping 198516 word types\n",
      "2020-07-18 03:20:25,708 : INFO : PROGRESS: at sentence #720000, processed 5193881 words, keeping 200325 word types\n",
      "2020-07-18 03:20:25,736 : INFO : PROGRESS: at sentence #730000, processed 5265467 words, keeping 202133 word types\n",
      "2020-07-18 03:20:25,763 : INFO : PROGRESS: at sentence #740000, processed 5337518 words, keeping 203818 word types\n",
      "2020-07-18 03:20:25,791 : INFO : PROGRESS: at sentence #750000, processed 5409321 words, keeping 205535 word types\n",
      "2020-07-18 03:20:25,819 : INFO : PROGRESS: at sentence #760000, processed 5481512 words, keeping 207282 word types\n",
      "2020-07-18 03:20:25,846 : INFO : PROGRESS: at sentence #770000, processed 5554093 words, keeping 209076 word types\n",
      "2020-07-18 03:20:25,875 : INFO : PROGRESS: at sentence #780000, processed 5625382 words, keeping 210805 word types\n",
      "2020-07-18 03:20:25,903 : INFO : PROGRESS: at sentence #790000, processed 5698066 words, keeping 212618 word types\n",
      "2020-07-18 03:20:25,931 : INFO : PROGRESS: at sentence #800000, processed 5770880 words, keeping 214374 word types\n",
      "2020-07-18 03:20:25,959 : INFO : PROGRESS: at sentence #810000, processed 5843418 words, keeping 216009 word types\n",
      "2020-07-18 03:20:25,987 : INFO : PROGRESS: at sentence #820000, processed 5915628 words, keeping 217804 word types\n",
      "2020-07-18 03:20:26,015 : INFO : PROGRESS: at sentence #830000, processed 5987499 words, keeping 219585 word types\n",
      "2020-07-18 03:20:26,043 : INFO : PROGRESS: at sentence #840000, processed 6058973 words, keeping 221344 word types\n",
      "2020-07-18 03:20:26,071 : INFO : PROGRESS: at sentence #850000, processed 6131125 words, keeping 223002 word types\n",
      "2020-07-18 03:20:26,100 : INFO : PROGRESS: at sentence #860000, processed 6202951 words, keeping 224643 word types\n",
      "2020-07-18 03:20:26,130 : INFO : PROGRESS: at sentence #870000, processed 6275461 words, keeping 226362 word types\n",
      "2020-07-18 03:20:26,162 : INFO : PROGRESS: at sentence #880000, processed 6347661 words, keeping 227986 word types\n",
      "2020-07-18 03:20:26,193 : INFO : PROGRESS: at sentence #890000, processed 6419806 words, keeping 229634 word types\n",
      "2020-07-18 03:20:26,230 : INFO : PROGRESS: at sentence #900000, processed 6491644 words, keeping 231389 word types\n",
      "2020-07-18 03:20:26,261 : INFO : PROGRESS: at sentence #910000, processed 6564022 words, keeping 233050 word types\n",
      "2020-07-18 03:20:26,290 : INFO : PROGRESS: at sentence #920000, processed 6636228 words, keeping 234686 word types\n",
      "2020-07-18 03:20:26,320 : INFO : PROGRESS: at sentence #930000, processed 6708573 words, keeping 236393 word types\n",
      "2020-07-18 03:20:26,350 : INFO : PROGRESS: at sentence #940000, processed 6779956 words, keeping 238052 word types\n",
      "2020-07-18 03:20:26,379 : INFO : PROGRESS: at sentence #950000, processed 6852599 words, keeping 239716 word types\n",
      "2020-07-18 03:20:26,407 : INFO : PROGRESS: at sentence #960000, processed 6924717 words, keeping 241354 word types\n",
      "2020-07-18 03:20:26,436 : INFO : PROGRESS: at sentence #970000, processed 6996992 words, keeping 242980 word types\n",
      "2020-07-18 03:20:26,466 : INFO : PROGRESS: at sentence #980000, processed 7068402 words, keeping 244646 word types\n",
      "2020-07-18 03:20:26,497 : INFO : PROGRESS: at sentence #990000, processed 7140346 words, keeping 246186 word types\n",
      "2020-07-18 03:20:26,528 : INFO : PROGRESS: at sentence #1000000, processed 7211757 words, keeping 247726 word types\n",
      "2020-07-18 03:20:26,560 : INFO : PROGRESS: at sentence #1010000, processed 7283267 words, keeping 249288 word types\n",
      "2020-07-18 03:20:26,592 : INFO : PROGRESS: at sentence #1020000, processed 7355299 words, keeping 250860 word types\n",
      "2020-07-18 03:20:26,624 : INFO : PROGRESS: at sentence #1030000, processed 7426918 words, keeping 252366 word types\n",
      "2020-07-18 03:20:26,653 : INFO : PROGRESS: at sentence #1040000, processed 7498815 words, keeping 253930 word types\n",
      "2020-07-18 03:20:26,681 : INFO : PROGRESS: at sentence #1050000, processed 7570499 words, keeping 255471 word types\n",
      "2020-07-18 03:20:26,710 : INFO : PROGRESS: at sentence #1060000, processed 7643251 words, keeping 257035 word types\n",
      "2020-07-18 03:20:26,739 : INFO : PROGRESS: at sentence #1070000, processed 7714721 words, keeping 258509 word types\n",
      "2020-07-18 03:20:26,767 : INFO : PROGRESS: at sentence #1080000, processed 7787371 words, keeping 260071 word types\n",
      "2020-07-18 03:20:26,796 : INFO : PROGRESS: at sentence #1090000, processed 7859336 words, keeping 261683 word types\n",
      "2020-07-18 03:20:26,825 : INFO : PROGRESS: at sentence #1100000, processed 7932029 words, keeping 263278 word types\n",
      "2020-07-18 03:20:26,854 : INFO : PROGRESS: at sentence #1110000, processed 8004146 words, keeping 264800 word types\n",
      "2020-07-18 03:20:26,882 : INFO : PROGRESS: at sentence #1120000, processed 8075880 words, keeping 266309 word types\n",
      "2020-07-18 03:20:26,912 : INFO : PROGRESS: at sentence #1130000, processed 8148163 words, keeping 267826 word types\n",
      "2020-07-18 03:20:26,940 : INFO : PROGRESS: at sentence #1140000, processed 8220487 words, keeping 269391 word types\n",
      "2020-07-18 03:20:26,971 : INFO : PROGRESS: at sentence #1150000, processed 8292498 words, keeping 270894 word types\n",
      "2020-07-18 03:20:26,999 : INFO : PROGRESS: at sentence #1160000, processed 8363838 words, keeping 272400 word types\n",
      "2020-07-18 03:20:27,027 : INFO : PROGRESS: at sentence #1170000, processed 8435510 words, keeping 273970 word types\n",
      "2020-07-18 03:20:27,056 : INFO : PROGRESS: at sentence #1180000, processed 8507795 words, keeping 275521 word types\n",
      "2020-07-18 03:20:27,084 : INFO : PROGRESS: at sentence #1190000, processed 8579080 words, keeping 277007 word types\n",
      "2020-07-18 03:20:27,112 : INFO : PROGRESS: at sentence #1200000, processed 8650606 words, keeping 278457 word types\n",
      "2020-07-18 03:20:27,147 : INFO : PROGRESS: at sentence #1210000, processed 8721893 words, keeping 279959 word types\n",
      "2020-07-18 03:20:27,186 : INFO : PROGRESS: at sentence #1220000, processed 8793795 words, keeping 281427 word types\n",
      "2020-07-18 03:20:27,215 : INFO : PROGRESS: at sentence #1230000, processed 8865726 words, keeping 282981 word types\n",
      "2020-07-18 03:20:27,249 : INFO : PROGRESS: at sentence #1240000, processed 8938173 words, keeping 284542 word types\n",
      "2020-07-18 03:20:27,282 : INFO : PROGRESS: at sentence #1250000, processed 9010842 words, keeping 286064 word types\n",
      "2020-07-18 03:20:27,311 : INFO : PROGRESS: at sentence #1260000, processed 9083261 words, keeping 287521 word types\n",
      "2020-07-18 03:20:27,342 : INFO : PROGRESS: at sentence #1270000, processed 9155616 words, keeping 288987 word types\n",
      "2020-07-18 03:20:27,371 : INFO : collected 290418 word types from a corpus of 9227204 raw words and 1280000 sentences\n",
      "2020-07-18 03:20:27,372 : INFO : Loading a fresh vocabulary\n",
      "2020-07-18 03:20:27,648 : INFO : effective_min_count=10 retains 30369 unique words (10% of original 290418, drops 260049)\n",
      "2020-07-18 03:20:27,649 : INFO : effective_min_count=10 leaves 8780739 word corpus (95% of original 9227204, drops 446465)\n",
      "2020-07-18 03:20:27,799 : INFO : deleting the raw counts dictionary of 290418 items\n",
      "2020-07-18 03:20:27,807 : INFO : sample=0.001 downsamples 45 most-common words\n",
      "2020-07-18 03:20:27,808 : INFO : downsampling leaves estimated 8222658 word corpus (93.6% of prior 8780739)\n",
      "2020-07-18 03:20:27,916 : INFO : estimated required memory for 30369 words and 300 dimensions: 88070100 bytes\n",
      "2020-07-18 03:20:27,917 : INFO : resetting layer weights\n"
     ]
    }
   ],
   "source": [
    "w2v_model.build_vocab(documents)"
   ]
  },
  {
   "cell_type": "code",
   "execution_count": 21,
   "metadata": {
    "_uuid": "72a5628ca81fd4b8983c12d93ae0bf950b86b6ae"
   },
   "outputs": [
    {
     "name": "stdout",
     "output_type": "stream",
     "text": [
      "Vocab size 30369\n"
     ]
    }
   ],
   "source": [
    "words = w2v_model.wv.vocab.keys()\n",
    "vocab_size = len(words)\n",
    "print(\"Vocab size\", vocab_size)"
   ]
  },
  {
   "cell_type": "code",
   "execution_count": 22,
   "metadata": {
    "_uuid": "68c3e4a5ba07cac3dee67f78ecdd1404c7f83f14"
   },
   "outputs": [
    {
     "name": "stderr",
     "output_type": "stream",
     "text": [
      "2020-07-18 03:20:28,447 : INFO : training model with 8 workers on 30369 vocabulary and 300 features, using sg=0 hs=0 sample=0.001 negative=5 window=7\n",
      "2020-07-18 03:20:29,517 : INFO : EPOCH 1 - PROGRESS: at 3.58% examples, 277473 words/s, in_qsize 14, out_qsize 2\n",
      "2020-07-18 03:20:30,563 : INFO : EPOCH 1 - PROGRESS: at 7.93% examples, 308803 words/s, in_qsize 15, out_qsize 0\n",
      "2020-07-18 03:20:31,626 : INFO : EPOCH 1 - PROGRESS: at 12.06% examples, 312103 words/s, in_qsize 14, out_qsize 2\n",
      "2020-07-18 03:20:32,663 : INFO : EPOCH 1 - PROGRESS: at 16.16% examples, 315553 words/s, in_qsize 15, out_qsize 0\n",
      "2020-07-18 03:20:33,671 : INFO : EPOCH 1 - PROGRESS: at 19.19% examples, 302336 words/s, in_qsize 13, out_qsize 2\n",
      "2020-07-18 03:20:34,792 : INFO : EPOCH 1 - PROGRESS: at 23.95% examples, 310770 words/s, in_qsize 14, out_qsize 2\n",
      "2020-07-18 03:20:35,816 : INFO : EPOCH 1 - PROGRESS: at 28.72% examples, 320787 words/s, in_qsize 15, out_qsize 0\n",
      "2020-07-18 03:20:36,838 : INFO : EPOCH 1 - PROGRESS: at 33.81% examples, 331654 words/s, in_qsize 16, out_qsize 0\n",
      "2020-07-18 03:20:37,870 : INFO : EPOCH 1 - PROGRESS: at 38.35% examples, 335027 words/s, in_qsize 16, out_qsize 1\n",
      "2020-07-18 03:20:38,911 : INFO : EPOCH 1 - PROGRESS: at 43.00% examples, 338299 words/s, in_qsize 14, out_qsize 1\n",
      "2020-07-18 03:20:39,937 : INFO : EPOCH 1 - PROGRESS: at 47.76% examples, 342797 words/s, in_qsize 13, out_qsize 3\n",
      "2020-07-18 03:20:40,933 : INFO : EPOCH 1 - PROGRESS: at 51.43% examples, 339207 words/s, in_qsize 14, out_qsize 1\n",
      "2020-07-18 03:20:42,072 : INFO : EPOCH 1 - PROGRESS: at 56.29% examples, 340290 words/s, in_qsize 15, out_qsize 2\n",
      "2020-07-18 03:20:43,117 : INFO : EPOCH 1 - PROGRESS: at 60.30% examples, 338519 words/s, in_qsize 15, out_qsize 0\n",
      "2020-07-18 03:20:44,152 : INFO : EPOCH 1 - PROGRESS: at 63.97% examples, 335986 words/s, in_qsize 15, out_qsize 0\n",
      "2020-07-18 03:20:45,145 : INFO : EPOCH 1 - PROGRESS: at 68.10% examples, 335783 words/s, in_qsize 12, out_qsize 0\n",
      "2020-07-18 03:20:46,164 : INFO : EPOCH 1 - PROGRESS: at 71.99% examples, 334600 words/s, in_qsize 13, out_qsize 5\n",
      "2020-07-18 03:20:47,264 : INFO : EPOCH 1 - PROGRESS: at 76.98% examples, 336776 words/s, in_qsize 9, out_qsize 6\n",
      "2020-07-18 03:20:48,301 : INFO : EPOCH 1 - PROGRESS: at 81.99% examples, 339808 words/s, in_qsize 15, out_qsize 0\n",
      "2020-07-18 03:20:49,382 : INFO : EPOCH 1 - PROGRESS: at 86.96% examples, 341822 words/s, in_qsize 16, out_qsize 0\n",
      "2020-07-18 03:20:50,398 : INFO : EPOCH 1 - PROGRESS: at 91.63% examples, 343434 words/s, in_qsize 14, out_qsize 1\n",
      "2020-07-18 03:20:51,398 : INFO : EPOCH 1 - PROGRESS: at 96.53% examples, 345922 words/s, in_qsize 15, out_qsize 0\n",
      "2020-07-18 03:20:52,003 : INFO : worker thread finished; awaiting finish of 7 more threads\n",
      "2020-07-18 03:20:52,017 : INFO : worker thread finished; awaiting finish of 6 more threads\n",
      "2020-07-18 03:20:52,043 : INFO : worker thread finished; awaiting finish of 5 more threads\n",
      "2020-07-18 03:20:52,045 : INFO : worker thread finished; awaiting finish of 4 more threads\n",
      "2020-07-18 03:20:52,057 : INFO : worker thread finished; awaiting finish of 3 more threads\n",
      "2020-07-18 03:20:52,075 : INFO : worker thread finished; awaiting finish of 2 more threads\n",
      "2020-07-18 03:20:52,080 : INFO : worker thread finished; awaiting finish of 1 more threads\n",
      "2020-07-18 03:20:52,086 : INFO : worker thread finished; awaiting finish of 0 more threads\n",
      "2020-07-18 03:20:52,087 : INFO : EPOCH - 1 : training on 9227204 raw words (8221628 effective words) took 23.6s, 347941 effective words/s\n",
      "2020-07-18 03:20:53,194 : INFO : EPOCH 2 - PROGRESS: at 4.34% examples, 324499 words/s, in_qsize 15, out_qsize 0\n",
      "2020-07-18 03:20:54,203 : INFO : EPOCH 2 - PROGRESS: at 8.26% examples, 321319 words/s, in_qsize 13, out_qsize 1\n",
      "2020-07-18 03:20:55,221 : INFO : EPOCH 2 - PROGRESS: at 11.51% examples, 302240 words/s, in_qsize 15, out_qsize 0\n",
      "2020-07-18 03:20:56,251 : INFO : EPOCH 2 - PROGRESS: at 16.05% examples, 317341 words/s, in_qsize 14, out_qsize 1\n",
      "2020-07-18 03:20:57,257 : INFO : EPOCH 2 - PROGRESS: at 20.81% examples, 331454 words/s, in_qsize 13, out_qsize 0\n",
      "2020-07-18 03:20:58,286 : INFO : EPOCH 2 - PROGRESS: at 25.59% examples, 339704 words/s, in_qsize 15, out_qsize 0\n",
      "2020-07-18 03:20:59,309 : INFO : EPOCH 2 - PROGRESS: at 30.35% examples, 345899 words/s, in_qsize 16, out_qsize 1\n",
      "2020-07-18 03:21:00,374 : INFO : EPOCH 2 - PROGRESS: at 34.78% examples, 345492 words/s, in_qsize 14, out_qsize 1\n",
      "2020-07-18 03:21:01,393 : INFO : EPOCH 2 - PROGRESS: at 39.65% examples, 350742 words/s, in_qsize 15, out_qsize 0\n",
      "2020-07-18 03:21:02,408 : INFO : EPOCH 2 - PROGRESS: at 44.29% examples, 353400 words/s, in_qsize 15, out_qsize 0\n",
      "2020-07-18 03:21:03,415 : INFO : EPOCH 2 - PROGRESS: at 49.06% examples, 356552 words/s, in_qsize 13, out_qsize 0\n",
      "2020-07-18 03:21:04,460 : INFO : EPOCH 2 - PROGRESS: at 52.95% examples, 352392 words/s, in_qsize 14, out_qsize 2\n",
      "2020-07-18 03:21:05,481 : INFO : EPOCH 2 - PROGRESS: at 57.38% examples, 352805 words/s, in_qsize 16, out_qsize 0\n",
      "2020-07-18 03:21:06,482 : INFO : EPOCH 2 - PROGRESS: at 60.19% examples, 344356 words/s, in_qsize 6, out_qsize 1\n",
      "2020-07-18 03:21:07,557 : INFO : EPOCH 2 - PROGRESS: at 64.73% examples, 344607 words/s, in_qsize 14, out_qsize 1\n",
      "2020-07-18 03:21:08,606 : INFO : EPOCH 2 - PROGRESS: at 69.83% examples, 348065 words/s, in_qsize 15, out_qsize 0\n",
      "2020-07-18 03:21:09,622 : INFO : EPOCH 2 - PROGRESS: at 74.26% examples, 348719 words/s, in_qsize 12, out_qsize 4\n",
      "2020-07-18 03:21:10,716 : INFO : EPOCH 2 - PROGRESS: at 79.27% examples, 350250 words/s, in_qsize 15, out_qsize 0\n",
      "2020-07-18 03:21:11,761 : INFO : EPOCH 2 - PROGRESS: at 84.26% examples, 352483 words/s, in_qsize 13, out_qsize 2\n",
      "2020-07-18 03:21:12,795 : INFO : EPOCH 2 - PROGRESS: at 87.84% examples, 349062 words/s, in_qsize 13, out_qsize 2\n",
      "2020-07-18 03:21:13,799 : INFO : EPOCH 2 - PROGRESS: at 92.50% examples, 350548 words/s, in_qsize 13, out_qsize 1\n",
      "2020-07-18 03:21:14,875 : INFO : EPOCH 2 - PROGRESS: at 97.06% examples, 350760 words/s, in_qsize 15, out_qsize 2\n",
      "2020-07-18 03:21:15,248 : INFO : worker thread finished; awaiting finish of 7 more threads\n",
      "2020-07-18 03:21:15,267 : INFO : worker thread finished; awaiting finish of 6 more threads\n",
      "2020-07-18 03:21:15,277 : INFO : worker thread finished; awaiting finish of 5 more threads\n",
      "2020-07-18 03:21:15,290 : INFO : worker thread finished; awaiting finish of 4 more threads\n",
      "2020-07-18 03:21:15,316 : INFO : worker thread finished; awaiting finish of 3 more threads\n",
      "2020-07-18 03:21:15,318 : INFO : worker thread finished; awaiting finish of 2 more threads\n",
      "2020-07-18 03:21:15,341 : INFO : worker thread finished; awaiting finish of 1 more threads\n",
      "2020-07-18 03:21:15,353 : INFO : worker thread finished; awaiting finish of 0 more threads\n",
      "2020-07-18 03:21:15,358 : INFO : EPOCH - 2 : training on 9227204 raw words (8223124 effective words) took 23.3s, 353511 effective words/s\n",
      "2020-07-18 03:21:16,393 : INFO : EPOCH 3 - PROGRESS: at 3.25% examples, 262936 words/s, in_qsize 15, out_qsize 0\n",
      "2020-07-18 03:21:17,617 : INFO : EPOCH 3 - PROGRESS: at 6.95% examples, 254284 words/s, in_qsize 12, out_qsize 3\n",
      "2020-07-18 03:21:18,621 : INFO : EPOCH 3 - PROGRESS: at 11.84% examples, 299189 words/s, in_qsize 14, out_qsize 2\n",
      "2020-07-18 03:21:19,633 : INFO : EPOCH 3 - PROGRESS: at 15.95% examples, 307526 words/s, in_qsize 15, out_qsize 0\n",
      "2020-07-18 03:21:20,634 : INFO : EPOCH 3 - PROGRESS: at 18.87% examples, 294682 words/s, in_qsize 13, out_qsize 2\n",
      "2020-07-18 03:21:21,657 : INFO : EPOCH 3 - PROGRESS: at 22.22% examples, 290669 words/s, in_qsize 15, out_qsize 1\n",
      "2020-07-18 03:21:22,680 : INFO : EPOCH 3 - PROGRESS: at 26.67% examples, 299980 words/s, in_qsize 14, out_qsize 1\n",
      "2020-07-18 03:21:23,705 : INFO : EPOCH 3 - PROGRESS: at 31.32% examples, 309100 words/s, in_qsize 12, out_qsize 3\n",
      "2020-07-18 03:21:24,714 : INFO : EPOCH 3 - PROGRESS: at 36.18% examples, 318630 words/s, in_qsize 16, out_qsize 0\n",
      "2020-07-18 03:21:25,735 : INFO : EPOCH 3 - PROGRESS: at 40.51% examples, 321637 words/s, in_qsize 15, out_qsize 1\n",
      "2020-07-18 03:21:26,794 : INFO : EPOCH 3 - PROGRESS: at 44.40% examples, 320446 words/s, in_qsize 13, out_qsize 4\n",
      "2020-07-18 03:21:27,788 : INFO : EPOCH 3 - PROGRESS: at 48.30% examples, 320092 words/s, in_qsize 12, out_qsize 2\n",
      "2020-07-18 03:21:28,810 : INFO : EPOCH 3 - PROGRESS: at 51.43% examples, 315384 words/s, in_qsize 13, out_qsize 5\n",
      "2020-07-18 03:21:29,862 : INFO : EPOCH 3 - PROGRESS: at 55.97% examples, 317961 words/s, in_qsize 13, out_qsize 2\n",
      "2020-07-18 03:21:30,932 : INFO : EPOCH 3 - PROGRESS: at 60.74% examples, 321710 words/s, in_qsize 15, out_qsize 0\n",
      "2020-07-18 03:21:31,939 : INFO : EPOCH 3 - PROGRESS: at 65.28% examples, 324342 words/s, in_qsize 16, out_qsize 4\n",
      "2020-07-18 03:21:32,963 : INFO : EPOCH 3 - PROGRESS: at 69.94% examples, 327229 words/s, in_qsize 15, out_qsize 0\n",
      "2020-07-18 03:21:33,997 : INFO : EPOCH 3 - PROGRESS: at 74.48% examples, 329146 words/s, in_qsize 14, out_qsize 1\n",
      "2020-07-18 03:21:35,043 : INFO : EPOCH 3 - PROGRESS: at 79.27% examples, 331555 words/s, in_qsize 11, out_qsize 4\n",
      "2020-07-18 03:21:36,047 : INFO : EPOCH 3 - PROGRESS: at 84.26% examples, 335284 words/s, in_qsize 14, out_qsize 0\n",
      "2020-07-18 03:21:37,052 : INFO : EPOCH 3 - PROGRESS: at 88.59% examples, 336175 words/s, in_qsize 14, out_qsize 1\n",
      "2020-07-18 03:21:38,062 : INFO : EPOCH 3 - PROGRESS: at 92.83% examples, 336506 words/s, in_qsize 15, out_qsize 0\n",
      "2020-07-18 03:21:39,155 : INFO : EPOCH 3 - PROGRESS: at 96.74% examples, 334531 words/s, in_qsize 12, out_qsize 2\n",
      "2020-07-18 03:21:39,725 : INFO : worker thread finished; awaiting finish of 7 more threads\n",
      "2020-07-18 03:21:39,751 : INFO : worker thread finished; awaiting finish of 6 more threads\n",
      "2020-07-18 03:21:39,764 : INFO : worker thread finished; awaiting finish of 5 more threads\n",
      "2020-07-18 03:21:39,774 : INFO : worker thread finished; awaiting finish of 4 more threads\n",
      "2020-07-18 03:21:39,780 : INFO : worker thread finished; awaiting finish of 3 more threads\n",
      "2020-07-18 03:21:39,788 : INFO : worker thread finished; awaiting finish of 2 more threads\n",
      "2020-07-18 03:21:39,809 : INFO : worker thread finished; awaiting finish of 1 more threads\n",
      "2020-07-18 03:21:39,811 : INFO : worker thread finished; awaiting finish of 0 more threads\n",
      "2020-07-18 03:21:39,813 : INFO : EPOCH - 3 : training on 9227204 raw words (8222942 effective words) took 24.4s, 336501 effective words/s\n",
      "2020-07-18 03:21:40,847 : INFO : EPOCH 4 - PROGRESS: at 3.80% examples, 306119 words/s, in_qsize 15, out_qsize 0\n",
      "2020-07-18 03:21:41,883 : INFO : EPOCH 4 - PROGRESS: at 7.82% examples, 312160 words/s, in_qsize 14, out_qsize 1\n",
      "2020-07-18 03:21:42,910 : INFO : EPOCH 4 - PROGRESS: at 12.28% examples, 326739 words/s, in_qsize 15, out_qsize 0\n",
      "2020-07-18 03:21:43,918 : INFO : EPOCH 4 - PROGRESS: at 15.51% examples, 311580 words/s, in_qsize 15, out_qsize 1\n",
      "2020-07-18 03:21:44,929 : INFO : EPOCH 4 - PROGRESS: at 20.38% examples, 328357 words/s, in_qsize 16, out_qsize 1\n",
      "2020-07-18 03:21:45,977 : INFO : EPOCH 4 - PROGRESS: at 24.72% examples, 330401 words/s, in_qsize 15, out_qsize 0\n",
      "2020-07-18 03:21:46,995 : INFO : EPOCH 4 - PROGRESS: at 29.26% examples, 335687 words/s, in_qsize 13, out_qsize 2\n",
      "2020-07-18 03:21:48,000 : INFO : EPOCH 4 - PROGRESS: at 33.59% examples, 337979 words/s, in_qsize 14, out_qsize 1\n",
      "2020-07-18 03:21:49,025 : INFO : EPOCH 4 - PROGRESS: at 37.48% examples, 335193 words/s, in_qsize 15, out_qsize 0\n",
      "2020-07-18 03:21:50,192 : INFO : EPOCH 4 - PROGRESS: at 41.26% examples, 327542 words/s, in_qsize 15, out_qsize 0\n",
      "2020-07-18 03:21:51,196 : INFO : EPOCH 4 - PROGRESS: at 45.59% examples, 329942 words/s, in_qsize 16, out_qsize 0\n",
      "2020-07-18 03:21:52,204 : INFO : EPOCH 4 - PROGRESS: at 49.81% examples, 331139 words/s, in_qsize 16, out_qsize 0\n",
      "2020-07-18 03:21:53,229 : INFO : EPOCH 4 - PROGRESS: at 54.78% examples, 336417 words/s, in_qsize 15, out_qsize 0\n",
      "2020-07-18 03:21:54,250 : INFO : EPOCH 4 - PROGRESS: at 59.66% examples, 340407 words/s, in_qsize 16, out_qsize 0\n",
      "2020-07-18 03:21:55,266 : INFO : EPOCH 4 - PROGRESS: at 63.97% examples, 341083 words/s, in_qsize 15, out_qsize 0\n",
      "2020-07-18 03:21:56,279 : INFO : EPOCH 4 - PROGRESS: at 68.86% examples, 344423 words/s, in_qsize 12, out_qsize 0\n",
      "2020-07-18 03:21:57,295 : INFO : EPOCH 4 - PROGRESS: at 73.62% examples, 346814 words/s, in_qsize 14, out_qsize 0\n",
      "2020-07-18 03:21:58,300 : INFO : EPOCH 4 - PROGRESS: at 78.29% examples, 348669 words/s, in_qsize 14, out_qsize 0\n",
      "2020-07-18 03:21:59,328 : INFO : EPOCH 4 - PROGRESS: at 82.74% examples, 349023 words/s, in_qsize 14, out_qsize 2\n",
      "2020-07-18 03:22:00,475 : INFO : EPOCH 4 - PROGRESS: at 87.07% examples, 346895 words/s, in_qsize 15, out_qsize 0\n",
      "2020-07-18 03:22:01,740 : INFO : EPOCH 4 - PROGRESS: at 91.31% examples, 342714 words/s, in_qsize 13, out_qsize 2\n",
      "2020-07-18 03:22:02,770 : INFO : EPOCH 4 - PROGRESS: at 95.99% examples, 344103 words/s, in_qsize 15, out_qsize 2\n",
      "2020-07-18 03:22:03,362 : INFO : worker thread finished; awaiting finish of 7 more threads\n",
      "2020-07-18 03:22:03,377 : INFO : worker thread finished; awaiting finish of 6 more threads\n",
      "2020-07-18 03:22:03,379 : INFO : worker thread finished; awaiting finish of 5 more threads\n",
      "2020-07-18 03:22:03,379 : INFO : worker thread finished; awaiting finish of 4 more threads\n",
      "2020-07-18 03:22:03,395 : INFO : worker thread finished; awaiting finish of 3 more threads\n",
      "2020-07-18 03:22:03,427 : INFO : worker thread finished; awaiting finish of 2 more threads\n",
      "2020-07-18 03:22:03,439 : INFO : worker thread finished; awaiting finish of 1 more threads\n",
      "2020-07-18 03:22:03,445 : INFO : worker thread finished; awaiting finish of 0 more threads\n",
      "2020-07-18 03:22:03,446 : INFO : EPOCH - 4 : training on 9227204 raw words (8222023 effective words) took 23.6s, 348149 effective words/s\n",
      "2020-07-18 03:22:04,537 : INFO : EPOCH 5 - PROGRESS: at 4.34% examples, 329641 words/s, in_qsize 15, out_qsize 0\n",
      "2020-07-18 03:22:05,539 : INFO : EPOCH 5 - PROGRESS: at 9.34% examples, 367954 words/s, in_qsize 13, out_qsize 2\n",
      "2020-07-18 03:22:06,651 : INFO : EPOCH 5 - PROGRESS: at 14.22% examples, 365331 words/s, in_qsize 16, out_qsize 2\n",
      "2020-07-18 03:22:07,695 : INFO : EPOCH 5 - PROGRESS: at 19.62% examples, 380361 words/s, in_qsize 15, out_qsize 0\n",
      "2020-07-18 03:22:08,702 : INFO : EPOCH 5 - PROGRESS: at 24.39% examples, 382127 words/s, in_qsize 16, out_qsize 0\n",
      "2020-07-18 03:22:09,793 : INFO : EPOCH 5 - PROGRESS: at 29.05% examples, 376733 words/s, in_qsize 14, out_qsize 1\n",
      "2020-07-18 03:22:10,814 : INFO : EPOCH 5 - PROGRESS: at 33.59% examples, 375313 words/s, in_qsize 15, out_qsize 0\n",
      "2020-07-18 03:22:11,838 : INFO : EPOCH 5 - PROGRESS: at 37.37% examples, 366678 words/s, in_qsize 13, out_qsize 2\n",
      "2020-07-18 03:22:12,879 : INFO : EPOCH 5 - PROGRESS: at 41.05% examples, 358309 words/s, in_qsize 13, out_qsize 0\n",
      "2020-07-18 03:22:13,909 : INFO : EPOCH 5 - PROGRESS: at 45.59% examples, 358797 words/s, in_qsize 16, out_qsize 0\n",
      "2020-07-18 03:22:14,926 : INFO : EPOCH 5 - PROGRESS: at 49.59% examples, 355745 words/s, in_qsize 11, out_qsize 1\n",
      "2020-07-18 03:22:15,967 : INFO : EPOCH 5 - PROGRESS: at 54.02% examples, 355501 words/s, in_qsize 15, out_qsize 2\n",
      "2020-07-18 03:22:16,989 : INFO : EPOCH 5 - PROGRESS: at 58.90% examples, 358134 words/s, in_qsize 15, out_qsize 0\n",
      "2020-07-18 03:22:18,025 : INFO : EPOCH 5 - PROGRESS: at 64.30% examples, 363219 words/s, in_qsize 14, out_qsize 1\n",
      "2020-07-18 03:22:19,041 : INFO : EPOCH 5 - PROGRESS: at 69.07% examples, 364720 words/s, in_qsize 14, out_qsize 2\n",
      "2020-07-18 03:22:20,104 : INFO : EPOCH 5 - PROGRESS: at 72.53% examples, 358536 words/s, in_qsize 14, out_qsize 1\n",
      "2020-07-18 03:22:21,151 : INFO : EPOCH 5 - PROGRESS: at 76.33% examples, 355117 words/s, in_qsize 15, out_qsize 0\n",
      "2020-07-18 03:22:22,208 : INFO : EPOCH 5 - PROGRESS: at 79.81% examples, 350103 words/s, in_qsize 16, out_qsize 2\n",
      "2020-07-18 03:22:23,238 : INFO : EPOCH 5 - PROGRESS: at 83.83% examples, 348559 words/s, in_qsize 13, out_qsize 0\n",
      "2020-07-18 03:22:24,258 : INFO : EPOCH 5 - PROGRESS: at 88.37% examples, 349437 words/s, in_qsize 15, out_qsize 0\n",
      "2020-07-18 03:22:25,291 : INFO : EPOCH 5 - PROGRESS: at 92.17% examples, 347180 words/s, in_qsize 15, out_qsize 0\n",
      "2020-07-18 03:22:26,293 : INFO : EPOCH 5 - PROGRESS: at 96.21% examples, 346377 words/s, in_qsize 15, out_qsize 0\n",
      "2020-07-18 03:22:26,891 : INFO : worker thread finished; awaiting finish of 7 more threads\n",
      "2020-07-18 03:22:26,926 : INFO : worker thread finished; awaiting finish of 6 more threads\n",
      "2020-07-18 03:22:26,938 : INFO : worker thread finished; awaiting finish of 5 more threads\n",
      "2020-07-18 03:22:26,942 : INFO : worker thread finished; awaiting finish of 4 more threads\n",
      "2020-07-18 03:22:26,943 : INFO : worker thread finished; awaiting finish of 3 more threads\n",
      "2020-07-18 03:22:26,967 : INFO : worker thread finished; awaiting finish of 2 more threads\n",
      "2020-07-18 03:22:26,970 : INFO : worker thread finished; awaiting finish of 1 more threads\n",
      "2020-07-18 03:22:26,973 : INFO : worker thread finished; awaiting finish of 0 more threads\n",
      "2020-07-18 03:22:26,974 : INFO : EPOCH - 5 : training on 9227204 raw words (8222606 effective words) took 23.5s, 349636 effective words/s\n",
      "2020-07-18 03:22:28,015 : INFO : EPOCH 6 - PROGRESS: at 4.02% examples, 319504 words/s, in_qsize 14, out_qsize 2\n",
      "2020-07-18 03:22:29,017 : INFO : EPOCH 6 - PROGRESS: at 8.58% examples, 346084 words/s, in_qsize 11, out_qsize 4\n",
      "2020-07-18 03:22:30,053 : INFO : EPOCH 6 - PROGRESS: at 13.47% examples, 359888 words/s, in_qsize 14, out_qsize 1\n",
      "2020-07-18 03:22:31,062 : INFO : EPOCH 6 - PROGRESS: at 18.00% examples, 362425 words/s, in_qsize 15, out_qsize 1\n",
      "2020-07-18 03:22:32,109 : INFO : EPOCH 6 - PROGRESS: at 22.00% examples, 352732 words/s, in_qsize 16, out_qsize 1\n",
      "2020-07-18 03:22:33,121 : INFO : EPOCH 6 - PROGRESS: at 26.02% examples, 348345 words/s, in_qsize 16, out_qsize 1\n",
      "2020-07-18 03:22:34,123 : INFO : EPOCH 6 - PROGRESS: at 29.26% examples, 336841 words/s, in_qsize 15, out_qsize 0\n",
      "2020-07-18 03:22:35,170 : INFO : EPOCH 6 - PROGRESS: at 34.46% examples, 346009 words/s, in_qsize 15, out_qsize 0\n",
      "2020-07-18 03:22:36,186 : INFO : EPOCH 6 - PROGRESS: at 39.00% examples, 348433 words/s, in_qsize 15, out_qsize 2\n",
      "2020-07-18 03:22:37,190 : INFO : EPOCH 6 - PROGRESS: at 43.86% examples, 353451 words/s, in_qsize 15, out_qsize 0\n",
      "2020-07-18 03:22:38,236 : INFO : EPOCH 6 - PROGRESS: at 48.73% examples, 356232 words/s, in_qsize 14, out_qsize 1\n",
      "2020-07-18 03:22:39,297 : INFO : EPOCH 6 - PROGRESS: at 53.38% examples, 357876 words/s, in_qsize 16, out_qsize 6\n",
      "2020-07-18 03:22:40,259 : INFO : EPOCH 6 - PROGRESS: at 58.68% examples, 363696 words/s, in_qsize 15, out_qsize 0\n",
      "2020-07-18 03:22:41,279 : INFO : EPOCH 6 - PROGRESS: at 63.65% examples, 366410 words/s, in_qsize 16, out_qsize 1\n",
      "2020-07-18 03:22:42,322 : INFO : EPOCH 6 - PROGRESS: at 68.54% examples, 367602 words/s, in_qsize 15, out_qsize 0\n",
      "2020-07-18 03:22:43,335 : INFO : EPOCH 6 - PROGRESS: at 71.99% examples, 362254 words/s, in_qsize 15, out_qsize 2\n",
      "2020-07-18 03:22:44,489 : INFO : EPOCH 6 - PROGRESS: at 76.11% examples, 357696 words/s, in_qsize 15, out_qsize 0\n",
      "2020-07-18 03:22:45,498 : INFO : EPOCH 6 - PROGRESS: at 80.36% examples, 357054 words/s, in_qsize 15, out_qsize 3\n",
      "2020-07-18 03:22:46,522 : INFO : EPOCH 6 - PROGRESS: at 84.48% examples, 355576 words/s, in_qsize 14, out_qsize 2\n",
      "2020-07-18 03:22:47,532 : INFO : EPOCH 6 - PROGRESS: at 89.13% examples, 356720 words/s, in_qsize 16, out_qsize 0\n",
      "2020-07-18 03:22:48,564 : INFO : EPOCH 6 - PROGRESS: at 93.92% examples, 357815 words/s, in_qsize 15, out_qsize 0\n",
      "2020-07-18 03:22:49,609 : INFO : EPOCH 6 - PROGRESS: at 98.90% examples, 359388 words/s, in_qsize 11, out_qsize 0\n",
      "2020-07-18 03:22:49,637 : INFO : worker thread finished; awaiting finish of 7 more threads\n",
      "2020-07-18 03:22:49,658 : INFO : worker thread finished; awaiting finish of 6 more threads\n",
      "2020-07-18 03:22:49,662 : INFO : worker thread finished; awaiting finish of 5 more threads\n",
      "2020-07-18 03:22:49,674 : INFO : worker thread finished; awaiting finish of 4 more threads\n",
      "2020-07-18 03:22:49,680 : INFO : worker thread finished; awaiting finish of 3 more threads\n",
      "2020-07-18 03:22:49,703 : INFO : worker thread finished; awaiting finish of 2 more threads\n",
      "2020-07-18 03:22:49,707 : INFO : worker thread finished; awaiting finish of 1 more threads\n",
      "2020-07-18 03:22:49,713 : INFO : worker thread finished; awaiting finish of 0 more threads\n",
      "2020-07-18 03:22:49,713 : INFO : EPOCH - 6 : training on 9227204 raw words (8221573 effective words) took 22.7s, 361712 effective words/s\n",
      "2020-07-18 03:22:50,770 : INFO : EPOCH 7 - PROGRESS: at 4.23% examples, 332067 words/s, in_qsize 14, out_qsize 3\n",
      "2020-07-18 03:22:51,771 : INFO : EPOCH 7 - PROGRESS: at 9.12% examples, 365493 words/s, in_qsize 14, out_qsize 1\n",
      "2020-07-18 03:22:52,855 : INFO : EPOCH 7 - PROGRESS: at 14.43% examples, 378410 words/s, in_qsize 15, out_qsize 2\n",
      "2020-07-18 03:22:53,919 : INFO : EPOCH 7 - PROGRESS: at 19.19% examples, 375778 words/s, in_qsize 14, out_qsize 3\n",
      "2020-07-18 03:22:54,935 : INFO : EPOCH 7 - PROGRESS: at 23.42% examples, 369282 words/s, in_qsize 15, out_qsize 0\n",
      "2020-07-18 03:22:55,996 : INFO : EPOCH 7 - PROGRESS: at 26.45% examples, 346578 words/s, in_qsize 16, out_qsize 5\n",
      "2020-07-18 03:22:57,004 : INFO : EPOCH 7 - PROGRESS: at 31.64% examples, 357311 words/s, in_qsize 15, out_qsize 0\n",
      "2020-07-18 03:22:58,009 : INFO : EPOCH 7 - PROGRESS: at 36.62% examples, 363436 words/s, in_qsize 15, out_qsize 1\n",
      "2020-07-18 03:22:59,081 : INFO : EPOCH 7 - PROGRESS: at 41.48% examples, 364625 words/s, in_qsize 15, out_qsize 0\n",
      "2020-07-18 03:23:00,106 : INFO : EPOCH 7 - PROGRESS: at 46.24% examples, 366368 words/s, in_qsize 13, out_qsize 6\n",
      "2020-07-18 03:23:01,210 : INFO : EPOCH 7 - PROGRESS: at 51.53% examples, 369218 words/s, in_qsize 14, out_qsize 3\n",
      "2020-07-18 03:23:02,248 : INFO : EPOCH 7 - PROGRESS: at 56.40% examples, 370649 words/s, in_qsize 15, out_qsize 0\n",
      "2020-07-18 03:23:03,286 : INFO : EPOCH 7 - PROGRESS: at 61.28% examples, 371799 words/s, in_qsize 14, out_qsize 1\n",
      "2020-07-18 03:23:04,299 : INFO : EPOCH 7 - PROGRESS: at 66.36% examples, 374677 words/s, in_qsize 16, out_qsize 0\n",
      "2020-07-18 03:23:05,307 : INFO : EPOCH 7 - PROGRESS: at 70.59% examples, 372726 words/s, in_qsize 14, out_qsize 1\n",
      "2020-07-18 03:23:06,314 : INFO : EPOCH 7 - PROGRESS: at 73.83% examples, 366198 words/s, in_qsize 15, out_qsize 0\n",
      "2020-07-18 03:23:07,322 : INFO : EPOCH 7 - PROGRESS: at 78.07% examples, 364949 words/s, in_qsize 16, out_qsize 0\n",
      "2020-07-18 03:23:08,354 : INFO : EPOCH 7 - PROGRESS: at 82.85% examples, 365775 words/s, in_qsize 15, out_qsize 0\n",
      "2020-07-18 03:23:09,359 : INFO : EPOCH 7 - PROGRESS: at 88.05% examples, 368833 words/s, in_qsize 12, out_qsize 0\n",
      "2020-07-18 03:23:10,410 : INFO : EPOCH 7 - PROGRESS: at 92.82% examples, 369026 words/s, in_qsize 15, out_qsize 0\n",
      "2020-07-18 03:23:11,478 : INFO : EPOCH 7 - PROGRESS: at 97.82% examples, 369737 words/s, in_qsize 16, out_qsize 1\n",
      "2020-07-18 03:23:11,709 : INFO : worker thread finished; awaiting finish of 7 more threads\n",
      "2020-07-18 03:23:11,720 : INFO : worker thread finished; awaiting finish of 6 more threads\n",
      "2020-07-18 03:23:11,727 : INFO : worker thread finished; awaiting finish of 5 more threads\n",
      "2020-07-18 03:23:11,733 : INFO : worker thread finished; awaiting finish of 4 more threads\n",
      "2020-07-18 03:23:11,746 : INFO : worker thread finished; awaiting finish of 3 more threads\n",
      "2020-07-18 03:23:11,768 : INFO : worker thread finished; awaiting finish of 2 more threads\n",
      "2020-07-18 03:23:11,787 : INFO : worker thread finished; awaiting finish of 1 more threads\n",
      "2020-07-18 03:23:11,791 : INFO : worker thread finished; awaiting finish of 0 more threads\n",
      "2020-07-18 03:23:11,792 : INFO : EPOCH - 7 : training on 9227204 raw words (8222734 effective words) took 22.1s, 372609 effective words/s\n",
      "2020-07-18 03:23:12,827 : INFO : EPOCH 8 - PROGRESS: at 4.23% examples, 338834 words/s, in_qsize 15, out_qsize 0\n",
      "2020-07-18 03:23:13,836 : INFO : EPOCH 8 - PROGRESS: at 9.12% examples, 367989 words/s, in_qsize 12, out_qsize 0\n",
      "2020-07-18 03:23:14,839 : INFO : EPOCH 8 - PROGRESS: at 13.58% examples, 366664 words/s, in_qsize 15, out_qsize 0\n",
      "2020-07-18 03:23:15,873 : INFO : EPOCH 8 - PROGRESS: at 18.32% examples, 369706 words/s, in_qsize 15, out_qsize 0\n",
      "2020-07-18 03:23:16,955 : INFO : EPOCH 8 - PROGRESS: at 22.44% examples, 357824 words/s, in_qsize 15, out_qsize 0\n",
      "2020-07-18 03:23:18,121 : INFO : EPOCH 8 - PROGRESS: at 25.15% examples, 327029 words/s, in_qsize 12, out_qsize 4\n",
      "2020-07-18 03:23:19,211 : INFO : EPOCH 8 - PROGRESS: at 29.91% examples, 332930 words/s, in_qsize 15, out_qsize 1\n",
      "2020-07-18 03:23:20,224 : INFO : EPOCH 8 - PROGRESS: at 33.06% examples, 322611 words/s, in_qsize 16, out_qsize 0\n",
      "2020-07-18 03:23:21,262 : INFO : EPOCH 8 - PROGRESS: at 37.27% examples, 324490 words/s, in_qsize 16, out_qsize 3\n",
      "2020-07-18 03:23:22,301 : INFO : EPOCH 8 - PROGRESS: at 42.46% examples, 332572 words/s, in_qsize 15, out_qsize 0\n",
      "2020-07-18 03:23:23,325 : INFO : EPOCH 8 - PROGRESS: at 46.99% examples, 335489 words/s, in_qsize 15, out_qsize 0\n",
      "2020-07-18 03:23:24,338 : INFO : EPOCH 8 - PROGRESS: at 51.75% examples, 339663 words/s, in_qsize 15, out_qsize 0\n",
      "2020-07-18 03:23:25,404 : INFO : EPOCH 8 - PROGRESS: at 55.10% examples, 333366 words/s, in_qsize 15, out_qsize 0\n",
      "2020-07-18 03:23:26,434 : INFO : EPOCH 8 - PROGRESS: at 59.87% examples, 336694 words/s, in_qsize 15, out_qsize 0\n",
      "2020-07-18 03:23:27,460 : INFO : EPOCH 8 - PROGRESS: at 64.19% examples, 337369 words/s, in_qsize 16, out_qsize 0\n",
      "2020-07-18 03:23:28,533 : INFO : EPOCH 8 - PROGRESS: at 67.88% examples, 333843 words/s, in_qsize 15, out_qsize 0\n",
      "2020-07-18 03:23:29,537 : INFO : EPOCH 8 - PROGRESS: at 71.45% examples, 331531 words/s, in_qsize 15, out_qsize 0\n",
      "2020-07-18 03:23:30,549 : INFO : EPOCH 8 - PROGRESS: at 76.00% examples, 333569 words/s, in_qsize 15, out_qsize 0\n",
      "2020-07-18 03:23:31,553 : INFO : EPOCH 8 - PROGRESS: at 80.35% examples, 334647 words/s, in_qsize 16, out_qsize 0\n",
      "2020-07-18 03:23:32,579 : INFO : EPOCH 8 - PROGRESS: at 84.80% examples, 335995 words/s, in_qsize 13, out_qsize 5\n",
      "2020-07-18 03:23:33,575 : INFO : EPOCH 8 - PROGRESS: at 89.89% examples, 339584 words/s, in_qsize 13, out_qsize 1\n",
      "2020-07-18 03:23:34,576 : INFO : EPOCH 8 - PROGRESS: at 94.35% examples, 340670 words/s, in_qsize 14, out_qsize 1\n",
      "2020-07-18 03:23:35,630 : INFO : EPOCH 8 - PROGRESS: at 99.12% examples, 342056 words/s, in_qsize 8, out_qsize 1\n",
      "2020-07-18 03:23:35,640 : INFO : worker thread finished; awaiting finish of 7 more threads\n",
      "2020-07-18 03:23:35,642 : INFO : worker thread finished; awaiting finish of 6 more threads\n",
      "2020-07-18 03:23:35,643 : INFO : worker thread finished; awaiting finish of 5 more threads\n",
      "2020-07-18 03:23:35,644 : INFO : worker thread finished; awaiting finish of 4 more threads\n",
      "2020-07-18 03:23:35,645 : INFO : worker thread finished; awaiting finish of 3 more threads\n",
      "2020-07-18 03:23:35,645 : INFO : worker thread finished; awaiting finish of 2 more threads\n",
      "2020-07-18 03:23:35,646 : INFO : worker thread finished; awaiting finish of 1 more threads\n",
      "2020-07-18 03:23:35,672 : INFO : worker thread finished; awaiting finish of 0 more threads\n",
      "2020-07-18 03:23:35,673 : INFO : EPOCH - 8 : training on 9227204 raw words (8222886 effective words) took 23.9s, 344466 effective words/s\n",
      "2020-07-18 03:23:36,694 : INFO : EPOCH 9 - PROGRESS: at 4.34% examples, 352550 words/s, in_qsize 15, out_qsize 0\n",
      "2020-07-18 03:23:37,709 : INFO : EPOCH 9 - PROGRESS: at 9.45% examples, 382718 words/s, in_qsize 16, out_qsize 0\n",
      "2020-07-18 03:23:38,735 : INFO : EPOCH 9 - PROGRESS: at 13.04% examples, 350345 words/s, in_qsize 14, out_qsize 1\n",
      "2020-07-18 03:23:39,784 : INFO : EPOCH 9 - PROGRESS: at 17.02% examples, 341072 words/s, in_qsize 16, out_qsize 0\n",
      "2020-07-18 03:23:40,797 : INFO : EPOCH 9 - PROGRESS: at 21.46% examples, 344958 words/s, in_qsize 14, out_qsize 0\n",
      "2020-07-18 03:23:41,800 : INFO : EPOCH 9 - PROGRESS: at 25.80% examples, 346645 words/s, in_qsize 16, out_qsize 0\n",
      "2020-07-18 03:23:42,829 : INFO : EPOCH 9 - PROGRESS: at 30.56% examples, 351574 words/s, in_qsize 16, out_qsize 0\n",
      "2020-07-18 03:23:43,876 : INFO : EPOCH 9 - PROGRESS: at 35.54% examples, 356613 words/s, in_qsize 12, out_qsize 0\n",
      "2020-07-18 03:23:44,881 : INFO : EPOCH 9 - PROGRESS: at 39.75% examples, 355412 words/s, in_qsize 15, out_qsize 0\n",
      "2020-07-18 03:23:45,920 : INFO : EPOCH 9 - PROGRESS: at 44.72% examples, 359376 words/s, in_qsize 15, out_qsize 0\n",
      "2020-07-18 03:23:46,930 : INFO : EPOCH 9 - PROGRESS: at 49.27% examples, 360419 words/s, in_qsize 15, out_qsize 2\n",
      "2020-07-18 03:23:47,937 : INFO : EPOCH 9 - PROGRESS: at 54.03% examples, 362807 words/s, in_qsize 16, out_qsize 0\n",
      "2020-07-18 03:23:49,015 : INFO : EPOCH 9 - PROGRESS: at 58.14% examples, 358902 words/s, in_qsize 15, out_qsize 0\n",
      "2020-07-18 03:23:50,043 : INFO : EPOCH 9 - PROGRESS: at 61.39% examples, 351808 words/s, in_qsize 15, out_qsize 0\n",
      "2020-07-18 03:23:51,162 : INFO : EPOCH 9 - PROGRESS: at 65.38% examples, 347676 words/s, in_qsize 13, out_qsize 0\n",
      "2020-07-18 03:23:52,195 : INFO : EPOCH 9 - PROGRESS: at 69.72% examples, 347506 words/s, in_qsize 15, out_qsize 0\n",
      "2020-07-18 03:23:53,202 : INFO : EPOCH 9 - PROGRESS: at 74.92% examples, 351920 words/s, in_qsize 13, out_qsize 0\n",
      "2020-07-18 03:23:54,209 : INFO : EPOCH 9 - PROGRESS: at 79.60% examples, 353455 words/s, in_qsize 12, out_qsize 1\n",
      "2020-07-18 03:23:55,234 : INFO : EPOCH 9 - PROGRESS: at 84.26% examples, 354523 words/s, in_qsize 15, out_qsize 0\n",
      "2020-07-18 03:23:56,238 : INFO : EPOCH 9 - PROGRESS: at 88.80% examples, 355403 words/s, in_qsize 13, out_qsize 2\n",
      "2020-07-18 03:23:57,304 : INFO : EPOCH 9 - PROGRESS: at 94.03% examples, 357620 words/s, in_qsize 15, out_qsize 0\n",
      "2020-07-18 03:23:58,340 : INFO : EPOCH 9 - PROGRESS: at 98.90% examples, 358956 words/s, in_qsize 11, out_qsize 0\n",
      "2020-07-18 03:23:58,379 : INFO : worker thread finished; awaiting finish of 7 more threads\n",
      "2020-07-18 03:23:58,380 : INFO : worker thread finished; awaiting finish of 6 more threads\n",
      "2020-07-18 03:23:58,397 : INFO : worker thread finished; awaiting finish of 5 more threads\n",
      "2020-07-18 03:23:58,403 : INFO : worker thread finished; awaiting finish of 4 more threads\n",
      "2020-07-18 03:23:58,422 : INFO : worker thread finished; awaiting finish of 3 more threads\n",
      "2020-07-18 03:23:58,438 : INFO : worker thread finished; awaiting finish of 2 more threads\n",
      "2020-07-18 03:23:58,456 : INFO : worker thread finished; awaiting finish of 1 more threads\n",
      "2020-07-18 03:23:58,463 : INFO : worker thread finished; awaiting finish of 0 more threads\n",
      "2020-07-18 03:23:58,463 : INFO : EPOCH - 9 : training on 9227204 raw words (8222684 effective words) took 22.8s, 360970 effective words/s\n",
      "2020-07-18 03:23:59,563 : INFO : EPOCH 10 - PROGRESS: at 4.56% examples, 343306 words/s, in_qsize 15, out_qsize 0\n",
      "2020-07-18 03:24:00,579 : INFO : EPOCH 10 - PROGRESS: at 8.90% examples, 347040 words/s, in_qsize 15, out_qsize 1\n",
      "2020-07-18 03:24:01,590 : INFO : EPOCH 10 - PROGRESS: at 13.04% examples, 343118 words/s, in_qsize 15, out_qsize 0\n",
      "2020-07-18 03:24:02,597 : INFO : EPOCH 10 - PROGRESS: at 17.02% examples, 339137 words/s, in_qsize 14, out_qsize 0\n",
      "2020-07-18 03:24:03,626 : INFO : EPOCH 10 - PROGRESS: at 21.68% examples, 345757 words/s, in_qsize 13, out_qsize 2\n",
      "2020-07-18 03:24:04,638 : INFO : EPOCH 10 - PROGRESS: at 26.67% examples, 355506 words/s, in_qsize 12, out_qsize 0\n",
      "2020-07-18 03:24:05,651 : INFO : EPOCH 10 - PROGRESS: at 31.32% examples, 358707 words/s, in_qsize 15, out_qsize 0\n",
      "2020-07-18 03:24:06,679 : INFO : EPOCH 10 - PROGRESS: at 36.29% examples, 363731 words/s, in_qsize 14, out_qsize 1\n",
      "2020-07-18 03:24:07,697 : INFO : EPOCH 10 - PROGRESS: at 41.16% examples, 367022 words/s, in_qsize 15, out_qsize 0\n",
      "2020-07-18 03:24:08,722 : INFO : EPOCH 10 - PROGRESS: at 45.92% examples, 368553 words/s, in_qsize 15, out_qsize 0\n",
      "2020-07-18 03:24:09,816 : INFO : EPOCH 10 - PROGRESS: at 51.10% examples, 370729 words/s, in_qsize 15, out_qsize 0\n",
      "2020-07-18 03:24:10,826 : INFO : EPOCH 10 - PROGRESS: at 56.18% examples, 374322 words/s, in_qsize 15, out_qsize 0\n",
      "2020-07-18 03:24:11,850 : INFO : EPOCH 10 - PROGRESS: at 60.09% examples, 369628 words/s, in_qsize 14, out_qsize 1\n",
      "2020-07-18 03:24:12,869 : INFO : EPOCH 10 - PROGRESS: at 63.97% examples, 365741 words/s, in_qsize 14, out_qsize 0\n",
      "2020-07-18 03:24:13,890 : INFO : EPOCH 10 - PROGRESS: at 67.99% examples, 362902 words/s, in_qsize 16, out_qsize 0\n",
      "2020-07-18 03:24:14,977 : INFO : EPOCH 10 - PROGRESS: at 72.75% examples, 363047 words/s, in_qsize 15, out_qsize 3\n",
      "2020-07-18 03:24:16,015 : INFO : EPOCH 10 - PROGRESS: at 77.96% examples, 365657 words/s, in_qsize 15, out_qsize 0\n",
      "2020-07-18 03:24:17,030 : INFO : EPOCH 10 - PROGRESS: at 83.07% examples, 368217 words/s, in_qsize 16, out_qsize 0\n",
      "2020-07-18 03:24:18,103 : INFO : EPOCH 10 - PROGRESS: at 87.94% examples, 368487 words/s, in_qsize 15, out_qsize 0\n",
      "2020-07-18 03:24:19,132 : INFO : EPOCH 10 - PROGRESS: at 92.94% examples, 370287 words/s, in_qsize 15, out_qsize 2\n",
      "2020-07-18 03:24:20,162 : INFO : EPOCH 10 - PROGRESS: at 96.31% examples, 365136 words/s, in_qsize 15, out_qsize 0\n",
      "2020-07-18 03:24:21,035 : INFO : worker thread finished; awaiting finish of 7 more threads\n",
      "2020-07-18 03:24:21,058 : INFO : worker thread finished; awaiting finish of 6 more threads\n",
      "2020-07-18 03:24:21,087 : INFO : worker thread finished; awaiting finish of 5 more threads\n",
      "2020-07-18 03:24:21,105 : INFO : worker thread finished; awaiting finish of 4 more threads\n",
      "2020-07-18 03:24:21,115 : INFO : worker thread finished; awaiting finish of 3 more threads\n",
      "2020-07-18 03:24:21,127 : INFO : worker thread finished; awaiting finish of 2 more threads\n",
      "2020-07-18 03:24:21,143 : INFO : worker thread finished; awaiting finish of 1 more threads\n",
      "2020-07-18 03:24:21,144 : INFO : worker thread finished; awaiting finish of 0 more threads\n",
      "2020-07-18 03:24:21,146 : INFO : EPOCH - 10 : training on 9227204 raw words (8222607 effective words) took 22.7s, 362679 effective words/s\n",
      "2020-07-18 03:24:22,237 : INFO : EPOCH 11 - PROGRESS: at 3.69% examples, 280307 words/s, in_qsize 15, out_qsize 0\n",
      "2020-07-18 03:24:23,237 : INFO : EPOCH 11 - PROGRESS: at 7.38% examples, 290951 words/s, in_qsize 13, out_qsize 1\n",
      "2020-07-18 03:24:24,261 : INFO : EPOCH 11 - PROGRESS: at 10.64% examples, 281181 words/s, in_qsize 15, out_qsize 0\n",
      "2020-07-18 03:24:25,320 : INFO : EPOCH 11 - PROGRESS: at 15.08% examples, 297356 words/s, in_qsize 16, out_qsize 1\n",
      "2020-07-18 03:24:26,449 : INFO : EPOCH 11 - PROGRESS: at 19.08% examples, 296154 words/s, in_qsize 14, out_qsize 1\n",
      "2020-07-18 03:24:27,452 : INFO : EPOCH 11 - PROGRESS: at 24.18% examples, 315534 words/s, in_qsize 15, out_qsize 0\n",
      "2020-07-18 03:24:28,486 : INFO : EPOCH 11 - PROGRESS: at 28.83% examples, 323319 words/s, in_qsize 14, out_qsize 0\n",
      "2020-07-18 03:24:29,492 : INFO : EPOCH 11 - PROGRESS: at 33.37% examples, 329144 words/s, in_qsize 14, out_qsize 0\n",
      "2020-07-18 03:24:30,547 : INFO : EPOCH 11 - PROGRESS: at 37.81% examples, 331069 words/s, in_qsize 15, out_qsize 0\n",
      "2020-07-18 03:24:31,570 : INFO : EPOCH 11 - PROGRESS: at 42.57% examples, 336196 words/s, in_qsize 15, out_qsize 0\n",
      "2020-07-18 03:24:32,604 : INFO : EPOCH 11 - PROGRESS: at 47.65% examples, 342383 words/s, in_qsize 14, out_qsize 2\n",
      "2020-07-18 03:24:33,627 : INFO : EPOCH 11 - PROGRESS: at 51.32% examples, 338591 words/s, in_qsize 15, out_qsize 0\n",
      "2020-07-18 03:24:34,628 : INFO : EPOCH 11 - PROGRESS: at 55.43% examples, 338575 words/s, in_qsize 14, out_qsize 1\n",
      "2020-07-18 03:24:35,641 : INFO : EPOCH 11 - PROGRESS: at 59.23% examples, 336443 words/s, in_qsize 14, out_qsize 1\n",
      "2020-07-18 03:24:36,666 : INFO : EPOCH 11 - PROGRESS: at 64.51% examples, 342349 words/s, in_qsize 16, out_qsize 0\n",
      "2020-07-18 03:24:37,701 : INFO : EPOCH 11 - PROGRESS: at 69.61% examples, 346245 words/s, in_qsize 14, out_qsize 2\n",
      "2020-07-18 03:24:38,717 : INFO : EPOCH 11 - PROGRESS: at 74.06% examples, 347096 words/s, in_qsize 16, out_qsize 7\n",
      "2020-07-18 03:24:39,728 : INFO : EPOCH 11 - PROGRESS: at 79.49% examples, 352088 words/s, in_qsize 15, out_qsize 0\n",
      "2020-07-18 03:24:40,758 : INFO : EPOCH 11 - PROGRESS: at 84.26% examples, 353583 words/s, in_qsize 14, out_qsize 1\n",
      "2020-07-18 03:24:41,777 : INFO : EPOCH 11 - PROGRESS: at 88.91% examples, 354673 words/s, in_qsize 13, out_qsize 4\n",
      "2020-07-18 03:24:42,806 : INFO : EPOCH 11 - PROGRESS: at 94.03% examples, 357130 words/s, in_qsize 15, out_qsize 1\n",
      "2020-07-18 03:24:43,847 : INFO : EPOCH 11 - PROGRESS: at 99.00% examples, 358812 words/s, in_qsize 9, out_qsize 1\n",
      "2020-07-18 03:24:43,853 : INFO : worker thread finished; awaiting finish of 7 more threads\n",
      "2020-07-18 03:24:43,862 : INFO : worker thread finished; awaiting finish of 6 more threads\n",
      "2020-07-18 03:24:43,881 : INFO : worker thread finished; awaiting finish of 5 more threads\n",
      "2020-07-18 03:24:43,885 : INFO : worker thread finished; awaiting finish of 4 more threads\n",
      "2020-07-18 03:24:43,887 : INFO : worker thread finished; awaiting finish of 3 more threads\n",
      "2020-07-18 03:24:43,890 : INFO : worker thread finished; awaiting finish of 2 more threads\n",
      "2020-07-18 03:24:43,921 : INFO : worker thread finished; awaiting finish of 1 more threads\n",
      "2020-07-18 03:24:43,922 : INFO : worker thread finished; awaiting finish of 0 more threads\n",
      "2020-07-18 03:24:43,922 : INFO : EPOCH - 11 : training on 9227204 raw words (8223093 effective words) took 22.8s, 361187 effective words/s\n",
      "2020-07-18 03:24:44,965 : INFO : EPOCH 12 - PROGRESS: at 3.04% examples, 242014 words/s, in_qsize 16, out_qsize 1\n",
      "2020-07-18 03:24:46,008 : INFO : EPOCH 12 - PROGRESS: at 7.06% examples, 279119 words/s, in_qsize 16, out_qsize 0\n",
      "2020-07-18 03:24:47,019 : INFO : EPOCH 12 - PROGRESS: at 11.51% examples, 306146 words/s, in_qsize 15, out_qsize 0\n",
      "2020-07-18 03:24:48,103 : INFO : EPOCH 12 - PROGRESS: at 16.48% examples, 326566 words/s, in_qsize 15, out_qsize 0\n",
      "2020-07-18 03:24:49,114 : INFO : EPOCH 12 - PROGRESS: at 21.14% examples, 335332 words/s, in_qsize 15, out_qsize 2\n",
      "2020-07-18 03:24:50,126 : INFO : EPOCH 12 - PROGRESS: at 26.45% examples, 351007 words/s, in_qsize 12, out_qsize 2\n",
      "2020-07-18 03:24:51,137 : INFO : EPOCH 12 - PROGRESS: at 30.89% examples, 352463 words/s, in_qsize 15, out_qsize 0\n",
      "2020-07-18 03:24:52,138 : INFO : EPOCH 12 - PROGRESS: at 35.75% examples, 358278 words/s, in_qsize 16, out_qsize 0\n",
      "2020-07-18 03:24:53,174 : INFO : EPOCH 12 - PROGRESS: at 39.22% examples, 348934 words/s, in_qsize 13, out_qsize 2\n",
      "2020-07-18 03:24:54,175 : INFO : EPOCH 12 - PROGRESS: at 43.75% examples, 351363 words/s, in_qsize 15, out_qsize 0\n",
      "2020-07-18 03:24:55,196 : INFO : EPOCH 12 - PROGRESS: at 48.51% examples, 354327 words/s, in_qsize 14, out_qsize 2\n",
      "2020-07-18 03:24:56,276 : INFO : EPOCH 12 - PROGRESS: at 52.73% examples, 351482 words/s, in_qsize 15, out_qsize 0\n",
      "2020-07-18 03:24:57,288 : INFO : EPOCH 12 - PROGRESS: at 55.53% examples, 342185 words/s, in_qsize 11, out_qsize 6\n",
      "2020-07-18 03:24:58,320 : INFO : EPOCH 12 - PROGRESS: at 60.52% examples, 346117 words/s, in_qsize 15, out_qsize 0\n",
      "2020-07-18 03:24:59,338 : INFO : EPOCH 12 - PROGRESS: at 65.49% examples, 349850 words/s, in_qsize 14, out_qsize 1\n",
      "2020-07-18 03:25:00,369 : INFO : EPOCH 12 - PROGRESS: at 70.80% examples, 354452 words/s, in_qsize 15, out_qsize 0\n",
      "2020-07-18 03:25:01,382 : INFO : EPOCH 12 - PROGRESS: at 75.57% examples, 356316 words/s, in_qsize 15, out_qsize 0\n",
      "2020-07-18 03:25:02,396 : INFO : EPOCH 12 - PROGRESS: at 80.47% examples, 358455 words/s, in_qsize 15, out_qsize 0\n",
      "2020-07-18 03:25:03,481 : INFO : EPOCH 12 - PROGRESS: at 84.91% examples, 357238 words/s, in_qsize 13, out_qsize 2\n",
      "2020-07-18 03:25:04,521 : INFO : EPOCH 12 - PROGRESS: at 90.00% examples, 359540 words/s, in_qsize 13, out_qsize 1\n",
      "2020-07-18 03:25:05,629 : INFO : EPOCH 12 - PROGRESS: at 94.90% examples, 359619 words/s, in_qsize 15, out_qsize 0\n",
      "2020-07-18 03:25:06,655 : INFO : EPOCH 12 - PROGRESS: at 99.33% examples, 359489 words/s, in_qsize 5, out_qsize 5\n",
      "2020-07-18 03:25:06,659 : INFO : worker thread finished; awaiting finish of 7 more threads\n",
      "2020-07-18 03:25:06,661 : INFO : worker thread finished; awaiting finish of 6 more threads\n",
      "2020-07-18 03:25:06,665 : INFO : worker thread finished; awaiting finish of 5 more threads\n",
      "2020-07-18 03:25:06,669 : INFO : worker thread finished; awaiting finish of 4 more threads\n",
      "2020-07-18 03:25:06,677 : INFO : worker thread finished; awaiting finish of 3 more threads\n",
      "2020-07-18 03:25:06,722 : INFO : worker thread finished; awaiting finish of 2 more threads\n",
      "2020-07-18 03:25:06,747 : INFO : worker thread finished; awaiting finish of 1 more threads\n",
      "2020-07-18 03:25:06,753 : INFO : worker thread finished; awaiting finish of 0 more threads\n",
      "2020-07-18 03:25:06,754 : INFO : EPOCH - 12 : training on 9227204 raw words (8222478 effective words) took 22.8s, 360309 effective words/s\n",
      "2020-07-18 03:25:07,921 : INFO : EPOCH 13 - PROGRESS: at 3.25% examples, 232063 words/s, in_qsize 15, out_qsize 0\n",
      "2020-07-18 03:25:08,966 : INFO : EPOCH 13 - PROGRESS: at 7.82% examples, 291944 words/s, in_qsize 15, out_qsize 0\n",
      "2020-07-18 03:25:09,976 : INFO : EPOCH 13 - PROGRESS: at 12.39% examples, 316758 words/s, in_qsize 14, out_qsize 1\n",
      "2020-07-18 03:25:11,017 : INFO : EPOCH 13 - PROGRESS: at 17.24% examples, 335060 words/s, in_qsize 15, out_qsize 3\n",
      "2020-07-18 03:25:12,091 : INFO : EPOCH 13 - PROGRESS: at 22.44% examples, 346539 words/s, in_qsize 15, out_qsize 0\n",
      "2020-07-18 03:25:13,148 : INFO : EPOCH 13 - PROGRESS: at 27.42% examples, 353325 words/s, in_qsize 14, out_qsize 1\n",
      "2020-07-18 03:25:14,224 : INFO : EPOCH 13 - PROGRESS: at 32.52% examples, 358530 words/s, in_qsize 14, out_qsize 1\n",
      "2020-07-18 03:25:15,227 : INFO : EPOCH 13 - PROGRESS: at 37.70% examples, 366543 words/s, in_qsize 13, out_qsize 1\n",
      "2020-07-18 03:25:16,302 : INFO : EPOCH 13 - PROGRESS: at 42.45% examples, 366361 words/s, in_qsize 15, out_qsize 0\n",
      "2020-07-18 03:25:17,305 : INFO : EPOCH 13 - PROGRESS: at 47.21% examples, 368644 words/s, in_qsize 15, out_qsize 2\n",
      "2020-07-18 03:25:18,307 : INFO : EPOCH 13 - PROGRESS: at 50.99% examples, 363695 words/s, in_qsize 15, out_qsize 0\n",
      "2020-07-18 03:25:19,330 : INFO : EPOCH 13 - PROGRESS: at 54.56% examples, 357963 words/s, in_qsize 11, out_qsize 4\n",
      "2020-07-18 03:25:20,350 : INFO : EPOCH 13 - PROGRESS: at 57.16% examples, 346407 words/s, in_qsize 15, out_qsize 0\n",
      "2020-07-18 03:25:21,372 : INFO : EPOCH 13 - PROGRESS: at 61.93% examples, 349288 words/s, in_qsize 14, out_qsize 2\n",
      "2020-07-18 03:25:22,405 : INFO : EPOCH 13 - PROGRESS: at 66.69% examples, 350997 words/s, in_qsize 16, out_qsize 1\n",
      "2020-07-18 03:25:23,439 : INFO : EPOCH 13 - PROGRESS: at 71.13% examples, 351141 words/s, in_qsize 15, out_qsize 0\n",
      "2020-07-18 03:25:24,441 : INFO : EPOCH 13 - PROGRESS: at 75.24% examples, 350371 words/s, in_qsize 16, out_qsize 0\n",
      "2020-07-18 03:25:25,594 : INFO : EPOCH 13 - PROGRESS: at 79.38% examples, 346893 words/s, in_qsize 14, out_qsize 3\n",
      "2020-07-18 03:25:26,601 : INFO : EPOCH 13 - PROGRESS: at 83.72% examples, 347260 words/s, in_qsize 14, out_qsize 0\n",
      "2020-07-18 03:25:27,621 : INFO : EPOCH 13 - PROGRESS: at 88.48% examples, 349073 words/s, in_qsize 13, out_qsize 1\n",
      "2020-07-18 03:25:28,734 : INFO : EPOCH 13 - PROGRESS: at 92.94% examples, 347987 words/s, in_qsize 15, out_qsize 0\n",
      "2020-07-18 03:25:29,778 : INFO : EPOCH 13 - PROGRESS: at 97.18% examples, 347271 words/s, in_qsize 15, out_qsize 0\n",
      "2020-07-18 03:25:30,349 : INFO : worker thread finished; awaiting finish of 7 more threads\n",
      "2020-07-18 03:25:30,351 : INFO : worker thread finished; awaiting finish of 6 more threads\n",
      "2020-07-18 03:25:30,387 : INFO : worker thread finished; awaiting finish of 5 more threads\n",
      "2020-07-18 03:25:30,392 : INFO : worker thread finished; awaiting finish of 4 more threads\n",
      "2020-07-18 03:25:30,394 : INFO : worker thread finished; awaiting finish of 3 more threads\n",
      "2020-07-18 03:25:30,408 : INFO : worker thread finished; awaiting finish of 2 more threads\n",
      "2020-07-18 03:25:30,411 : INFO : worker thread finished; awaiting finish of 1 more threads\n",
      "2020-07-18 03:25:30,412 : INFO : worker thread finished; awaiting finish of 0 more threads\n",
      "2020-07-18 03:25:30,413 : INFO : EPOCH - 13 : training on 9227204 raw words (8222890 effective words) took 23.6s, 347786 effective words/s\n",
      "2020-07-18 03:25:31,530 : INFO : EPOCH 14 - PROGRESS: at 3.69% examples, 280118 words/s, in_qsize 15, out_qsize 1\n",
      "2020-07-18 03:25:32,537 : INFO : EPOCH 14 - PROGRESS: at 8.47% examples, 330232 words/s, in_qsize 15, out_qsize 0\n",
      "2020-07-18 03:25:33,676 : INFO : EPOCH 14 - PROGRESS: at 13.58% examples, 343378 words/s, in_qsize 13, out_qsize 2\n",
      "2020-07-18 03:25:34,710 : INFO : EPOCH 14 - PROGRESS: at 18.76% examples, 360275 words/s, in_qsize 15, out_qsize 0\n",
      "2020-07-18 03:25:35,716 : INFO : EPOCH 14 - PROGRESS: at 23.63% examples, 367584 words/s, in_qsize 15, out_qsize 0\n",
      "2020-07-18 03:25:36,776 : INFO : EPOCH 14 - PROGRESS: at 28.50% examples, 369402 words/s, in_qsize 15, out_qsize 0\n",
      "2020-07-18 03:25:37,817 : INFO : EPOCH 14 - PROGRESS: at 33.49% examples, 372799 words/s, in_qsize 14, out_qsize 1\n",
      "2020-07-18 03:25:38,858 : INFO : EPOCH 14 - PROGRESS: at 38.78% examples, 378595 words/s, in_qsize 14, out_qsize 1\n",
      "2020-07-18 03:25:39,875 : INFO : EPOCH 14 - PROGRESS: at 42.89% examples, 373652 words/s, in_qsize 13, out_qsize 3\n",
      "2020-07-18 03:25:40,922 : INFO : EPOCH 14 - PROGRESS: at 46.56% examples, 365204 words/s, in_qsize 11, out_qsize 3\n",
      "2020-07-18 03:25:41,943 : INFO : EPOCH 14 - PROGRESS: at 51.10% examples, 365353 words/s, in_qsize 16, out_qsize 0\n",
      "2020-07-18 03:25:42,954 : INFO : EPOCH 14 - PROGRESS: at 55.97% examples, 367891 words/s, in_qsize 16, out_qsize 0\n",
      "2020-07-18 03:25:43,954 : INFO : EPOCH 14 - PROGRESS: at 60.41% examples, 367680 words/s, in_qsize 16, out_qsize 0\n",
      "2020-07-18 03:25:44,960 : INFO : EPOCH 14 - PROGRESS: at 65.60% examples, 371635 words/s, in_qsize 15, out_qsize 1\n",
      "2020-07-18 03:25:45,979 : INFO : EPOCH 14 - PROGRESS: at 70.16% examples, 371360 words/s, in_qsize 13, out_qsize 2\n",
      "2020-07-18 03:25:46,983 : INFO : EPOCH 14 - PROGRESS: at 75.13% examples, 373571 words/s, in_qsize 15, out_qsize 0\n",
      "2020-07-18 03:25:48,050 : INFO : EPOCH 14 - PROGRESS: at 80.36% examples, 375212 words/s, in_qsize 15, out_qsize 0\n",
      "2020-07-18 03:25:49,116 : INFO : EPOCH 14 - PROGRESS: at 85.34% examples, 375753 words/s, in_qsize 15, out_qsize 0\n",
      "2020-07-18 03:25:50,130 : INFO : EPOCH 14 - PROGRESS: at 90.76% examples, 378997 words/s, in_qsize 14, out_qsize 0\n",
      "2020-07-18 03:25:51,202 : INFO : EPOCH 14 - PROGRESS: at 94.79% examples, 375284 words/s, in_qsize 15, out_qsize 0\n",
      "2020-07-18 03:25:52,202 : INFO : EPOCH 14 - PROGRESS: at 99.12% examples, 374405 words/s, in_qsize 9, out_qsize 0\n",
      "2020-07-18 03:25:52,227 : INFO : worker thread finished; awaiting finish of 7 more threads\n",
      "2020-07-18 03:25:52,244 : INFO : worker thread finished; awaiting finish of 6 more threads\n",
      "2020-07-18 03:25:52,273 : INFO : worker thread finished; awaiting finish of 5 more threads\n",
      "2020-07-18 03:25:52,282 : INFO : worker thread finished; awaiting finish of 4 more threads\n",
      "2020-07-18 03:25:52,306 : INFO : worker thread finished; awaiting finish of 3 more threads\n",
      "2020-07-18 03:25:52,325 : INFO : worker thread finished; awaiting finish of 2 more threads\n",
      "2020-07-18 03:25:52,329 : INFO : worker thread finished; awaiting finish of 1 more threads\n",
      "2020-07-18 03:25:52,330 : INFO : worker thread finished; awaiting finish of 0 more threads\n",
      "2020-07-18 03:25:52,330 : INFO : EPOCH - 14 : training on 9227204 raw words (8222522 effective words) took 21.9s, 375515 effective words/s\n",
      "2020-07-18 03:25:53,374 : INFO : EPOCH 15 - PROGRESS: at 3.91% examples, 312873 words/s, in_qsize 16, out_qsize 2\n",
      "2020-07-18 03:25:54,384 : INFO : EPOCH 15 - PROGRESS: at 8.15% examples, 328288 words/s, in_qsize 14, out_qsize 1\n",
      "2020-07-18 03:25:55,494 : INFO : EPOCH 15 - PROGRESS: at 12.50% examples, 325826 words/s, in_qsize 15, out_qsize 0\n",
      "2020-07-18 03:25:56,544 : INFO : EPOCH 15 - PROGRESS: at 17.25% examples, 337662 words/s, in_qsize 16, out_qsize 1\n",
      "2020-07-18 03:25:57,586 : INFO : EPOCH 15 - PROGRESS: at 22.76% examples, 357289 words/s, in_qsize 15, out_qsize 0\n",
      "2020-07-18 03:25:58,594 : INFO : EPOCH 15 - PROGRESS: at 28.07% examples, 369499 words/s, in_qsize 14, out_qsize 1\n",
      "2020-07-18 03:25:59,629 : INFO : EPOCH 15 - PROGRESS: at 33.16% examples, 374460 words/s, in_qsize 16, out_qsize 1\n",
      "2020-07-18 03:26:00,635 : INFO : EPOCH 15 - PROGRESS: at 38.24% examples, 379548 words/s, in_qsize 14, out_qsize 0\n",
      "2020-07-18 03:26:01,646 : INFO : EPOCH 15 - PROGRESS: at 42.57% examples, 376609 words/s, in_qsize 14, out_qsize 0\n",
      "2020-07-18 03:26:02,822 : INFO : EPOCH 15 - PROGRESS: at 46.24% examples, 363202 words/s, in_qsize 12, out_qsize 3\n",
      "2020-07-18 03:26:03,866 : INFO : EPOCH 15 - PROGRESS: at 50.89% examples, 363555 words/s, in_qsize 16, out_qsize 0\n",
      "2020-07-18 03:26:04,867 : INFO : EPOCH 15 - PROGRESS: at 55.42% examples, 364389 words/s, in_qsize 14, out_qsize 3\n",
      "2020-07-18 03:26:05,875 : INFO : EPOCH 15 - PROGRESS: at 60.85% examples, 370201 words/s, in_qsize 16, out_qsize 0\n",
      "2020-07-18 03:26:06,884 : INFO : EPOCH 15 - PROGRESS: at 65.72% examples, 372052 words/s, in_qsize 13, out_qsize 2\n",
      "2020-07-18 03:26:07,943 : INFO : EPOCH 15 - PROGRESS: at 70.59% examples, 372487 words/s, in_qsize 14, out_qsize 2\n",
      "2020-07-18 03:26:08,954 : INFO : EPOCH 15 - PROGRESS: at 75.67% examples, 375015 words/s, in_qsize 15, out_qsize 0\n",
      "2020-07-18 03:26:09,979 : INFO : EPOCH 15 - PROGRESS: at 80.69% examples, 376437 words/s, in_qsize 15, out_qsize 0\n",
      "2020-07-18 03:26:11,003 : INFO : EPOCH 15 - PROGRESS: at 85.45% examples, 376814 words/s, in_qsize 15, out_qsize 0\n",
      "2020-07-18 03:26:12,135 : INFO : EPOCH 15 - PROGRESS: at 90.87% examples, 377754 words/s, in_qsize 13, out_qsize 6\n",
      "2020-07-18 03:26:13,201 : INFO : EPOCH 15 - PROGRESS: at 95.34% examples, 375931 words/s, in_qsize 16, out_qsize 0\n",
      "2020-07-18 03:26:14,283 : INFO : EPOCH 15 - PROGRESS: at 99.12% examples, 371597 words/s, in_qsize 8, out_qsize 1\n",
      "2020-07-18 03:26:14,307 : INFO : worker thread finished; awaiting finish of 7 more threads\n",
      "2020-07-18 03:26:14,324 : INFO : worker thread finished; awaiting finish of 6 more threads\n",
      "2020-07-18 03:26:14,331 : INFO : worker thread finished; awaiting finish of 5 more threads\n",
      "2020-07-18 03:26:14,358 : INFO : worker thread finished; awaiting finish of 4 more threads\n",
      "2020-07-18 03:26:14,362 : INFO : worker thread finished; awaiting finish of 3 more threads\n",
      "2020-07-18 03:26:14,380 : INFO : worker thread finished; awaiting finish of 2 more threads\n",
      "2020-07-18 03:26:14,394 : INFO : worker thread finished; awaiting finish of 1 more threads\n",
      "2020-07-18 03:26:14,397 : INFO : worker thread finished; awaiting finish of 0 more threads\n",
      "2020-07-18 03:26:14,398 : INFO : EPOCH - 15 : training on 9227204 raw words (8222628 effective words) took 22.0s, 372936 effective words/s\n",
      "2020-07-18 03:26:15,427 : INFO : EPOCH 16 - PROGRESS: at 4.67% examples, 380515 words/s, in_qsize 12, out_qsize 0\n",
      "2020-07-18 03:26:16,428 : INFO : EPOCH 16 - PROGRESS: at 9.12% examples, 372810 words/s, in_qsize 13, out_qsize 2\n",
      "2020-07-18 03:26:17,456 : INFO : EPOCH 16 - PROGRESS: at 14.22% examples, 384332 words/s, in_qsize 14, out_qsize 2\n",
      "2020-07-18 03:26:18,506 : INFO : EPOCH 16 - PROGRESS: at 19.62% examples, 394629 words/s, in_qsize 13, out_qsize 0\n",
      "2020-07-18 03:26:19,629 : INFO : EPOCH 16 - PROGRESS: at 24.29% examples, 383048 words/s, in_qsize 16, out_qsize 0\n",
      "2020-07-18 03:26:20,721 : INFO : EPOCH 16 - PROGRESS: at 27.64% examples, 360503 words/s, in_qsize 15, out_qsize 0\n",
      "2020-07-18 03:26:21,874 : INFO : EPOCH 16 - PROGRESS: at 32.84% examples, 363716 words/s, in_qsize 15, out_qsize 1\n",
      "2020-07-18 03:26:22,883 : INFO : EPOCH 16 - PROGRESS: at 37.59% examples, 365236 words/s, in_qsize 15, out_qsize 0\n",
      "2020-07-18 03:26:23,915 : INFO : EPOCH 16 - PROGRESS: at 41.80% examples, 362093 words/s, in_qsize 15, out_qsize 0\n",
      "2020-07-18 03:26:24,925 : INFO : EPOCH 16 - PROGRESS: at 45.37% examples, 355278 words/s, in_qsize 12, out_qsize 0\n",
      "2020-07-18 03:26:25,990 : INFO : EPOCH 16 - PROGRESS: at 47.97% examples, 341047 words/s, in_qsize 15, out_qsize 0\n",
      "2020-07-18 03:26:27,007 : INFO : EPOCH 16 - PROGRESS: at 51.75% examples, 338286 words/s, in_qsize 13, out_qsize 2\n",
      "2020-07-18 03:26:28,083 : INFO : EPOCH 16 - PROGRESS: at 56.62% examples, 340988 words/s, in_qsize 14, out_qsize 1\n",
      "2020-07-18 03:26:29,092 : INFO : EPOCH 16 - PROGRESS: at 61.71% examples, 346073 words/s, in_qsize 16, out_qsize 0\n",
      "2020-07-18 03:26:30,098 : INFO : EPOCH 16 - PROGRESS: at 66.15% examples, 347148 words/s, in_qsize 16, out_qsize 0\n",
      "2020-07-18 03:26:31,116 : INFO : EPOCH 16 - PROGRESS: at 70.48% examples, 347324 words/s, in_qsize 14, out_qsize 2\n",
      "2020-07-18 03:26:32,135 : INFO : EPOCH 16 - PROGRESS: at 75.46% examples, 350473 words/s, in_qsize 16, out_qsize 0\n",
      "2020-07-18 03:26:33,188 : INFO : EPOCH 16 - PROGRESS: at 80.68% examples, 353608 words/s, in_qsize 14, out_qsize 3\n",
      "2020-07-18 03:26:34,200 : INFO : EPOCH 16 - PROGRESS: at 85.66% examples, 356224 words/s, in_qsize 15, out_qsize 2\n",
      "2020-07-18 03:26:35,224 : INFO : EPOCH 16 - PROGRESS: at 89.89% examples, 355379 words/s, in_qsize 13, out_qsize 0\n",
      "2020-07-18 03:26:36,240 : INFO : EPOCH 16 - PROGRESS: at 92.94% examples, 350314 words/s, in_qsize 15, out_qsize 7\n",
      "2020-07-18 03:26:37,247 : INFO : EPOCH 16 - PROGRESS: at 97.61% examples, 351565 words/s, in_qsize 15, out_qsize 1\n",
      "2020-07-18 03:26:37,604 : INFO : worker thread finished; awaiting finish of 7 more threads\n",
      "2020-07-18 03:26:37,606 : INFO : worker thread finished; awaiting finish of 6 more threads\n",
      "2020-07-18 03:26:37,620 : INFO : worker thread finished; awaiting finish of 5 more threads\n",
      "2020-07-18 03:26:37,624 : INFO : worker thread finished; awaiting finish of 4 more threads\n",
      "2020-07-18 03:26:37,626 : INFO : worker thread finished; awaiting finish of 3 more threads\n",
      "2020-07-18 03:26:37,641 : INFO : worker thread finished; awaiting finish of 2 more threads\n",
      "2020-07-18 03:26:37,645 : INFO : worker thread finished; awaiting finish of 1 more threads\n",
      "2020-07-18 03:26:37,662 : INFO : worker thread finished; awaiting finish of 0 more threads\n",
      "2020-07-18 03:26:37,663 : INFO : EPOCH - 16 : training on 9227204 raw words (8221995 effective words) took 23.2s, 353755 effective words/s\n",
      "2020-07-18 03:26:38,696 : INFO : EPOCH 17 - PROGRESS: at 4.67% examples, 374284 words/s, in_qsize 15, out_qsize 0\n",
      "2020-07-18 03:26:39,710 : INFO : EPOCH 17 - PROGRESS: at 9.88% examples, 398084 words/s, in_qsize 14, out_qsize 2\n",
      "2020-07-18 03:26:40,792 : INFO : EPOCH 17 - PROGRESS: at 14.86% examples, 391321 words/s, in_qsize 15, out_qsize 0\n",
      "2020-07-18 03:26:41,852 : INFO : EPOCH 17 - PROGRESS: at 20.27% examples, 398494 words/s, in_qsize 15, out_qsize 0\n",
      "2020-07-18 03:26:42,858 : INFO : EPOCH 17 - PROGRESS: at 25.59% examples, 405440 words/s, in_qsize 16, out_qsize 0\n",
      "2020-07-18 03:26:43,865 : INFO : EPOCH 17 - PROGRESS: at 30.46% examples, 404280 words/s, in_qsize 16, out_qsize 1\n",
      "2020-07-18 03:26:44,970 : INFO : EPOCH 17 - PROGRESS: at 35.75% examples, 402862 words/s, in_qsize 14, out_qsize 1\n",
      "2020-07-18 03:26:45,975 : INFO : EPOCH 17 - PROGRESS: at 40.08% examples, 396992 words/s, in_qsize 14, out_qsize 1\n",
      "2020-07-18 03:26:47,050 : INFO : EPOCH 17 - PROGRESS: at 44.62% examples, 391369 words/s, in_qsize 16, out_qsize 2\n",
      "2020-07-18 03:26:48,070 : INFO : EPOCH 17 - PROGRESS: at 49.06% examples, 388142 words/s, in_qsize 15, out_qsize 1\n",
      "2020-07-18 03:26:49,071 : INFO : EPOCH 17 - PROGRESS: at 53.70% examples, 387651 words/s, in_qsize 15, out_qsize 1\n",
      "2020-07-18 03:26:50,154 : INFO : EPOCH 17 - PROGRESS: at 59.34% examples, 391149 words/s, in_qsize 15, out_qsize 0\n",
      "2020-07-18 03:26:51,160 : INFO : EPOCH 17 - PROGRESS: at 64.40% examples, 393030 words/s, in_qsize 13, out_qsize 3\n",
      "2020-07-18 03:26:52,247 : INFO : EPOCH 17 - PROGRESS: at 69.40% examples, 391849 words/s, in_qsize 15, out_qsize 0\n",
      "2020-07-18 03:26:53,294 : INFO : EPOCH 17 - PROGRESS: at 74.69% examples, 393490 words/s, in_qsize 15, out_qsize 0\n",
      "2020-07-18 03:26:54,300 : INFO : EPOCH 17 - PROGRESS: at 79.16% examples, 391643 words/s, in_qsize 15, out_qsize 0\n",
      "2020-07-18 03:26:55,365 : INFO : EPOCH 17 - PROGRESS: at 84.48% examples, 392756 words/s, in_qsize 15, out_qsize 0\n",
      "2020-07-18 03:26:56,489 : INFO : EPOCH 17 - PROGRESS: at 89.45% examples, 391466 words/s, in_qsize 14, out_qsize 4\n",
      "2020-07-18 03:26:57,606 : INFO : EPOCH 17 - PROGRESS: at 93.71% examples, 386520 words/s, in_qsize 14, out_qsize 1\n",
      "2020-07-18 03:26:58,721 : INFO : EPOCH 17 - PROGRESS: at 96.85% examples, 378321 words/s, in_qsize 15, out_qsize 0\n",
      "2020-07-18 03:26:59,230 : INFO : worker thread finished; awaiting finish of 7 more threads\n",
      "2020-07-18 03:26:59,258 : INFO : worker thread finished; awaiting finish of 6 more threads\n",
      "2020-07-18 03:26:59,265 : INFO : worker thread finished; awaiting finish of 5 more threads\n",
      "2020-07-18 03:26:59,267 : INFO : worker thread finished; awaiting finish of 4 more threads\n",
      "2020-07-18 03:26:59,303 : INFO : worker thread finished; awaiting finish of 3 more threads\n",
      "2020-07-18 03:26:59,312 : INFO : worker thread finished; awaiting finish of 2 more threads\n",
      "2020-07-18 03:26:59,315 : INFO : worker thread finished; awaiting finish of 1 more threads\n",
      "2020-07-18 03:26:59,316 : INFO : worker thread finished; awaiting finish of 0 more threads\n",
      "2020-07-18 03:26:59,318 : INFO : EPOCH - 17 : training on 9227204 raw words (8222364 effective words) took 21.6s, 379886 effective words/s\n",
      "2020-07-18 03:27:00,363 : INFO : EPOCH 18 - PROGRESS: at 4.01% examples, 317945 words/s, in_qsize 15, out_qsize 2\n",
      "2020-07-18 03:27:01,368 : INFO : EPOCH 18 - PROGRESS: at 9.45% examples, 379820 words/s, in_qsize 14, out_qsize 0\n",
      "2020-07-18 03:27:02,380 : INFO : EPOCH 18 - PROGRESS: at 14.11% examples, 379300 words/s, in_qsize 13, out_qsize 1\n",
      "2020-07-18 03:27:03,428 : INFO : EPOCH 18 - PROGRESS: at 19.08% examples, 382256 words/s, in_qsize 16, out_qsize 0\n",
      "2020-07-18 03:27:04,458 : INFO : EPOCH 18 - PROGRESS: at 24.17% examples, 387196 words/s, in_qsize 15, out_qsize 1\n",
      "2020-07-18 03:27:05,515 : INFO : EPOCH 18 - PROGRESS: at 29.16% examples, 387315 words/s, in_qsize 16, out_qsize 1\n",
      "2020-07-18 03:27:06,574 : INFO : EPOCH 18 - PROGRESS: at 34.46% examples, 390960 words/s, in_qsize 16, out_qsize 0\n",
      "2020-07-18 03:27:07,601 : INFO : EPOCH 18 - PROGRESS: at 39.33% examples, 390859 words/s, in_qsize 16, out_qsize 0\n",
      "2020-07-18 03:27:08,619 : INFO : EPOCH 18 - PROGRESS: at 43.64% examples, 386413 words/s, in_qsize 13, out_qsize 0\n",
      "2020-07-18 03:27:09,627 : INFO : EPOCH 18 - PROGRESS: at 46.79% examples, 373667 words/s, in_qsize 15, out_qsize 0\n",
      "2020-07-18 03:27:10,627 : INFO : EPOCH 18 - PROGRESS: at 51.96% examples, 378457 words/s, in_qsize 15, out_qsize 1\n",
      "2020-07-18 03:27:11,662 : INFO : EPOCH 18 - PROGRESS: at 57.16% examples, 381404 words/s, in_qsize 16, out_qsize 0\n",
      "2020-07-18 03:27:12,668 : INFO : EPOCH 18 - PROGRESS: at 62.03% examples, 382710 words/s, in_qsize 16, out_qsize 0\n",
      "2020-07-18 03:27:13,672 : INFO : EPOCH 18 - PROGRESS: at 66.91% examples, 383879 words/s, in_qsize 13, out_qsize 2\n",
      "2020-07-18 03:27:14,677 : INFO : EPOCH 18 - PROGRESS: at 71.99% examples, 386013 words/s, in_qsize 16, out_qsize 0\n",
      "2020-07-18 03:27:15,693 : INFO : EPOCH 18 - PROGRESS: at 77.31% examples, 388679 words/s, in_qsize 15, out_qsize 0\n",
      "2020-07-18 03:27:16,711 : INFO : EPOCH 18 - PROGRESS: at 82.32% examples, 389499 words/s, in_qsize 15, out_qsize 0\n",
      "2020-07-18 03:27:17,730 : INFO : EPOCH 18 - PROGRESS: at 87.51% examples, 391170 words/s, in_qsize 15, out_qsize 0\n",
      "2020-07-18 03:27:18,773 : INFO : EPOCH 18 - PROGRESS: at 92.07% examples, 389387 words/s, in_qsize 14, out_qsize 1\n",
      "2020-07-18 03:27:19,783 : INFO : EPOCH 18 - PROGRESS: at 95.77% examples, 384957 words/s, in_qsize 15, out_qsize 0\n",
      "2020-07-18 03:27:20,829 : INFO : EPOCH 18 - PROGRESS: at 98.90% examples, 378249 words/s, in_qsize 11, out_qsize 0\n",
      "2020-07-18 03:27:20,890 : INFO : worker thread finished; awaiting finish of 7 more threads\n",
      "2020-07-18 03:27:20,937 : INFO : worker thread finished; awaiting finish of 6 more threads\n",
      "2020-07-18 03:27:20,944 : INFO : worker thread finished; awaiting finish of 5 more threads\n",
      "2020-07-18 03:27:20,949 : INFO : worker thread finished; awaiting finish of 4 more threads\n",
      "2020-07-18 03:27:20,953 : INFO : worker thread finished; awaiting finish of 3 more threads\n",
      "2020-07-18 03:27:21,017 : INFO : worker thread finished; awaiting finish of 2 more threads\n",
      "2020-07-18 03:27:21,020 : INFO : worker thread finished; awaiting finish of 1 more threads\n",
      "2020-07-18 03:27:21,021 : INFO : worker thread finished; awaiting finish of 0 more threads\n",
      "2020-07-18 03:27:21,024 : INFO : EPOCH - 18 : training on 9227204 raw words (8223168 effective words) took 21.7s, 379014 effective words/s\n",
      "2020-07-18 03:27:22,090 : INFO : EPOCH 19 - PROGRESS: at 3.91% examples, 305774 words/s, in_qsize 14, out_qsize 1\n",
      "2020-07-18 03:27:23,095 : INFO : EPOCH 19 - PROGRESS: at 8.90% examples, 355692 words/s, in_qsize 14, out_qsize 1\n",
      "2020-07-18 03:27:24,159 : INFO : EPOCH 19 - PROGRESS: at 14.00% examples, 368584 words/s, in_qsize 15, out_qsize 0\n",
      "2020-07-18 03:27:25,161 : INFO : EPOCH 19 - PROGRESS: at 18.00% examples, 358915 words/s, in_qsize 14, out_qsize 0\n",
      "2020-07-18 03:27:26,240 : INFO : EPOCH 19 - PROGRESS: at 22.65% examples, 358159 words/s, in_qsize 14, out_qsize 1\n",
      "2020-07-18 03:27:27,265 : INFO : EPOCH 19 - PROGRESS: at 28.07% examples, 370734 words/s, in_qsize 15, out_qsize 0\n",
      "2020-07-18 03:27:28,277 : INFO : EPOCH 19 - PROGRESS: at 32.95% examples, 374269 words/s, in_qsize 15, out_qsize 0\n",
      "2020-07-18 03:27:29,296 : INFO : EPOCH 19 - PROGRESS: at 36.61% examples, 364782 words/s, in_qsize 13, out_qsize 2\n",
      "2020-07-18 03:27:30,331 : INFO : EPOCH 19 - PROGRESS: at 39.43% examples, 349048 words/s, in_qsize 15, out_qsize 0\n",
      "2020-07-18 03:27:31,360 : INFO : EPOCH 19 - PROGRESS: at 42.68% examples, 340147 words/s, in_qsize 14, out_qsize 3\n",
      "2020-07-18 03:27:32,381 : INFO : EPOCH 19 - PROGRESS: at 48.08% examples, 348784 words/s, in_qsize 16, out_qsize 0\n",
      "2020-07-18 03:27:33,387 : INFO : EPOCH 19 - PROGRESS: at 52.62% examples, 350671 words/s, in_qsize 15, out_qsize 0\n",
      "2020-07-18 03:27:34,408 : INFO : EPOCH 19 - PROGRESS: at 57.49% examples, 353879 words/s, in_qsize 14, out_qsize 2\n",
      "2020-07-18 03:27:35,488 : INFO : EPOCH 19 - PROGRESS: at 62.79% examples, 357644 words/s, in_qsize 16, out_qsize 0\n",
      "2020-07-18 03:27:36,513 : INFO : EPOCH 19 - PROGRESS: at 67.99% examples, 361575 words/s, in_qsize 15, out_qsize 0\n",
      "2020-07-18 03:27:37,530 : INFO : EPOCH 19 - PROGRESS: at 73.62% examples, 367346 words/s, in_qsize 15, out_qsize 0\n",
      "2020-07-18 03:27:38,554 : INFO : EPOCH 19 - PROGRESS: at 78.62% examples, 369266 words/s, in_qsize 15, out_qsize 0\n",
      "2020-07-18 03:27:39,599 : INFO : EPOCH 19 - PROGRESS: at 83.40% examples, 369596 words/s, in_qsize 16, out_qsize 0\n",
      "2020-07-18 03:27:40,629 : INFO : EPOCH 19 - PROGRESS: at 87.18% examples, 366063 words/s, in_qsize 14, out_qsize 0\n",
      "2020-07-18 03:27:41,684 : INFO : EPOCH 19 - PROGRESS: at 91.63% examples, 365014 words/s, in_qsize 13, out_qsize 3\n",
      "2020-07-18 03:27:42,738 : INFO : EPOCH 19 - PROGRESS: at 96.53% examples, 365764 words/s, in_qsize 14, out_qsize 1\n",
      "2020-07-18 03:27:43,236 : INFO : worker thread finished; awaiting finish of 7 more threads\n",
      "2020-07-18 03:27:43,240 : INFO : worker thread finished; awaiting finish of 6 more threads\n",
      "2020-07-18 03:27:43,241 : INFO : worker thread finished; awaiting finish of 5 more threads\n",
      "2020-07-18 03:27:43,261 : INFO : worker thread finished; awaiting finish of 4 more threads\n",
      "2020-07-18 03:27:43,264 : INFO : worker thread finished; awaiting finish of 3 more threads\n",
      "2020-07-18 03:27:43,266 : INFO : worker thread finished; awaiting finish of 2 more threads\n",
      "2020-07-18 03:27:43,280 : INFO : worker thread finished; awaiting finish of 1 more threads\n",
      "2020-07-18 03:27:43,283 : INFO : worker thread finished; awaiting finish of 0 more threads\n",
      "2020-07-18 03:27:43,283 : INFO : EPOCH - 19 : training on 9227204 raw words (8221831 effective words) took 22.2s, 369654 effective words/s\n",
      "2020-07-18 03:27:44,425 : INFO : EPOCH 20 - PROGRESS: at 4.78% examples, 347412 words/s, in_qsize 14, out_qsize 1\n",
      "2020-07-18 03:27:45,446 : INFO : EPOCH 20 - PROGRESS: at 9.99% examples, 381493 words/s, in_qsize 15, out_qsize 0\n",
      "2020-07-18 03:27:46,465 : INFO : EPOCH 20 - PROGRESS: at 15.30% examples, 396509 words/s, in_qsize 15, out_qsize 0\n",
      "2020-07-18 03:27:47,468 : INFO : EPOCH 20 - PROGRESS: at 20.27% examples, 399382 words/s, in_qsize 16, out_qsize 0\n",
      "2020-07-18 03:27:48,550 : INFO : EPOCH 20 - PROGRESS: at 24.94% examples, 390090 words/s, in_qsize 15, out_qsize 0\n",
      "2020-07-18 03:27:49,566 : INFO : EPOCH 20 - PROGRESS: at 30.13% examples, 395070 words/s, in_qsize 14, out_qsize 1\n",
      "2020-07-18 03:27:50,597 : INFO : EPOCH 20 - PROGRESS: at 35.21% examples, 396551 words/s, in_qsize 14, out_qsize 1\n",
      "2020-07-18 03:27:51,620 : INFO : EPOCH 20 - PROGRESS: at 39.43% examples, 389546 words/s, in_qsize 12, out_qsize 2\n",
      "2020-07-18 03:27:52,717 : INFO : EPOCH 20 - PROGRESS: at 43.00% examples, 375375 words/s, in_qsize 13, out_qsize 2\n",
      "2020-07-18 03:27:53,791 : INFO : EPOCH 20 - PROGRESS: at 48.40% examples, 379423 words/s, in_qsize 15, out_qsize 0\n",
      "2020-07-18 03:27:54,800 : INFO : EPOCH 20 - PROGRESS: at 53.48% examples, 382634 words/s, in_qsize 13, out_qsize 2\n",
      "2020-07-18 03:27:55,818 : INFO : EPOCH 20 - PROGRESS: at 58.46% examples, 384178 words/s, in_qsize 16, out_qsize 0\n",
      "2020-07-18 03:27:56,861 : INFO : EPOCH 20 - PROGRESS: at 63.65% examples, 386183 words/s, in_qsize 15, out_qsize 0\n",
      "2020-07-18 03:27:57,866 : INFO : EPOCH 20 - PROGRESS: at 69.29% examples, 391359 words/s, in_qsize 15, out_qsize 0\n",
      "2020-07-18 03:27:58,943 : INFO : EPOCH 20 - PROGRESS: at 73.94% examples, 389587 words/s, in_qsize 15, out_qsize 3\n",
      "2020-07-18 03:27:59,915 : INFO : EPOCH 20 - PROGRESS: at 79.27% examples, 392371 words/s, in_qsize 15, out_qsize 0\n",
      "2020-07-18 03:28:00,989 : INFO : EPOCH 20 - PROGRESS: at 84.37% examples, 392238 words/s, in_qsize 15, out_qsize 0\n",
      "2020-07-18 03:28:02,011 : INFO : EPOCH 20 - PROGRESS: at 87.83% examples, 386031 words/s, in_qsize 15, out_qsize 0\n",
      "2020-07-18 03:28:03,119 : INFO : EPOCH 20 - PROGRESS: at 92.07% examples, 381955 words/s, in_qsize 16, out_qsize 0\n",
      "2020-07-18 03:28:04,143 : INFO : EPOCH 20 - PROGRESS: at 96.31% examples, 379852 words/s, in_qsize 16, out_qsize 0\n",
      "2020-07-18 03:28:04,746 : INFO : worker thread finished; awaiting finish of 7 more threads\n",
      "2020-07-18 03:28:04,781 : INFO : worker thread finished; awaiting finish of 6 more threads\n",
      "2020-07-18 03:28:04,790 : INFO : worker thread finished; awaiting finish of 5 more threads\n",
      "2020-07-18 03:28:04,798 : INFO : worker thread finished; awaiting finish of 4 more threads\n",
      "2020-07-18 03:28:04,806 : INFO : worker thread finished; awaiting finish of 3 more threads\n",
      "2020-07-18 03:28:04,833 : INFO : worker thread finished; awaiting finish of 2 more threads\n",
      "2020-07-18 03:28:04,837 : INFO : worker thread finished; awaiting finish of 1 more threads\n",
      "2020-07-18 03:28:04,840 : INFO : worker thread finished; awaiting finish of 0 more threads\n",
      "2020-07-18 03:28:04,841 : INFO : EPOCH - 20 : training on 9227204 raw words (8221888 effective words) took 21.5s, 381645 effective words/s\n",
      "2020-07-18 03:28:05,869 : INFO : EPOCH 21 - PROGRESS: at 4.67% examples, 376251 words/s, in_qsize 15, out_qsize 0\n",
      "2020-07-18 03:28:06,924 : INFO : EPOCH 21 - PROGRESS: at 9.34% examples, 369576 words/s, in_qsize 16, out_qsize 0\n",
      "2020-07-18 03:28:07,957 : INFO : EPOCH 21 - PROGRESS: at 14.54% examples, 384122 words/s, in_qsize 15, out_qsize 0\n",
      "2020-07-18 03:28:09,011 : INFO : EPOCH 21 - PROGRESS: at 19.84% examples, 391662 words/s, in_qsize 15, out_qsize 0\n",
      "2020-07-18 03:28:10,103 : INFO : EPOCH 21 - PROGRESS: at 25.37% examples, 400120 words/s, in_qsize 15, out_qsize 0\n",
      "2020-07-18 03:28:11,065 : INFO : EPOCH 21 - PROGRESS: at 30.46% examples, 402782 words/s, in_qsize 12, out_qsize 2\n",
      "2020-07-18 03:28:12,098 : INFO : EPOCH 21 - PROGRESS: at 35.21% examples, 400670 words/s, in_qsize 14, out_qsize 5\n",
      "2020-07-18 03:28:13,146 : INFO : EPOCH 21 - PROGRESS: at 39.76% examples, 394072 words/s, in_qsize 12, out_qsize 3\n",
      "2020-07-18 03:28:14,153 : INFO : EPOCH 21 - PROGRESS: at 43.75% examples, 386846 words/s, in_qsize 16, out_qsize 0\n",
      "2020-07-18 03:28:15,252 : INFO : EPOCH 21 - PROGRESS: at 48.08% examples, 380474 words/s, in_qsize 15, out_qsize 2\n",
      "2020-07-18 03:28:16,253 : INFO : EPOCH 21 - PROGRESS: at 53.38% examples, 385155 words/s, in_qsize 15, out_qsize 0\n",
      "2020-07-18 03:28:17,256 : INFO : EPOCH 21 - PROGRESS: at 58.69% examples, 389211 words/s, in_qsize 14, out_qsize 0\n",
      "2020-07-18 03:28:18,272 : INFO : EPOCH 21 - PROGRESS: at 63.65% examples, 390306 words/s, in_qsize 13, out_qsize 2\n",
      "2020-07-18 03:28:19,293 : INFO : EPOCH 21 - PROGRESS: at 69.07% examples, 393536 words/s, in_qsize 16, out_qsize 0\n",
      "2020-07-18 03:28:20,353 : INFO : EPOCH 21 - PROGRESS: at 71.78% examples, 380999 words/s, in_qsize 14, out_qsize 3\n",
      "2020-07-18 03:28:21,366 : INFO : EPOCH 21 - PROGRESS: at 77.09% examples, 384063 words/s, in_qsize 15, out_qsize 0\n",
      "2020-07-18 03:28:22,383 : INFO : EPOCH 21 - PROGRESS: at 82.53% examples, 387194 words/s, in_qsize 15, out_qsize 0\n",
      "2020-07-18 03:28:23,407 : INFO : EPOCH 21 - PROGRESS: at 87.18% examples, 386455 words/s, in_qsize 14, out_qsize 1\n",
      "2020-07-18 03:28:24,495 : INFO : EPOCH 21 - PROGRESS: at 91.31% examples, 382264 words/s, in_qsize 16, out_qsize 0\n",
      "2020-07-18 03:28:25,509 : INFO : EPOCH 21 - PROGRESS: at 94.36% examples, 375557 words/s, in_qsize 14, out_qsize 3\n",
      "2020-07-18 03:28:26,532 : INFO : EPOCH 21 - PROGRESS: at 98.26% examples, 372629 words/s, in_qsize 16, out_qsize 0\n",
      "2020-07-18 03:28:26,704 : INFO : worker thread finished; awaiting finish of 7 more threads\n",
      "2020-07-18 03:28:26,709 : INFO : worker thread finished; awaiting finish of 6 more threads\n",
      "2020-07-18 03:28:26,730 : INFO : worker thread finished; awaiting finish of 5 more threads\n",
      "2020-07-18 03:28:26,751 : INFO : worker thread finished; awaiting finish of 4 more threads\n",
      "2020-07-18 03:28:26,794 : INFO : worker thread finished; awaiting finish of 3 more threads\n",
      "2020-07-18 03:28:26,797 : INFO : worker thread finished; awaiting finish of 2 more threads\n",
      "2020-07-18 03:28:26,799 : INFO : worker thread finished; awaiting finish of 1 more threads\n",
      "2020-07-18 03:28:26,801 : INFO : worker thread finished; awaiting finish of 0 more threads\n",
      "2020-07-18 03:28:26,802 : INFO : EPOCH - 21 : training on 9227204 raw words (8222450 effective words) took 22.0s, 374590 effective words/s\n",
      "2020-07-18 03:28:27,937 : INFO : EPOCH 22 - PROGRESS: at 4.78% examples, 351391 words/s, in_qsize 14, out_qsize 1\n",
      "2020-07-18 03:28:28,942 : INFO : EPOCH 22 - PROGRESS: at 9.66% examples, 373958 words/s, in_qsize 15, out_qsize 1\n",
      "2020-07-18 03:28:29,954 : INFO : EPOCH 22 - PROGRESS: at 14.86% examples, 389475 words/s, in_qsize 12, out_qsize 0\n",
      "2020-07-18 03:28:30,990 : INFO : EPOCH 22 - PROGRESS: at 19.73% examples, 388802 words/s, in_qsize 15, out_qsize 0\n",
      "2020-07-18 03:28:32,062 : INFO : EPOCH 22 - PROGRESS: at 24.39% examples, 382402 words/s, in_qsize 15, out_qsize 0\n",
      "2020-07-18 03:28:33,131 : INFO : EPOCH 22 - PROGRESS: at 29.37% examples, 382558 words/s, in_qsize 15, out_qsize 1\n",
      "2020-07-18 03:28:34,141 : INFO : EPOCH 22 - PROGRESS: at 33.16% examples, 372292 words/s, in_qsize 15, out_qsize 6\n",
      "2020-07-18 03:28:35,152 : INFO : EPOCH 22 - PROGRESS: at 37.92% examples, 374161 words/s, in_qsize 13, out_qsize 1\n",
      "2020-07-18 03:28:36,187 : INFO : EPOCH 22 - PROGRESS: at 41.92% examples, 368006 words/s, in_qsize 16, out_qsize 0\n",
      "2020-07-18 03:28:37,202 : INFO : EPOCH 22 - PROGRESS: at 45.48% examples, 360342 words/s, in_qsize 16, out_qsize 0\n",
      "2020-07-18 03:28:38,212 : INFO : EPOCH 22 - PROGRESS: at 50.78% examples, 366714 words/s, in_qsize 15, out_qsize 0\n",
      "2020-07-18 03:28:39,217 : INFO : EPOCH 22 - PROGRESS: at 55.86% examples, 370803 words/s, in_qsize 16, out_qsize 0\n",
      "2020-07-18 03:28:40,284 : INFO : EPOCH 22 - PROGRESS: at 61.07% examples, 374082 words/s, in_qsize 15, out_qsize 0\n",
      "2020-07-18 03:28:41,273 : INFO : EPOCH 22 - PROGRESS: at 66.47% examples, 378455 words/s, in_qsize 16, out_qsize 0\n",
      "2020-07-18 03:28:42,301 : INFO : EPOCH 22 - PROGRESS: at 71.67% examples, 380951 words/s, in_qsize 16, out_qsize 0\n",
      "2020-07-18 03:28:43,316 : INFO : EPOCH 22 - PROGRESS: at 75.89% examples, 378814 words/s, in_qsize 15, out_qsize 4\n",
      "2020-07-18 03:28:44,375 : INFO : EPOCH 22 - PROGRESS: at 81.34% examples, 381600 words/s, in_qsize 15, out_qsize 1\n",
      "2020-07-18 03:28:45,412 : INFO : EPOCH 22 - PROGRESS: at 86.42% examples, 382324 words/s, in_qsize 16, out_qsize 0\n",
      "2020-07-18 03:28:46,446 : INFO : EPOCH 22 - PROGRESS: at 90.87% examples, 380774 words/s, in_qsize 15, out_qsize 0\n",
      "2020-07-18 03:28:47,456 : INFO : EPOCH 22 - PROGRESS: at 94.58% examples, 376796 words/s, in_qsize 14, out_qsize 1\n",
      "2020-07-18 03:28:48,477 : INFO : EPOCH 22 - PROGRESS: at 99.23% examples, 376735 words/s, in_qsize 8, out_qsize 0\n",
      "2020-07-18 03:28:48,497 : INFO : worker thread finished; awaiting finish of 7 more threads\n",
      "2020-07-18 03:28:48,516 : INFO : worker thread finished; awaiting finish of 6 more threads\n",
      "2020-07-18 03:28:48,524 : INFO : worker thread finished; awaiting finish of 5 more threads\n",
      "2020-07-18 03:28:48,538 : INFO : worker thread finished; awaiting finish of 4 more threads\n",
      "2020-07-18 03:28:48,542 : INFO : worker thread finished; awaiting finish of 3 more threads\n",
      "2020-07-18 03:28:48,544 : INFO : worker thread finished; awaiting finish of 2 more threads\n",
      "2020-07-18 03:28:48,558 : INFO : worker thread finished; awaiting finish of 1 more threads\n",
      "2020-07-18 03:28:48,561 : INFO : worker thread finished; awaiting finish of 0 more threads\n",
      "2020-07-18 03:28:48,562 : INFO : EPOCH - 22 : training on 9227204 raw words (8221697 effective words) took 21.7s, 378182 effective words/s\n",
      "2020-07-18 03:28:49,588 : INFO : EPOCH 23 - PROGRESS: at 4.23% examples, 341866 words/s, in_qsize 15, out_qsize 0\n",
      "2020-07-18 03:28:50,593 : INFO : EPOCH 23 - PROGRESS: at 9.66% examples, 392246 words/s, in_qsize 14, out_qsize 0\n",
      "2020-07-18 03:28:51,595 : INFO : EPOCH 23 - PROGRESS: at 14.54% examples, 394638 words/s, in_qsize 13, out_qsize 2\n",
      "2020-07-18 03:28:52,719 : INFO : EPOCH 23 - PROGRESS: at 19.51% examples, 386449 words/s, in_qsize 13, out_qsize 2\n",
      "2020-07-18 03:28:53,720 : INFO : EPOCH 23 - PROGRESS: at 24.61% examples, 392718 words/s, in_qsize 15, out_qsize 0\n",
      "2020-07-18 03:28:54,728 : INFO : EPOCH 23 - PROGRESS: at 30.02% examples, 400803 words/s, in_qsize 15, out_qsize 0\n",
      "2020-07-18 03:28:55,747 : INFO : EPOCH 23 - PROGRESS: at 35.00% examples, 400996 words/s, in_qsize 14, out_qsize 1\n",
      "2020-07-18 03:28:56,753 : INFO : EPOCH 23 - PROGRESS: at 39.76% examples, 399583 words/s, in_qsize 15, out_qsize 0\n",
      "2020-07-18 03:28:57,801 : INFO : EPOCH 23 - PROGRESS: at 43.75% examples, 389919 words/s, in_qsize 15, out_qsize 0\n",
      "2020-07-18 03:28:58,962 : INFO : EPOCH 23 - PROGRESS: at 47.10% examples, 372938 words/s, in_qsize 15, out_qsize 7\n",
      "2020-07-18 03:28:59,964 : INFO : EPOCH 23 - PROGRESS: at 52.51% examples, 379294 words/s, in_qsize 15, out_qsize 0\n",
      "2020-07-18 03:29:00,985 : INFO : EPOCH 23 - PROGRESS: at 57.49% examples, 381154 words/s, in_qsize 16, out_qsize 4\n",
      "2020-07-18 03:29:02,038 : INFO : EPOCH 23 - PROGRESS: at 62.89% examples, 384410 words/s, in_qsize 16, out_qsize 2\n",
      "2020-07-18 03:29:03,081 : INFO : EPOCH 23 - PROGRESS: at 67.77% examples, 384380 words/s, in_qsize 13, out_qsize 2\n",
      "2020-07-18 03:29:04,090 : INFO : EPOCH 23 - PROGRESS: at 72.53% examples, 384638 words/s, in_qsize 16, out_qsize 0\n",
      "2020-07-18 03:29:05,129 : INFO : EPOCH 23 - PROGRESS: at 76.22% examples, 378774 words/s, in_qsize 16, out_qsize 1\n",
      "2020-07-18 03:29:06,141 : INFO : EPOCH 23 - PROGRESS: at 80.79% examples, 378250 words/s, in_qsize 15, out_qsize 0\n",
      "2020-07-18 03:29:07,143 : INFO : EPOCH 23 - PROGRESS: at 85.77% examples, 379921 words/s, in_qsize 15, out_qsize 0\n",
      "2020-07-18 03:29:08,291 : INFO : EPOCH 23 - PROGRESS: at 90.11% examples, 375959 words/s, in_qsize 15, out_qsize 1\n",
      "2020-07-18 03:29:09,589 : INFO : EPOCH 23 - PROGRESS: at 94.58% examples, 370105 words/s, in_qsize 16, out_qsize 8\n",
      "2020-07-18 03:29:10,588 : INFO : EPOCH 23 - PROGRESS: at 99.12% examples, 370199 words/s, in_qsize 9, out_qsize 0\n",
      "2020-07-18 03:29:10,615 : INFO : worker thread finished; awaiting finish of 7 more threads\n",
      "2020-07-18 03:29:10,636 : INFO : worker thread finished; awaiting finish of 6 more threads\n",
      "2020-07-18 03:29:10,640 : INFO : worker thread finished; awaiting finish of 5 more threads\n",
      "2020-07-18 03:29:10,643 : INFO : worker thread finished; awaiting finish of 4 more threads\n",
      "2020-07-18 03:29:10,649 : INFO : worker thread finished; awaiting finish of 3 more threads\n",
      "2020-07-18 03:29:10,655 : INFO : worker thread finished; awaiting finish of 2 more threads\n",
      "2020-07-18 03:29:10,660 : INFO : worker thread finished; awaiting finish of 1 more threads\n",
      "2020-07-18 03:29:10,666 : INFO : worker thread finished; awaiting finish of 0 more threads\n",
      "2020-07-18 03:29:10,667 : INFO : EPOCH - 23 : training on 9227204 raw words (8222953 effective words) took 22.1s, 372162 effective words/s\n",
      "2020-07-18 03:29:11,720 : INFO : EPOCH 24 - PROGRESS: at 4.13% examples, 328603 words/s, in_qsize 13, out_qsize 3\n",
      "2020-07-18 03:29:12,714 : INFO : EPOCH 24 - PROGRESS: at 9.23% examples, 371845 words/s, in_qsize 15, out_qsize 1\n",
      "2020-07-18 03:29:13,773 : INFO : EPOCH 24 - PROGRESS: at 14.11% examples, 374590 words/s, in_qsize 15, out_qsize 1\n",
      "2020-07-18 03:29:14,802 : INFO : EPOCH 24 - PROGRESS: at 19.84% examples, 395075 words/s, in_qsize 16, out_qsize 0\n",
      "2020-07-18 03:29:15,932 : INFO : EPOCH 24 - PROGRESS: at 25.26% examples, 395316 words/s, in_qsize 15, out_qsize 1\n",
      "2020-07-18 03:29:16,938 : INFO : EPOCH 24 - PROGRESS: at 30.67% examples, 402674 words/s, in_qsize 13, out_qsize 2\n",
      "2020-07-18 03:29:17,955 : INFO : EPOCH 24 - PROGRESS: at 35.64% examples, 402685 words/s, in_qsize 15, out_qsize 0\n",
      "2020-07-18 03:29:18,999 : INFO : EPOCH 24 - PROGRESS: at 41.05% examples, 405664 words/s, in_qsize 15, out_qsize 0\n",
      "2020-07-18 03:29:20,000 : INFO : EPOCH 24 - PROGRESS: at 43.96% examples, 387893 words/s, in_qsize 15, out_qsize 0\n",
      "2020-07-18 03:29:21,023 : INFO : EPOCH 24 - PROGRESS: at 47.64% examples, 378847 words/s, in_qsize 13, out_qsize 1\n",
      "2020-07-18 03:29:22,033 : INFO : EPOCH 24 - PROGRESS: at 51.21% examples, 371047 words/s, in_qsize 14, out_qsize 0\n",
      "2020-07-18 03:29:23,049 : INFO : EPOCH 24 - PROGRESS: at 55.97% examples, 372288 words/s, in_qsize 15, out_qsize 1\n",
      "2020-07-18 03:29:24,070 : INFO : EPOCH 24 - PROGRESS: at 61.39% examples, 377175 words/s, in_qsize 16, out_qsize 2\n",
      "2020-07-18 03:29:25,075 : INFO : EPOCH 24 - PROGRESS: at 65.93% examples, 376813 words/s, in_qsize 16, out_qsize 1\n",
      "2020-07-18 03:29:26,076 : INFO : EPOCH 24 - PROGRESS: at 70.16% examples, 374879 words/s, in_qsize 13, out_qsize 1\n",
      "2020-07-18 03:29:27,174 : INFO : EPOCH 24 - PROGRESS: at 75.35% examples, 375839 words/s, in_qsize 14, out_qsize 1\n",
      "2020-07-18 03:29:28,189 : INFO : EPOCH 24 - PROGRESS: at 80.90% examples, 379984 words/s, in_qsize 14, out_qsize 1\n",
      "2020-07-18 03:29:29,195 : INFO : EPOCH 24 - PROGRESS: at 85.88% examples, 381472 words/s, in_qsize 13, out_qsize 1\n",
      "2020-07-18 03:29:30,222 : INFO : EPOCH 24 - PROGRESS: at 90.76% examples, 381920 words/s, in_qsize 16, out_qsize 0\n",
      "2020-07-18 03:29:31,227 : INFO : EPOCH 24 - PROGRESS: at 94.14% examples, 376667 words/s, in_qsize 14, out_qsize 2\n",
      "2020-07-18 03:29:32,310 : INFO : EPOCH 24 - PROGRESS: at 97.93% examples, 372232 words/s, in_qsize 13, out_qsize 7\n",
      "2020-07-18 03:29:32,509 : INFO : worker thread finished; awaiting finish of 7 more threads\n",
      "2020-07-18 03:29:32,522 : INFO : worker thread finished; awaiting finish of 6 more threads\n",
      "2020-07-18 03:29:32,532 : INFO : worker thread finished; awaiting finish of 5 more threads\n",
      "2020-07-18 03:29:32,535 : INFO : worker thread finished; awaiting finish of 4 more threads\n",
      "2020-07-18 03:29:32,555 : INFO : worker thread finished; awaiting finish of 3 more threads\n",
      "2020-07-18 03:29:32,560 : INFO : worker thread finished; awaiting finish of 2 more threads\n",
      "2020-07-18 03:29:32,569 : INFO : worker thread finished; awaiting finish of 1 more threads\n",
      "2020-07-18 03:29:32,574 : INFO : worker thread finished; awaiting finish of 0 more threads\n",
      "2020-07-18 03:29:32,574 : INFO : EPOCH - 24 : training on 9227204 raw words (8222573 effective words) took 21.9s, 375506 effective words/s\n",
      "2020-07-18 03:29:33,654 : INFO : EPOCH 25 - PROGRESS: at 4.34% examples, 333090 words/s, in_qsize 15, out_qsize 3\n",
      "2020-07-18 03:29:34,674 : INFO : EPOCH 25 - PROGRESS: at 9.56% examples, 375399 words/s, in_qsize 15, out_qsize 1\n",
      "2020-07-18 03:29:35,736 : INFO : EPOCH 25 - PROGRESS: at 14.76% examples, 384450 words/s, in_qsize 15, out_qsize 0\n",
      "2020-07-18 03:29:36,746 : INFO : EPOCH 25 - PROGRESS: at 20.16% examples, 398175 words/s, in_qsize 16, out_qsize 0\n",
      "2020-07-18 03:29:37,759 : INFO : EPOCH 25 - PROGRESS: at 23.53% examples, 373596 words/s, in_qsize 11, out_qsize 6\n",
      "2020-07-18 03:29:38,777 : INFO : EPOCH 25 - PROGRESS: at 28.72% examples, 381256 words/s, in_qsize 15, out_qsize 0\n",
      "2020-07-18 03:29:39,781 : INFO : EPOCH 25 - PROGRESS: at 33.70% examples, 384955 words/s, in_qsize 13, out_qsize 0\n",
      "2020-07-18 03:29:40,820 : INFO : EPOCH 25 - PROGRESS: at 38.57% examples, 385055 words/s, in_qsize 15, out_qsize 2\n",
      "2020-07-18 03:29:41,939 : INFO : EPOCH 25 - PROGRESS: at 42.89% examples, 377107 words/s, in_qsize 14, out_qsize 0\n",
      "2020-07-18 03:29:43,146 : INFO : EPOCH 25 - PROGRESS: at 46.89% examples, 365222 words/s, in_qsize 13, out_qsize 2\n",
      "2020-07-18 03:29:44,177 : INFO : EPOCH 25 - PROGRESS: at 51.75% examples, 367337 words/s, in_qsize 12, out_qsize 3\n",
      "2020-07-18 03:29:45,232 : INFO : EPOCH 25 - PROGRESS: at 57.16% examples, 371952 words/s, in_qsize 14, out_qsize 1\n",
      "2020-07-18 03:29:46,271 : INFO : EPOCH 25 - PROGRESS: at 62.04% examples, 373011 words/s, in_qsize 15, out_qsize 0\n",
      "2020-07-18 03:29:47,392 : INFO : EPOCH 25 - PROGRESS: at 67.45% examples, 374833 words/s, in_qsize 14, out_qsize 1\n",
      "2020-07-18 03:29:48,487 : INFO : EPOCH 25 - PROGRESS: at 72.97% examples, 377591 words/s, in_qsize 14, out_qsize 1\n",
      "2020-07-18 03:29:49,523 : INFO : EPOCH 25 - PROGRESS: at 78.08% examples, 379183 words/s, in_qsize 13, out_qsize 2\n",
      "2020-07-18 03:29:50,596 : INFO : EPOCH 25 - PROGRESS: at 83.50% examples, 381348 words/s, in_qsize 13, out_qsize 2\n",
      "2020-07-18 03:29:51,647 : INFO : EPOCH 25 - PROGRESS: at 89.02% examples, 384148 words/s, in_qsize 15, out_qsize 0\n",
      "2020-07-18 03:29:52,713 : INFO : EPOCH 25 - PROGRESS: at 93.48% examples, 381914 words/s, in_qsize 14, out_qsize 1\n",
      "2020-07-18 03:29:53,793 : INFO : EPOCH 25 - PROGRESS: at 97.93% examples, 379678 words/s, in_qsize 15, out_qsize 2\n",
      "2020-07-18 03:29:54,064 : INFO : worker thread finished; awaiting finish of 7 more threads\n",
      "2020-07-18 03:29:54,069 : INFO : worker thread finished; awaiting finish of 6 more threads\n",
      "2020-07-18 03:29:54,073 : INFO : worker thread finished; awaiting finish of 5 more threads\n",
      "2020-07-18 03:29:54,078 : INFO : worker thread finished; awaiting finish of 4 more threads\n",
      "2020-07-18 03:29:54,135 : INFO : worker thread finished; awaiting finish of 3 more threads\n",
      "2020-07-18 03:29:54,149 : INFO : worker thread finished; awaiting finish of 2 more threads\n",
      "2020-07-18 03:29:54,152 : INFO : worker thread finished; awaiting finish of 1 more threads\n",
      "2020-07-18 03:29:54,155 : INFO : worker thread finished; awaiting finish of 0 more threads\n",
      "2020-07-18 03:29:54,156 : INFO : EPOCH - 25 : training on 9227204 raw words (8222523 effective words) took 21.6s, 381184 effective words/s\n",
      "2020-07-18 03:29:55,296 : INFO : EPOCH 26 - PROGRESS: at 4.13% examples, 302440 words/s, in_qsize 15, out_qsize 2\n",
      "2020-07-18 03:29:56,301 : INFO : EPOCH 26 - PROGRESS: at 9.66% examples, 373355 words/s, in_qsize 14, out_qsize 0\n",
      "2020-07-18 03:29:57,334 : INFO : EPOCH 26 - PROGRESS: at 14.65% examples, 380874 words/s, in_qsize 13, out_qsize 2\n",
      "2020-07-18 03:29:58,347 : INFO : EPOCH 26 - PROGRESS: at 19.51% examples, 384538 words/s, in_qsize 16, out_qsize 0\n",
      "2020-07-18 03:29:59,361 : INFO : EPOCH 26 - PROGRESS: at 24.06% examples, 381508 words/s, in_qsize 13, out_qsize 6\n",
      "2020-07-18 03:30:00,406 : INFO : EPOCH 26 - PROGRESS: at 29.70% examples, 391838 words/s, in_qsize 15, out_qsize 0\n",
      "2020-07-18 03:30:01,417 : INFO : EPOCH 26 - PROGRESS: at 34.78% examples, 394914 words/s, in_qsize 15, out_qsize 0\n",
      "2020-07-18 03:30:02,546 : INFO : EPOCH 26 - PROGRESS: at 39.86% examples, 391648 words/s, in_qsize 14, out_qsize 1\n",
      "2020-07-18 03:30:03,641 : INFO : EPOCH 26 - PROGRESS: at 44.72% examples, 388675 words/s, in_qsize 15, out_qsize 0\n",
      "2020-07-18 03:30:04,671 : INFO : EPOCH 26 - PROGRESS: at 48.94% examples, 383640 words/s, in_qsize 16, out_qsize 0\n",
      "2020-07-18 03:30:05,727 : INFO : EPOCH 26 - PROGRESS: at 52.73% examples, 375597 words/s, in_qsize 12, out_qsize 3\n",
      "2020-07-18 03:30:06,733 : INFO : EPOCH 26 - PROGRESS: at 58.25% examples, 381703 words/s, in_qsize 14, out_qsize 0\n",
      "2020-07-18 03:30:07,785 : INFO : EPOCH 26 - PROGRESS: at 62.89% examples, 380335 words/s, in_qsize 15, out_qsize 0\n",
      "2020-07-18 03:30:08,817 : INFO : EPOCH 26 - PROGRESS: at 67.02% examples, 376644 words/s, in_qsize 15, out_qsize 0\n",
      "2020-07-18 03:30:09,818 : INFO : EPOCH 26 - PROGRESS: at 71.99% examples, 378751 words/s, in_qsize 13, out_qsize 0\n",
      "2020-07-18 03:30:10,827 : INFO : EPOCH 26 - PROGRESS: at 76.66% examples, 378800 words/s, in_qsize 15, out_qsize 4\n",
      "2020-07-18 03:30:11,828 : INFO : EPOCH 26 - PROGRESS: at 81.88% examples, 381545 words/s, in_qsize 13, out_qsize 0\n",
      "2020-07-18 03:30:12,859 : INFO : EPOCH 26 - PROGRESS: at 86.64% examples, 381452 words/s, in_qsize 13, out_qsize 0\n",
      "2020-07-18 03:30:13,878 : INFO : EPOCH 26 - PROGRESS: at 91.42% examples, 381604 words/s, in_qsize 15, out_qsize 0\n",
      "2020-07-18 03:30:15,012 : INFO : EPOCH 26 - PROGRESS: at 95.88% examples, 378347 words/s, in_qsize 14, out_qsize 1\n",
      "2020-07-18 03:30:15,839 : INFO : worker thread finished; awaiting finish of 7 more threads\n",
      "2020-07-18 03:30:15,866 : INFO : worker thread finished; awaiting finish of 6 more threads\n",
      "2020-07-18 03:30:15,870 : INFO : worker thread finished; awaiting finish of 5 more threads\n",
      "2020-07-18 03:30:15,873 : INFO : worker thread finished; awaiting finish of 4 more threads\n",
      "2020-07-18 03:30:15,887 : INFO : worker thread finished; awaiting finish of 3 more threads\n",
      "2020-07-18 03:30:15,952 : INFO : worker thread finished; awaiting finish of 2 more threads\n",
      "2020-07-18 03:30:15,963 : INFO : worker thread finished; awaiting finish of 1 more threads\n",
      "2020-07-18 03:30:15,966 : INFO : worker thread finished; awaiting finish of 0 more threads\n",
      "2020-07-18 03:30:15,967 : INFO : EPOCH - 26 : training on 9227204 raw words (8222369 effective words) took 21.8s, 377341 effective words/s\n",
      "2020-07-18 03:30:17,028 : INFO : EPOCH 27 - PROGRESS: at 4.12% examples, 323916 words/s, in_qsize 15, out_qsize 0\n",
      "2020-07-18 03:30:18,142 : INFO : EPOCH 27 - PROGRESS: at 9.66% examples, 367354 words/s, in_qsize 16, out_qsize 1\n",
      "2020-07-18 03:30:19,180 : INFO : EPOCH 27 - PROGRESS: at 15.19% examples, 390146 words/s, in_qsize 15, out_qsize 0\n",
      "2020-07-18 03:30:20,218 : INFO : EPOCH 27 - PROGRESS: at 18.43% examples, 357492 words/s, in_qsize 15, out_qsize 0\n",
      "2020-07-18 03:30:21,235 : INFO : EPOCH 27 - PROGRESS: at 23.41% examples, 366297 words/s, in_qsize 14, out_qsize 1\n",
      "2020-07-18 03:30:22,322 : INFO : EPOCH 27 - PROGRESS: at 28.61% examples, 370917 words/s, in_qsize 15, out_qsize 0\n",
      "2020-07-18 03:30:23,329 : INFO : EPOCH 27 - PROGRESS: at 32.30% examples, 361321 words/s, in_qsize 15, out_qsize 0\n",
      "2020-07-18 03:30:24,391 : INFO : EPOCH 27 - PROGRESS: at 36.83% examples, 360150 words/s, in_qsize 14, out_qsize 5\n",
      "2020-07-18 03:30:25,466 : INFO : EPOCH 27 - PROGRESS: at 41.92% examples, 363494 words/s, in_qsize 14, out_qsize 0\n",
      "2020-07-18 03:30:26,488 : INFO : EPOCH 27 - PROGRESS: at 46.24% examples, 362031 words/s, in_qsize 13, out_qsize 1\n",
      "2020-07-18 03:30:27,489 : INFO : EPOCH 27 - PROGRESS: at 49.27% examples, 352265 words/s, in_qsize 12, out_qsize 2\n",
      "2020-07-18 03:30:28,521 : INFO : EPOCH 27 - PROGRESS: at 54.35% examples, 356667 words/s, in_qsize 14, out_qsize 1\n",
      "2020-07-18 03:30:29,640 : INFO : EPOCH 27 - PROGRESS: at 59.34% examples, 357465 words/s, in_qsize 15, out_qsize 0\n",
      "2020-07-18 03:30:30,658 : INFO : EPOCH 27 - PROGRESS: at 64.08% examples, 359377 words/s, in_qsize 15, out_qsize 1\n",
      "2020-07-18 03:30:31,726 : INFO : EPOCH 27 - PROGRESS: at 69.50% examples, 363292 words/s, in_qsize 15, out_qsize 0\n",
      "2020-07-18 03:30:32,772 : INFO : EPOCH 27 - PROGRESS: at 74.05% examples, 362929 words/s, in_qsize 15, out_qsize 0\n",
      "2020-07-18 03:30:33,824 : INFO : EPOCH 27 - PROGRESS: at 79.27% examples, 365479 words/s, in_qsize 16, out_qsize 2\n",
      "2020-07-18 03:30:34,843 : INFO : EPOCH 27 - PROGRESS: at 84.26% examples, 367450 words/s, in_qsize 12, out_qsize 3\n",
      "2020-07-18 03:30:35,845 : INFO : EPOCH 27 - PROGRESS: at 89.23% examples, 369522 words/s, in_qsize 14, out_qsize 3\n",
      "2020-07-18 03:30:36,897 : INFO : EPOCH 27 - PROGRESS: at 94.03% examples, 369650 words/s, in_qsize 16, out_qsize 0\n",
      "2020-07-18 03:30:38,008 : INFO : EPOCH 27 - PROGRESS: at 97.50% examples, 363959 words/s, in_qsize 13, out_qsize 2\n",
      "2020-07-18 03:30:38,308 : INFO : worker thread finished; awaiting finish of 7 more threads\n",
      "2020-07-18 03:30:38,343 : INFO : worker thread finished; awaiting finish of 6 more threads\n",
      "2020-07-18 03:30:38,348 : INFO : worker thread finished; awaiting finish of 5 more threads\n",
      "2020-07-18 03:30:38,462 : INFO : worker thread finished; awaiting finish of 4 more threads\n",
      "2020-07-18 03:30:38,467 : INFO : worker thread finished; awaiting finish of 3 more threads\n",
      "2020-07-18 03:30:38,506 : INFO : worker thread finished; awaiting finish of 2 more threads\n",
      "2020-07-18 03:30:38,514 : INFO : worker thread finished; awaiting finish of 1 more threads\n",
      "2020-07-18 03:30:38,515 : INFO : worker thread finished; awaiting finish of 0 more threads\n",
      "2020-07-18 03:30:38,516 : INFO : EPOCH - 27 : training on 9227204 raw words (8222065 effective words) took 22.5s, 364891 effective words/s\n",
      "2020-07-18 03:30:39,567 : INFO : EPOCH 28 - PROGRESS: at 4.45% examples, 358037 words/s, in_qsize 16, out_qsize 0\n",
      "2020-07-18 03:30:40,569 : INFO : EPOCH 28 - PROGRESS: at 8.47% examples, 343605 words/s, in_qsize 15, out_qsize 0\n",
      "2020-07-18 03:30:41,577 : INFO : EPOCH 28 - PROGRESS: at 13.36% examples, 361654 words/s, in_qsize 16, out_qsize 0\n",
      "2020-07-18 03:30:42,583 : INFO : EPOCH 28 - PROGRESS: at 17.68% examples, 359622 words/s, in_qsize 14, out_qsize 1\n",
      "2020-07-18 03:30:43,595 : INFO : EPOCH 28 - PROGRESS: at 22.54% examples, 366996 words/s, in_qsize 13, out_qsize 2\n",
      "2020-07-18 03:30:44,596 : INFO : EPOCH 28 - PROGRESS: at 27.64% examples, 375484 words/s, in_qsize 14, out_qsize 1\n",
      "2020-07-18 03:30:45,611 : INFO : EPOCH 28 - PROGRESS: at 32.73% examples, 380805 words/s, in_qsize 15, out_qsize 0\n",
      "2020-07-18 03:30:46,612 : INFO : EPOCH 28 - PROGRESS: at 37.37% examples, 380987 words/s, in_qsize 14, out_qsize 1\n",
      "2020-07-18 03:30:47,710 : INFO : EPOCH 28 - PROGRESS: at 42.13% examples, 378109 words/s, in_qsize 15, out_qsize 0\n",
      "2020-07-18 03:30:48,716 : INFO : EPOCH 28 - PROGRESS: at 46.46% examples, 375751 words/s, in_qsize 15, out_qsize 0\n",
      "2020-07-18 03:30:49,733 : INFO : EPOCH 28 - PROGRESS: at 50.02% examples, 367885 words/s, in_qsize 13, out_qsize 2\n",
      "2020-07-18 03:30:50,764 : INFO : EPOCH 28 - PROGRESS: at 54.99% examples, 370380 words/s, in_qsize 15, out_qsize 0\n",
      "2020-07-18 03:30:51,817 : INFO : EPOCH 28 - PROGRESS: at 60.09% examples, 372556 words/s, in_qsize 12, out_qsize 3\n",
      "2020-07-18 03:30:52,820 : INFO : EPOCH 28 - PROGRESS: at 65.38% examples, 376944 words/s, in_qsize 13, out_qsize 2\n",
      "2020-07-18 03:30:53,823 : INFO : EPOCH 28 - PROGRESS: at 70.26% examples, 378436 words/s, in_qsize 15, out_qsize 1\n",
      "2020-07-18 03:30:54,847 : INFO : EPOCH 28 - PROGRESS: at 75.67% examples, 381989 words/s, in_qsize 16, out_qsize 0\n",
      "2020-07-18 03:30:55,852 : INFO : EPOCH 28 - PROGRESS: at 80.36% examples, 381926 words/s, in_qsize 16, out_qsize 0\n",
      "2020-07-18 03:30:56,863 : INFO : EPOCH 28 - PROGRESS: at 85.34% examples, 383224 words/s, in_qsize 14, out_qsize 2\n",
      "2020-07-18 03:30:57,903 : INFO : EPOCH 28 - PROGRESS: at 90.55% examples, 384694 words/s, in_qsize 15, out_qsize 0\n",
      "2020-07-18 03:30:58,916 : INFO : EPOCH 28 - PROGRESS: at 94.69% examples, 382165 words/s, in_qsize 16, out_qsize 0\n",
      "2020-07-18 03:30:59,948 : INFO : EPOCH 28 - PROGRESS: at 99.12% examples, 380801 words/s, in_qsize 9, out_qsize 0\n",
      "2020-07-18 03:30:59,961 : INFO : worker thread finished; awaiting finish of 7 more threads\n",
      "2020-07-18 03:31:00,007 : INFO : worker thread finished; awaiting finish of 6 more threads\n",
      "2020-07-18 03:31:00,021 : INFO : worker thread finished; awaiting finish of 5 more threads\n",
      "2020-07-18 03:31:00,026 : INFO : worker thread finished; awaiting finish of 4 more threads\n",
      "2020-07-18 03:31:00,055 : INFO : worker thread finished; awaiting finish of 3 more threads\n",
      "2020-07-18 03:31:00,069 : INFO : worker thread finished; awaiting finish of 2 more threads\n",
      "2020-07-18 03:31:00,070 : INFO : worker thread finished; awaiting finish of 1 more threads\n",
      "2020-07-18 03:31:00,071 : INFO : worker thread finished; awaiting finish of 0 more threads\n",
      "2020-07-18 03:31:00,072 : INFO : EPOCH - 28 : training on 9227204 raw words (8222173 effective words) took 21.5s, 381980 effective words/s\n",
      "2020-07-18 03:31:01,096 : INFO : EPOCH 29 - PROGRESS: at 3.58% examples, 292860 words/s, in_qsize 15, out_qsize 0\n",
      "2020-07-18 03:31:02,104 : INFO : EPOCH 29 - PROGRESS: at 8.26% examples, 336483 words/s, in_qsize 15, out_qsize 1\n",
      "2020-07-18 03:31:03,194 : INFO : EPOCH 29 - PROGRESS: at 13.03% examples, 344565 words/s, in_qsize 15, out_qsize 0\n",
      "2020-07-18 03:31:04,213 : INFO : EPOCH 29 - PROGRESS: at 18.11% examples, 360897 words/s, in_qsize 15, out_qsize 0\n",
      "2020-07-18 03:31:05,261 : INFO : EPOCH 29 - PROGRESS: at 23.52% examples, 373941 words/s, in_qsize 13, out_qsize 0\n",
      "2020-07-18 03:31:06,289 : INFO : EPOCH 29 - PROGRESS: at 28.51% examples, 378054 words/s, in_qsize 14, out_qsize 1\n",
      "2020-07-18 03:31:07,292 : INFO : EPOCH 29 - PROGRESS: at 33.06% examples, 377302 words/s, in_qsize 15, out_qsize 0\n",
      "2020-07-18 03:31:08,420 : INFO : EPOCH 29 - PROGRESS: at 38.35% examples, 380291 words/s, in_qsize 15, out_qsize 0\n",
      "2020-07-18 03:31:09,405 : INFO : EPOCH 29 - PROGRESS: at 43.21% examples, 381626 words/s, in_qsize 16, out_qsize 0\n",
      "2020-07-18 03:31:10,428 : INFO : EPOCH 29 - PROGRESS: at 46.89% examples, 373123 words/s, in_qsize 14, out_qsize 2\n",
      "2020-07-18 03:31:11,451 : INFO : EPOCH 29 - PROGRESS: at 50.99% examples, 369360 words/s, in_qsize 15, out_qsize 0\n",
      "2020-07-18 03:31:12,476 : INFO : EPOCH 29 - PROGRESS: at 53.70% examples, 356778 words/s, in_qsize 14, out_qsize 1\n",
      "2020-07-18 03:31:13,550 : INFO : EPOCH 29 - PROGRESS: at 59.12% examples, 361408 words/s, in_qsize 14, out_qsize 1\n",
      "2020-07-18 03:31:14,598 : INFO : EPOCH 29 - PROGRESS: at 64.51% examples, 366004 words/s, in_qsize 15, out_qsize 1\n",
      "2020-07-18 03:31:15,618 : INFO : EPOCH 29 - PROGRESS: at 69.61% examples, 368940 words/s, in_qsize 15, out_qsize 1\n",
      "2020-07-18 03:31:16,641 : INFO : EPOCH 29 - PROGRESS: at 74.37% examples, 369802 words/s, in_qsize 15, out_qsize 0\n",
      "2020-07-18 03:31:17,690 : INFO : EPOCH 29 - PROGRESS: at 79.71% examples, 372564 words/s, in_qsize 15, out_qsize 0\n",
      "2020-07-18 03:31:18,725 : INFO : EPOCH 29 - PROGRESS: at 85.23% examples, 376240 words/s, in_qsize 15, out_qsize 0\n",
      "2020-07-18 03:31:19,861 : INFO : EPOCH 29 - PROGRESS: at 89.67% examples, 373083 words/s, in_qsize 14, out_qsize 1\n",
      "2020-07-18 03:31:20,869 : INFO : EPOCH 29 - PROGRESS: at 93.16% examples, 368700 words/s, in_qsize 14, out_qsize 1\n",
      "2020-07-18 03:31:21,931 : INFO : EPOCH 29 - PROGRESS: at 97.40% examples, 366653 words/s, in_qsize 14, out_qsize 1\n",
      "2020-07-18 03:31:22,317 : INFO : worker thread finished; awaiting finish of 7 more threads\n",
      "2020-07-18 03:31:22,323 : INFO : worker thread finished; awaiting finish of 6 more threads\n",
      "2020-07-18 03:31:22,431 : INFO : worker thread finished; awaiting finish of 5 more threads\n",
      "2020-07-18 03:31:22,434 : INFO : worker thread finished; awaiting finish of 4 more threads\n",
      "2020-07-18 03:31:22,436 : INFO : worker thread finished; awaiting finish of 3 more threads\n",
      "2020-07-18 03:31:22,442 : INFO : worker thread finished; awaiting finish of 2 more threads\n",
      "2020-07-18 03:31:22,445 : INFO : worker thread finished; awaiting finish of 1 more threads\n",
      "2020-07-18 03:31:22,446 : INFO : worker thread finished; awaiting finish of 0 more threads\n",
      "2020-07-18 03:31:22,447 : INFO : EPOCH - 29 : training on 9227204 raw words (8222287 effective words) took 22.4s, 367816 effective words/s\n",
      "2020-07-18 03:31:23,471 : INFO : EPOCH 30 - PROGRESS: at 4.02% examples, 327858 words/s, in_qsize 15, out_qsize 0\n",
      "2020-07-18 03:31:24,478 : INFO : EPOCH 30 - PROGRESS: at 9.12% examples, 371940 words/s, in_qsize 15, out_qsize 0\n",
      "2020-07-18 03:31:25,537 : INFO : EPOCH 30 - PROGRESS: at 14.00% examples, 374073 words/s, in_qsize 14, out_qsize 1\n",
      "2020-07-18 03:31:26,543 : INFO : EPOCH 30 - PROGRESS: at 18.00% examples, 362548 words/s, in_qsize 14, out_qsize 1\n",
      "2020-07-18 03:31:27,565 : INFO : EPOCH 30 - PROGRESS: at 22.76% examples, 366828 words/s, in_qsize 15, out_qsize 0\n",
      "2020-07-18 03:31:28,611 : INFO : EPOCH 30 - PROGRESS: at 28.07% examples, 375397 words/s, in_qsize 15, out_qsize 0\n",
      "2020-07-18 03:31:29,657 : INFO : EPOCH 30 - PROGRESS: at 33.27% examples, 380205 words/s, in_qsize 15, out_qsize 0\n",
      "2020-07-18 03:31:30,780 : INFO : EPOCH 30 - PROGRESS: at 38.57% examples, 381355 words/s, in_qsize 15, out_qsize 0\n",
      "2020-07-18 03:31:31,789 : INFO : EPOCH 30 - PROGRESS: at 43.00% examples, 379244 words/s, in_qsize 15, out_qsize 0\n",
      "2020-07-18 03:31:32,916 : INFO : EPOCH 30 - PROGRESS: at 47.32% examples, 372447 words/s, in_qsize 15, out_qsize 0\n",
      "2020-07-18 03:31:33,936 : INFO : EPOCH 30 - PROGRESS: at 50.89% examples, 364968 words/s, in_qsize 15, out_qsize 0\n",
      "2020-07-18 03:31:34,992 : INFO : EPOCH 30 - PROGRESS: at 56.08% examples, 368935 words/s, in_qsize 15, out_qsize 0\n",
      "2020-07-18 03:31:35,977 : INFO : EPOCH 30 - PROGRESS: at 61.28% examples, 373168 words/s, in_qsize 15, out_qsize 0\n",
      "2020-07-18 03:31:36,994 : INFO : EPOCH 30 - PROGRESS: at 66.37% examples, 375825 words/s, in_qsize 16, out_qsize 0\n",
      "2020-07-18 03:31:37,999 : INFO : EPOCH 30 - PROGRESS: at 71.45% examples, 378480 words/s, in_qsize 15, out_qsize 0\n",
      "2020-07-18 03:31:39,013 : INFO : EPOCH 30 - PROGRESS: at 76.33% examples, 379498 words/s, in_qsize 15, out_qsize 0\n",
      "2020-07-18 03:31:40,016 : INFO : EPOCH 30 - PROGRESS: at 81.66% examples, 382675 words/s, in_qsize 14, out_qsize 0\n",
      "2020-07-18 03:31:41,025 : INFO : EPOCH 30 - PROGRESS: at 86.64% examples, 383940 words/s, in_qsize 15, out_qsize 0\n",
      "2020-07-18 03:31:42,031 : INFO : EPOCH 30 - PROGRESS: at 91.20% examples, 383306 words/s, in_qsize 16, out_qsize 0\n",
      "2020-07-18 03:31:43,040 : INFO : EPOCH 30 - PROGRESS: at 95.23% examples, 380523 words/s, in_qsize 15, out_qsize 0\n",
      "2020-07-18 03:31:44,096 : INFO : EPOCH 30 - PROGRESS: at 98.25% examples, 373487 words/s, in_qsize 13, out_qsize 2\n",
      "2020-07-18 03:31:44,327 : INFO : worker thread finished; awaiting finish of 7 more threads\n",
      "2020-07-18 03:31:44,335 : INFO : worker thread finished; awaiting finish of 6 more threads\n",
      "2020-07-18 03:31:44,346 : INFO : worker thread finished; awaiting finish of 5 more threads\n",
      "2020-07-18 03:31:44,349 : INFO : worker thread finished; awaiting finish of 4 more threads\n",
      "2020-07-18 03:31:44,364 : INFO : worker thread finished; awaiting finish of 3 more threads\n",
      "2020-07-18 03:31:44,389 : INFO : worker thread finished; awaiting finish of 2 more threads\n",
      "2020-07-18 03:31:44,399 : INFO : worker thread finished; awaiting finish of 1 more threads\n",
      "2020-07-18 03:31:44,420 : INFO : worker thread finished; awaiting finish of 0 more threads\n",
      "2020-07-18 03:31:44,423 : INFO : EPOCH - 30 : training on 9227204 raw words (8222293 effective words) took 22.0s, 374477 effective words/s\n",
      "2020-07-18 03:31:45,443 : INFO : EPOCH 31 - PROGRESS: at 3.47% examples, 283394 words/s, in_qsize 15, out_qsize 2\n",
      "2020-07-18 03:31:46,444 : INFO : EPOCH 31 - PROGRESS: at 8.58% examples, 350595 words/s, in_qsize 15, out_qsize 1\n",
      "2020-07-18 03:31:47,455 : INFO : EPOCH 31 - PROGRESS: at 13.14% examples, 357171 words/s, in_qsize 14, out_qsize 0\n",
      "2020-07-18 03:31:48,477 : INFO : EPOCH 31 - PROGRESS: at 18.11% examples, 368094 words/s, in_qsize 15, out_qsize 3\n",
      "2020-07-18 03:31:49,495 : INFO : EPOCH 31 - PROGRESS: at 23.42% examples, 380351 words/s, in_qsize 13, out_qsize 1\n",
      "2020-07-18 03:31:50,594 : INFO : EPOCH 31 - PROGRESS: at 28.51% examples, 381669 words/s, in_qsize 15, out_qsize 0\n",
      "2020-07-18 03:31:51,618 : INFO : EPOCH 31 - PROGRESS: at 33.27% examples, 381313 words/s, in_qsize 15, out_qsize 2\n",
      "2020-07-18 03:31:52,672 : INFO : EPOCH 31 - PROGRESS: at 38.35% examples, 382941 words/s, in_qsize 15, out_qsize 0\n",
      "2020-07-18 03:31:53,721 : INFO : EPOCH 31 - PROGRESS: at 42.68% examples, 378058 words/s, in_qsize 16, out_qsize 0\n",
      "2020-07-18 03:31:54,744 : INFO : EPOCH 31 - PROGRESS: at 46.35% examples, 369907 words/s, in_qsize 15, out_qsize 0\n",
      "2020-07-18 03:31:55,798 : INFO : EPOCH 31 - PROGRESS: at 51.43% examples, 373004 words/s, in_qsize 15, out_qsize 2\n",
      "2020-07-18 03:31:56,787 : INFO : EPOCH 31 - PROGRESS: at 56.73% examples, 378017 words/s, in_qsize 16, out_qsize 0\n",
      "2020-07-18 03:31:57,815 : INFO : EPOCH 31 - PROGRESS: at 62.03% examples, 381610 words/s, in_qsize 16, out_qsize 1\n",
      "2020-07-18 03:31:58,867 : INFO : EPOCH 31 - PROGRESS: at 66.91% examples, 381520 words/s, in_qsize 15, out_qsize 0\n",
      "2020-07-18 03:31:59,918 : INFO : EPOCH 31 - PROGRESS: at 72.21% examples, 383849 words/s, in_qsize 15, out_qsize 0\n",
      "2020-07-18 03:32:00,942 : INFO : EPOCH 31 - PROGRESS: at 77.85% examples, 388064 words/s, in_qsize 15, out_qsize 1\n",
      "2020-07-18 03:32:01,961 : INFO : EPOCH 31 - PROGRESS: at 82.64% examples, 387882 words/s, in_qsize 14, out_qsize 1\n",
      "2020-07-18 03:32:02,981 : INFO : EPOCH 31 - PROGRESS: at 87.40% examples, 387685 words/s, in_qsize 14, out_qsize 2\n",
      "2020-07-18 03:32:04,036 : INFO : EPOCH 31 - PROGRESS: at 91.53% examples, 384651 words/s, in_qsize 15, out_qsize 1\n",
      "2020-07-18 03:32:05,009 : INFO : EPOCH 31 - PROGRESS: at 95.12% examples, 380191 words/s, in_qsize 15, out_qsize 0\n",
      "2020-07-18 03:32:05,989 : INFO : worker thread finished; awaiting finish of 7 more threads\n",
      "2020-07-18 03:32:05,995 : INFO : worker thread finished; awaiting finish of 6 more threads\n",
      "2020-07-18 03:32:06,009 : INFO : worker thread finished; awaiting finish of 5 more threads\n",
      "2020-07-18 03:32:06,017 : INFO : EPOCH 31 - PROGRESS: at 99.56% examples, 379405 words/s, in_qsize 4, out_qsize 1\n",
      "2020-07-18 03:32:06,018 : INFO : worker thread finished; awaiting finish of 4 more threads\n",
      "2020-07-18 03:32:06,030 : INFO : worker thread finished; awaiting finish of 3 more threads\n",
      "2020-07-18 03:32:06,045 : INFO : worker thread finished; awaiting finish of 2 more threads\n",
      "2020-07-18 03:32:06,047 : INFO : worker thread finished; awaiting finish of 1 more threads\n",
      "2020-07-18 03:32:06,048 : INFO : worker thread finished; awaiting finish of 0 more threads\n",
      "2020-07-18 03:32:06,049 : INFO : EPOCH - 31 : training on 9227204 raw words (8223109 effective words) took 21.6s, 380484 effective words/s\n",
      "2020-07-18 03:32:07,071 : INFO : EPOCH 32 - PROGRESS: at 4.34% examples, 352513 words/s, in_qsize 15, out_qsize 0\n",
      "2020-07-18 03:32:08,125 : INFO : EPOCH 32 - PROGRESS: at 9.23% examples, 370575 words/s, in_qsize 15, out_qsize 2\n",
      "2020-07-18 03:32:09,152 : INFO : EPOCH 32 - PROGRESS: at 14.33% examples, 380259 words/s, in_qsize 15, out_qsize 0\n",
      "2020-07-18 03:32:10,192 : INFO : EPOCH 32 - PROGRESS: at 19.19% examples, 381486 words/s, in_qsize 13, out_qsize 2\n",
      "2020-07-18 03:32:11,209 : INFO : EPOCH 32 - PROGRESS: at 24.61% examples, 392731 words/s, in_qsize 15, out_qsize 0\n",
      "2020-07-18 03:32:12,342 : INFO : EPOCH 32 - PROGRESS: at 29.59% examples, 387152 words/s, in_qsize 14, out_qsize 1\n",
      "2020-07-18 03:32:13,382 : INFO : EPOCH 32 - PROGRESS: at 34.46% examples, 386880 words/s, in_qsize 15, out_qsize 0\n",
      "2020-07-18 03:32:14,394 : INFO : EPOCH 32 - PROGRESS: at 39.54% examples, 390141 words/s, in_qsize 14, out_qsize 1\n",
      "2020-07-18 03:32:15,425 : INFO : EPOCH 32 - PROGRESS: at 42.78% examples, 375702 words/s, in_qsize 16, out_qsize 0\n",
      "2020-07-18 03:32:16,490 : INFO : EPOCH 32 - PROGRESS: at 46.46% examples, 366402 words/s, in_qsize 15, out_qsize 0\n",
      "2020-07-18 03:32:17,510 : INFO : EPOCH 32 - PROGRESS: at 50.78% examples, 364885 words/s, in_qsize 15, out_qsize 0\n",
      "2020-07-18 03:32:18,524 : INFO : EPOCH 32 - PROGRESS: at 55.53% examples, 366668 words/s, in_qsize 11, out_qsize 6\n",
      "2020-07-18 03:32:19,622 : INFO : EPOCH 32 - PROGRESS: at 60.74% examples, 368528 words/s, in_qsize 15, out_qsize 0\n",
      "2020-07-18 03:32:20,704 : INFO : EPOCH 32 - PROGRESS: at 64.30% examples, 362091 words/s, in_qsize 15, out_qsize 3\n",
      "2020-07-18 03:32:21,756 : INFO : EPOCH 32 - PROGRESS: at 69.50% examples, 364392 words/s, in_qsize 15, out_qsize 0\n",
      "2020-07-18 03:32:22,803 : INFO : EPOCH 32 - PROGRESS: at 74.37% examples, 365523 words/s, in_qsize 15, out_qsize 1\n",
      "2020-07-18 03:32:23,845 : INFO : EPOCH 32 - PROGRESS: at 79.60% examples, 368144 words/s, in_qsize 13, out_qsize 2\n",
      "2020-07-18 03:32:24,876 : INFO : EPOCH 32 - PROGRESS: at 85.02% examples, 371642 words/s, in_qsize 15, out_qsize 0\n",
      "2020-07-18 03:32:25,889 : INFO : EPOCH 32 - PROGRESS: at 88.70% examples, 367927 words/s, in_qsize 15, out_qsize 0\n",
      "2020-07-18 03:32:26,890 : INFO : EPOCH 32 - PROGRESS: at 92.07% examples, 363479 words/s, in_qsize 14, out_qsize 0\n",
      "2020-07-18 03:32:27,963 : INFO : EPOCH 32 - PROGRESS: at 95.45% examples, 358280 words/s, in_qsize 14, out_qsize 1\n",
      "2020-07-18 03:32:28,671 : INFO : worker thread finished; awaiting finish of 7 more threads\n",
      "2020-07-18 03:32:28,689 : INFO : worker thread finished; awaiting finish of 6 more threads\n",
      "2020-07-18 03:32:28,710 : INFO : worker thread finished; awaiting finish of 5 more threads\n",
      "2020-07-18 03:32:28,713 : INFO : worker thread finished; awaiting finish of 4 more threads\n",
      "2020-07-18 03:32:28,725 : INFO : worker thread finished; awaiting finish of 3 more threads\n",
      "2020-07-18 03:32:28,757 : INFO : worker thread finished; awaiting finish of 2 more threads\n",
      "2020-07-18 03:32:28,766 : INFO : worker thread finished; awaiting finish of 1 more threads\n",
      "2020-07-18 03:32:28,769 : INFO : worker thread finished; awaiting finish of 0 more threads\n",
      "2020-07-18 03:32:28,770 : INFO : EPOCH - 32 : training on 9227204 raw words (8222223 effective words) took 22.7s, 362063 effective words/s\n",
      "2020-07-18 03:32:28,772 : INFO : training on a 295270528 raw words (263118379 effective words) took 720.3s, 365278 effective words/s\n"
     ]
    },
    {
     "name": "stdout",
     "output_type": "stream",
     "text": [
      "CPU times: user 21min 10s, sys: 6.64 s, total: 21min 17s\n",
      "Wall time: 12min\n"
     ]
    },
    {
     "data": {
      "text/plain": [
       "(263118379, 295270528)"
      ]
     },
     "execution_count": 22,
     "metadata": {},
     "output_type": "execute_result"
    }
   ],
   "source": [
    "%%time\n",
    "w2v_model.train(documents, total_examples=len(documents), epochs=W2V_EPOCH)"
   ]
  },
  {
   "cell_type": "code",
   "execution_count": 23,
   "metadata": {
    "_uuid": "27cc2651c74227115d8bfd8c40e5618048e05edd"
   },
   "outputs": [
    {
     "name": "stderr",
     "output_type": "stream",
     "text": [
      "/opt/conda/lib/python3.6/site-packages/ipykernel_launcher.py:1: DeprecationWarning: Call to deprecated `most_similar` (Method will be removed in 4.0.0, use self.wv.most_similar() instead).\n",
      "  \"\"\"Entry point for launching an IPython kernel.\n",
      "2020-07-18 03:32:28,782 : INFO : precomputing L2-norms of word weight vectors\n"
     ]
    },
    {
     "data": {
      "text/plain": [
       "[('luv', 0.573813796043396),\n",
       " ('loves', 0.5578497648239136),\n",
       " ('loved', 0.5381397604942322),\n",
       " ('amazing', 0.5114535093307495),\n",
       " ('adore', 0.5087866187095642),\n",
       " ('looove', 0.4962613880634308),\n",
       " ('awesome', 0.4662848114967346),\n",
       " ('loveee', 0.4556906223297119),\n",
       " ('lovee', 0.44604575634002686),\n",
       " ('loooove', 0.44025370478630066)]"
      ]
     },
     "execution_count": 23,
     "metadata": {},
     "output_type": "execute_result"
    }
   ],
   "source": [
    "w2v_model.most_similar(\"love\")"
   ]
  },
  {
   "cell_type": "markdown",
   "metadata": {
    "_uuid": "e13563644468037258598637b49373ca96b9b879"
   },
   "source": [
    "### Tokenize Text"
   ]
  },
  {
   "cell_type": "code",
   "execution_count": 24,
   "metadata": {
    "_uuid": "6852bc709a7cd20173cbeeb218505078f8f37c57"
   },
   "outputs": [
    {
     "name": "stdout",
     "output_type": "stream",
     "text": [
      "Total words 290419\n",
      "CPU times: user 27.2 s, sys: 187 ms, total: 27.4 s\n",
      "Wall time: 27.4 s\n"
     ]
    }
   ],
   "source": [
    "%%time\n",
    "tokenizer = Tokenizer()\n",
    "tokenizer.fit_on_texts(df_train.text)\n",
    "\n",
    "vocab_size = len(tokenizer.word_index) + 1\n",
    "print(\"Total words\", vocab_size)"
   ]
  },
  {
   "cell_type": "code",
   "execution_count": 25,
   "metadata": {
    "_uuid": "45de439df3015030c71f84c2d170346936a1d68f"
   },
   "outputs": [
    {
     "name": "stdout",
     "output_type": "stream",
     "text": [
      "CPU times: user 44.5 s, sys: 942 ms, total: 45.5 s\n",
      "Wall time: 45.7 s\n"
     ]
    }
   ],
   "source": [
    "%%time\n",
    "x_train = pad_sequences(tokenizer.texts_to_sequences(df_train.text), maxlen=SEQUENCE_LENGTH)\n",
    "x_test = pad_sequences(tokenizer.texts_to_sequences(df_test.text), maxlen=SEQUENCE_LENGTH)"
   ]
  },
  {
   "cell_type": "markdown",
   "metadata": {
    "_uuid": "03b35903fc6260e190d6928d240ef7432de117fc"
   },
   "source": [
    "### Label Encoder "
   ]
  },
  {
   "cell_type": "code",
   "execution_count": 26,
   "metadata": {
    "_uuid": "33676e0efa39e97d89bd650b8b4eae933a22fbf0"
   },
   "outputs": [
    {
     "data": {
      "text/plain": [
       "['POSITIVE', 'NEGATIVE', 'NEUTRAL']"
      ]
     },
     "execution_count": 26,
     "metadata": {},
     "output_type": "execute_result"
    }
   ],
   "source": [
    "labels = df_train.target.unique().tolist()\n",
    "labels.append(NEUTRAL)\n",
    "labels"
   ]
  },
  {
   "cell_type": "code",
   "execution_count": 27,
   "metadata": {
    "_uuid": "04239a9bef76e7922fd86098a5601dfde8ee4665"
   },
   "outputs": [
    {
     "name": "stdout",
     "output_type": "stream",
     "text": [
      "y_train (1280000, 1)\n",
      "y_test (320000, 1)\n"
     ]
    }
   ],
   "source": [
    "encoder = LabelEncoder()\n",
    "encoder.fit(df_train.target.tolist())\n",
    "\n",
    "y_train = encoder.transform(df_train.target.tolist())\n",
    "y_test = encoder.transform(df_test.target.tolist())\n",
    "\n",
    "y_train = y_train.reshape(-1,1)\n",
    "y_test = y_test.reshape(-1,1)\n",
    "\n",
    "print(\"y_train\",y_train.shape)\n",
    "print(\"y_test\",y_test.shape)"
   ]
  },
  {
   "cell_type": "code",
   "execution_count": 28,
   "metadata": {
    "_uuid": "04299c886911ca135583ab64878f213939a2990c"
   },
   "outputs": [
    {
     "name": "stdout",
     "output_type": "stream",
     "text": [
      "x_train (1280000, 300)\n",
      "y_train (1280000, 1)\n",
      "\n",
      "x_test (320000, 300)\n",
      "y_test (320000, 1)\n"
     ]
    }
   ],
   "source": [
    "print(\"x_train\", x_train.shape)\n",
    "print(\"y_train\", y_train.shape)\n",
    "print()\n",
    "print(\"x_test\", x_test.shape)\n",
    "print(\"y_test\", y_test.shape)"
   ]
  },
  {
   "cell_type": "code",
   "execution_count": 29,
   "metadata": {
    "_uuid": "232533fb27b7be99d9b8c2f8fb22c9c6bf121a6f"
   },
   "outputs": [
    {
     "data": {
      "text/plain": [
       "array([[1],\n",
       "       [1],\n",
       "       [1],\n",
       "       [0],\n",
       "       [1],\n",
       "       [1],\n",
       "       [1],\n",
       "       [1],\n",
       "       [1],\n",
       "       [1]])"
      ]
     },
     "execution_count": 29,
     "metadata": {},
     "output_type": "execute_result"
    }
   ],
   "source": [
    "y_train[:10]"
   ]
  },
  {
   "cell_type": "markdown",
   "metadata": {
    "_uuid": "233c0ea94055a03e2e7df3e2a13d036ec963484f"
   },
   "source": [
    "### Embedding layer"
   ]
  },
  {
   "cell_type": "code",
   "execution_count": 30,
   "metadata": {
    "_uuid": "9ab488374b59e3f30f8b1ea92767d853c4846bac"
   },
   "outputs": [
    {
     "name": "stdout",
     "output_type": "stream",
     "text": [
      "(290419, 300)\n"
     ]
    }
   ],
   "source": [
    "embedding_matrix = np.zeros((vocab_size, W2V_SIZE))\n",
    "for word, i in tokenizer.word_index.items():\n",
    "  if word in w2v_model.wv:\n",
    "    embedding_matrix[i] = w2v_model.wv[word]\n",
    "print(embedding_matrix.shape)"
   ]
  },
  {
   "cell_type": "code",
   "execution_count": 31,
   "metadata": {
    "_uuid": "833279d91e4286065968237fb5f2a0c2dd4d246c"
   },
   "outputs": [],
   "source": [
    "embedding_layer = Embedding(vocab_size, W2V_SIZE, weights=[embedding_matrix], input_length=SEQUENCE_LENGTH, trainable=False)"
   ]
  },
  {
   "cell_type": "markdown",
   "metadata": {
    "_uuid": "b299ef78f94c2085942c993a2d58753a7476305a"
   },
   "source": [
    "### Build Model"
   ]
  },
  {
   "cell_type": "code",
   "execution_count": 32,
   "metadata": {
    "_uuid": "e775ef4f1b74e6412457181383c39f2df554ef3f"
   },
   "outputs": [
    {
     "name": "stdout",
     "output_type": "stream",
     "text": [
      "_________________________________________________________________\n",
      "Layer (type)                 Output Shape              Param #   \n",
      "=================================================================\n",
      "embedding (Embedding)        (None, 300, 300)          87125700  \n",
      "_________________________________________________________________\n",
      "dropout (Dropout)            (None, 300, 300)          0         \n",
      "_________________________________________________________________\n",
      "lstm (LSTM)                  (None, 100)               160400    \n",
      "_________________________________________________________________\n",
      "dense (Dense)                (None, 1)                 101       \n",
      "=================================================================\n",
      "Total params: 87,286,201\n",
      "Trainable params: 160,501\n",
      "Non-trainable params: 87,125,700\n",
      "_________________________________________________________________\n"
     ]
    }
   ],
   "source": [
    "model = Sequential()\n",
    "model.add(embedding_layer)\n",
    "model.add(Dropout(0.5))\n",
    "model.add(LSTM(100, dropout=0.2, recurrent_dropout=0.2))\n",
    "model.add(Dense(1, activation='sigmoid'))\n",
    "\n",
    "model.summary()"
   ]
  },
  {
   "cell_type": "markdown",
   "metadata": {
    "_uuid": "28d22eafd0c7d798dcf3d742bc92fb8577939e6c"
   },
   "source": [
    "### Compile model"
   ]
  },
  {
   "cell_type": "code",
   "execution_count": 33,
   "metadata": {
    "_uuid": "1331e08d590bb2aa2033706c8faca217afc0f1c3"
   },
   "outputs": [],
   "source": [
    "model.compile(loss='binary_crossentropy',\n",
    "              optimizer=\"adam\",\n",
    "              metrics=['accuracy'])"
   ]
  },
  {
   "cell_type": "markdown",
   "metadata": {
    "_uuid": "c7733127cb8b380e0c807268903bf4d03ef92542"
   },
   "source": [
    "### Callbacks"
   ]
  },
  {
   "cell_type": "code",
   "execution_count": 34,
   "metadata": {
    "_uuid": "a688df590386f5748da6fe00b01904fe6c71619e"
   },
   "outputs": [],
   "source": [
    "callbacks = [ ReduceLROnPlateau(monitor='val_loss', patience=5, cooldown=0),\n",
    "              EarlyStopping(monitor='val_acc', min_delta=1e-4, patience=5)]"
   ]
  },
  {
   "cell_type": "markdown",
   "metadata": {
    "_uuid": "8d0873633dd49179c8cae17377641b97d323ef3b"
   },
   "source": [
    "### Train"
   ]
  },
  {
   "cell_type": "code",
   "execution_count": 35,
   "metadata": {
    "_uuid": "2b659d390c6577dc5cdb6b6297934279b4e801d5"
   },
   "outputs": [
    {
     "name": "stdout",
     "output_type": "stream",
     "text": [
      "Train on 1152000 samples, validate on 128000 samples\n",
      "Epoch 1/2\n",
      "1152000/1152000 [==============================] - 707s 614us/step - loss: 0.5047 - acc: 0.7500 - val_loss: 0.4660 - val_acc: 0.7787\n",
      "Epoch 2/2\n",
      "1152000/1152000 [==============================] - 708s 614us/step - loss: 0.4791 - acc: 0.7673 - val_loss: 0.4599 - val_acc: 0.7840\n",
      "CPU times: user 30min 21s, sys: 1min 40s, total: 32min 2s\n",
      "Wall time: 23min 36s\n"
     ]
    }
   ],
   "source": [
    "%%time\n",
    "history = model.fit(x_train, y_train,\n",
    "                    batch_size=BATCH_SIZE,\n",
    "                    epochs=EPOCHS,\n",
    "                    validation_split=0.1,\n",
    "                    verbose=1,\n",
    "                    callbacks=callbacks)"
   ]
  },
  {
   "cell_type": "markdown",
   "metadata": {
    "_uuid": "267258196d96796ac69a7b8c466314bcf5d6ee42"
   },
   "source": [
    "### Evaluate"
   ]
  },
  {
   "cell_type": "code",
   "execution_count": 36,
   "metadata": {
    "_uuid": "98ecd8f1b8b74594c3ea775dd68a094e92458022"
   },
   "outputs": [
    {
     "name": "stdout",
     "output_type": "stream",
     "text": [
      "320000/320000 [==============================] - 73s 229us/step\n",
      "\n",
      "ACCURACY: 0.784503125\n",
      "LOSS: 0.4589654022216797\n",
      "CPU times: user 1min 40s, sys: 8.15 s, total: 1min 48s\n",
      "Wall time: 1min 13s\n"
     ]
    }
   ],
   "source": [
    "%%time\n",
    "score = model.evaluate(x_test, y_test, batch_size=BATCH_SIZE)\n",
    "print()\n",
    "print(\"ACCURACY:\",score[1])\n",
    "print(\"LOSS:\",score[0])"
   ]
  },
  {
   "cell_type": "code",
   "execution_count": 37,
   "metadata": {
    "_uuid": "40c72cd1e9d6c4fd799cbba7c813765ac4039dfc"
   },
   "outputs": [
    {
     "data": {
      "image/png": "[encoded data removed]",
      "text/plain": [
       "<Figure size 432x288 with 1 Axes>"
      ]
     },
     "metadata": {},
     "output_type": "display_data"
    },
    {
     "data": {
      "image/png": "[encoded data removed]",
      "text/plain": [
       "<Figure size 432x288 with 1 Axes>"
      ]
     },
     "metadata": {},
     "output_type": "display_data"
    }
   ],
   "source": [
    "acc = history.history['acc']\n",
    "val_acc = history.history['val_acc']\n",
    "loss = history.history['loss']\n",
    "val_loss = history.history['val_loss']\n",
    " \n",
    "epochs = range(len(acc))\n",
    " \n",
    "plt.plot(epochs, acc, 'b', label='Training acc')\n",
    "plt.plot(epochs, val_acc, 'r', label='Validation acc')\n",
    "plt.title('Training and validation accuracy')\n",
    "plt.legend()\n",
    " \n",
    "plt.figure()\n",
    " \n",
    "plt.plot(epochs, loss, 'b', label='Training loss')\n",
    "plt.plot(epochs, val_loss, 'r', label='Validation loss')\n",
    "plt.title('Training and validation loss')\n",
    "plt.legend()\n",
    " \n",
    "plt.show()"
   ]
  },
  {
   "cell_type": "markdown",
   "metadata": {
    "_uuid": "6bdfc0f6a6af5bebc0271d83dd7432c91001409b"
   },
   "source": [
    "### Predict"
   ]
  },
  {
   "cell_type": "code",
   "execution_count": 39,
   "metadata": {
    "_uuid": "f0b0fa3d4b1bb14b3f5e3d169a369f3ebef29ae1"
   },
   "outputs": [],
   "source": [
    "def decode_sentiment(score, include_neutral=True):\n",
    "    if include_neutral:        \n",
    "        label = NEUTRAL\n",
    "        if score <= SENTIMENT_THRESHOLDS[0]:\n",
    "            label = NEGATIVE\n",
    "        elif score >= SENTIMENT_THRESHOLDS[1]:\n",
    "            label = POSITIVE\n",
    "\n",
    "        return label\n",
    "    else:\n",
    "        return NEGATIVE if score < 0.5 else POSITIVE"
   ]
  },
  {
   "cell_type": "code",
   "execution_count": 40,
   "metadata": {
    "_uuid": "ed4086d651f2f8cbed11d3c909a8873607d29a06"
   },
   "outputs": [],
   "source": [
    "def predict(text, include_neutral=True):\n",
    "    start_at = time.time()\n",
    "    # Tokenize text\n",
    "    x_test = pad_sequences(tokenizer.texts_to_sequences([text]), maxlen=SEQUENCE_LENGTH)\n",
    "    # Predict\n",
    "    score = model.predict([x_test])[0]\n",
    "    # Decode sentiment\n",
    "    label = decode_sentiment(score, include_neutral=include_neutral)\n",
    "\n",
    "    return {\"label\": label, \"score\": float(score),\n",
    "       \"elapsed_time\": time.time()-start_at}  "
   ]
  },
  {
   "cell_type": "code",
   "execution_count": 45,
   "metadata": {},
   "outputs": [
    {
     "name": "stdout",
     "output_type": "stream",
     "text": [
      "Requirement already satisfied: gdown in /opt/conda/lib/python3.6/site-packages (3.11.1)\n",
      "Requirement already satisfied: tqdm in /opt/conda/lib/python3.6/site-packages (from gdown) (4.28.1)\n",
      "Requirement already satisfied: six in /opt/conda/lib/python3.6/site-packages (from gdown) (1.11.0)\n",
      "Requirement already satisfied: filelock in /opt/conda/lib/python3.6/site-packages (from gdown) (3.0.4)\n",
      "Requirement already satisfied: requests[socks] in /opt/conda/lib/python3.6/site-packages (from gdown) (2.21.0)\n",
      "Requirement already satisfied: chardet<3.1.0,>=3.0.2 in /opt/conda/lib/python3.6/site-packages (from requests[socks]->gdown) (3.0.4)\n",
      "Requirement already satisfied: certifi>=2017.4.17 in /opt/conda/lib/python3.6/site-packages (from requests[socks]->gdown) (2018.11.29)\n",
      "Requirement already satisfied: idna<2.9,>=2.5 in /opt/conda/lib/python3.6/site-packages (from requests[socks]->gdown) (2.6)\n",
      "Requirement already satisfied: urllib3<1.25,>=1.21.1 in /opt/conda/lib/python3.6/site-packages (from requests[socks]->gdown) (1.22)\n",
      "Requirement already satisfied: PySocks!=1.5.7,>=1.5.6; extra == \"socks\" in /opt/conda/lib/python3.6/site-packages (from requests[socks]->gdown) (1.6.8)\n",
      "Downloading...\n",
      "From: https://drive.google.com/uc?id=1E7T6_AK7ZOC037YpmUvzxd9bYT1L2LCT\n",
      "To: /kaggle/working/my_content.csv\n",
      "100%|██████████████████████████████████████| 18.2k/18.2k [00:00<00:00, 20.6MB/s]\n"
     ]
    }
   ],
   "source": [
    "'''\n",
    "!pip install gdown\n",
    "#!gdown https://drive.google.com/file/d/1E7T6_AK7ZOC037YpmUvzxd9bYT1L2LCT/view?usp=sharing\n",
    "!gdown https://drive.google.com/uc?id=1E7T6_AK7ZOC037YpmUvzxd9bYT1L2LCT\n",
    "'''\n",
    "try:\n",
    "    from PIL import Image\n",
    "except ImportError:\n",
    "    import Image\n",
    "import pytesseract\n",
    "\n",
    "# If you don't have tesseract executable in your PATH, include the following:\n",
    "pytesseract.pytesseract.tesseract_cmd = r'C:\\Users\\ACER\\AppData\\Local\\Tesseract-OCR\\tesseract.exe'\n",
    "# Example tesseract_cmd = r'C:\\Program Files (x86)\\Tesseract-OCR\\tesseract'\n",
    "\n",
    "import pandas as pd\n",
    "img_data = pd.read_csv('Test.csv')\n",
    "\n",
    "\n",
    "df = pd.DataFrame(img_data)\n",
    "\n",
    "content = []\n",
    "\n",
    "for i in df['Filename']:\n",
    "    con = pytesseract.image_to_string(Image.open('Dataset/'+i))\n",
    "    content.append(con)\n",
    "\n",
    "df['Content'] = content\n",
    "\n",
    "df = df.drop(columns=['Filename', 'Category',])\n",
    "\n",
    "df.to_csv(r'my_content.csv', index = False)"
   ]
  },
  {
   "cell_type": "code",
   "execution_count": 58,
   "metadata": {},
   "outputs": [],
   "source": [
    "df1 = pd.read_csv('my_content.csv', encoding =DATASET_ENCODING , names=DATASET_COLUMNS)"
   ]
  },
  {
   "cell_type": "code",
   "execution_count": 63,
   "metadata": {},
   "outputs": [
    {
     "data": {
      "text/plain": [
       "Index(['Filename', 'Content'], dtype='object')"
      ]
     },
     "execution_count": 63,
     "metadata": {},
     "output_type": "execute_result"
    }
   ],
   "source": [
    "df1.columns"
   ]
  },
  {
   "cell_type": "code",
   "execution_count": 67,
   "metadata": {},
   "outputs": [],
   "source": [
    "Category = []\n",
    "for i in df1['Content']:\n",
    "    i = preprocess(i)\n",
    "    Category.append(predict(i)['label'])"
   ]
  },
  {
   "cell_type": "code",
   "execution_count": 69,
   "metadata": {},
   "outputs": [],
   "source": [
    "df1['Category'] = Category"
   ]
  },
  {
   "cell_type": "code",
   "execution_count": 70,
   "metadata": {},
   "outputs": [
    {
     "ename": "ImportError",
     "evalue": "cannot import name 'is_url'",
     "output_type": "error",
     "traceback": [
      "\u001b[0;31m---------------------------------------------------------------------------\u001b[0m",
      "\u001b[0;31mImportError\u001b[0m                               Traceback (most recent call last)",
      "\u001b[0;32m/opt/conda/lib/python3.6/site-packages/IPython/core/formatters.py\u001b[0m in \u001b[0;36m__call__\u001b[0;34m(self, obj)\u001b[0m\n\u001b[1;32m    343\u001b[0m             \u001b[0mmethod\u001b[0m \u001b[0;34m=\u001b[0m \u001b[0mget_real_method\u001b[0m\u001b[0;34m(\u001b[0m\u001b[0mobj\u001b[0m\u001b[0;34m,\u001b[0m \u001b[0mself\u001b[0m\u001b[0;34m.\u001b[0m\u001b[0mprint_method\u001b[0m\u001b[0;34m)\u001b[0m\u001b[0;34m\u001b[0m\u001b[0m\n\u001b[1;32m    344\u001b[0m             \u001b[0;32mif\u001b[0m \u001b[0mmethod\u001b[0m \u001b[0;32mis\u001b[0m \u001b[0;32mnot\u001b[0m \u001b[0;32mNone\u001b[0m\u001b[0;34m:\u001b[0m\u001b[0;34m\u001b[0m\u001b[0m\n\u001b[0;32m--> 345\u001b[0;31m                 \u001b[0;32mreturn\u001b[0m \u001b[0mmethod\u001b[0m\u001b[0;34m(\u001b[0m\u001b[0;34m)\u001b[0m\u001b[0;34m\u001b[0m\u001b[0m\n\u001b[0m\u001b[1;32m    346\u001b[0m             \u001b[0;32mreturn\u001b[0m \u001b[0;32mNone\u001b[0m\u001b[0;34m\u001b[0m\u001b[0m\n\u001b[1;32m    347\u001b[0m         \u001b[0;32melse\u001b[0m\u001b[0;34m:\u001b[0m\u001b[0;34m\u001b[0m\u001b[0m\n",
      "\u001b[0;32m/opt/conda/lib/python3.6/site-packages/pandas/core/frame.py\u001b[0m in \u001b[0;36m_repr_html_\u001b[0;34m(self)\u001b[0m\n\u001b[1;32m    694\u001b[0m         \u001b[0mReturn\u001b[0m \u001b[0ma\u001b[0m \u001b[0mhtml\u001b[0m \u001b[0mrepresentation\u001b[0m \u001b[0;32mfor\u001b[0m \u001b[0ma\u001b[0m \u001b[0mparticular\u001b[0m \u001b[0mDataFrame\u001b[0m\u001b[0;34m.\u001b[0m\u001b[0;34m\u001b[0m\u001b[0m\n\u001b[1;32m    695\u001b[0m \u001b[0;34m\u001b[0m\u001b[0m\n\u001b[0;32m--> 696\u001b[0;31m         \u001b[0mMainly\u001b[0m \u001b[0;32mfor\u001b[0m \u001b[0mIPython\u001b[0m \u001b[0mnotebook\u001b[0m\u001b[0;34m.\u001b[0m\u001b[0;34m\u001b[0m\u001b[0m\n\u001b[0m\u001b[1;32m    697\u001b[0m         \"\"\"\n\u001b[1;32m    698\u001b[0m         \u001b[0;32mif\u001b[0m \u001b[0mself\u001b[0m\u001b[0;34m.\u001b[0m\u001b[0m_info_repr\u001b[0m\u001b[0;34m(\u001b[0m\u001b[0;34m)\u001b[0m\u001b[0;34m:\u001b[0m\u001b[0;34m\u001b[0m\u001b[0m\n",
      "\u001b[0;32m/opt/conda/lib/python3.6/site-packages/pandas/core/frame.py\u001b[0m in \u001b[0;36mto_html\u001b[0;34m(self, buf, columns, col_space, header, index, na_rep, formatters, float_format, sparsify, index_names, justify, bold_rows, classes, escape, max_rows, max_cols, show_dimensions, notebook, decimal, border, table_id)\u001b[0m\n\u001b[1;32m   2035\u001b[0m     ) -> None:\n\u001b[1;32m   2036\u001b[0m         \"\"\"\n\u001b[0;32m-> 2037\u001b[0;31m         \u001b[0mWrite\u001b[0m \u001b[0ma\u001b[0m \u001b[0mDataFrame\u001b[0m \u001b[0mto\u001b[0m \u001b[0mthe\u001b[0m \u001b[0mbinary\u001b[0m \u001b[0mparquet\u001b[0m \u001b[0mformat\u001b[0m\u001b[0;34m.\u001b[0m\u001b[0;34m\u001b[0m\u001b[0m\n\u001b[0m\u001b[1;32m   2038\u001b[0m \u001b[0;34m\u001b[0m\u001b[0m\n\u001b[1;32m   2039\u001b[0m         \u001b[0;34m.\u001b[0m\u001b[0;34m.\u001b[0m \u001b[0mversionadded\u001b[0m\u001b[0;34m:\u001b[0m\u001b[0;34m:\u001b[0m \u001b[0;36m0.21\u001b[0m\u001b[0;36m.0\u001b[0m\u001b[0;34m\u001b[0m\u001b[0m\n",
      "\u001b[0;32m/opt/conda/lib/python3.6/site-packages/pandas/io/formats/format.py\u001b[0m in \u001b[0;36mto_html\u001b[0;34m(self, classes, notebook, border)\u001b[0m\n\u001b[1;32m    745\u001b[0m                 \u001b[0mstr_columns\u001b[0m \u001b[0;34m=\u001b[0m \u001b[0;34m[\u001b[0m\u001b[0;34m[\u001b[0m\u001b[0mlabel\u001b[0m\u001b[0;34m]\u001b[0m \u001b[0;32mfor\u001b[0m \u001b[0mlabel\u001b[0m \u001b[0;32min\u001b[0m \u001b[0mself\u001b[0m\u001b[0;34m.\u001b[0m\u001b[0mheader\u001b[0m\u001b[0;34m]\u001b[0m\u001b[0;34m\u001b[0m\u001b[0m\n\u001b[1;32m    746\u001b[0m             \u001b[0;32melse\u001b[0m\u001b[0;34m:\u001b[0m\u001b[0;34m\u001b[0m\u001b[0m\n\u001b[0;32m--> 747\u001b[0;31m                 \u001b[0mstr_columns\u001b[0m \u001b[0;34m=\u001b[0m \u001b[0mself\u001b[0m\u001b[0;34m.\u001b[0m\u001b[0m_get_formatted_column_labels\u001b[0m\u001b[0;34m(\u001b[0m\u001b[0mframe\u001b[0m\u001b[0;34m)\u001b[0m\u001b[0;34m\u001b[0m\u001b[0m\n\u001b[0m\u001b[1;32m    748\u001b[0m \u001b[0;34m\u001b[0m\u001b[0m\n\u001b[1;32m    749\u001b[0m             \u001b[0;32mif\u001b[0m \u001b[0mself\u001b[0m\u001b[0;34m.\u001b[0m\u001b[0mshow_row_idx_names\u001b[0m\u001b[0;34m:\u001b[0m\u001b[0;34m\u001b[0m\u001b[0m\n",
      "\u001b[0;32m/opt/conda/lib/python3.6/site-packages/pandas/io/formats/html.py\u001b[0m in \u001b[0;36m<module>\u001b[0;34m()\u001b[0m\n\u001b[1;32m     14\u001b[0m \u001b[0;32mfrom\u001b[0m \u001b[0mpandas\u001b[0m \u001b[0;32mimport\u001b[0m \u001b[0moption_context\u001b[0m\u001b[0;34m\u001b[0m\u001b[0m\n\u001b[1;32m     15\u001b[0m \u001b[0;34m\u001b[0m\u001b[0m\n\u001b[0;32m---> 16\u001b[0;31m \u001b[0;32mfrom\u001b[0m \u001b[0mpandas\u001b[0m\u001b[0;34m.\u001b[0m\u001b[0mio\u001b[0m\u001b[0;34m.\u001b[0m\u001b[0mcommon\u001b[0m \u001b[0;32mimport\u001b[0m \u001b[0mis_url\u001b[0m\u001b[0;34m\u001b[0m\u001b[0m\n\u001b[0m\u001b[1;32m     17\u001b[0m from pandas.io.formats.format import (\n\u001b[1;32m     18\u001b[0m     \u001b[0mDataFrameFormatter\u001b[0m\u001b[0;34m,\u001b[0m\u001b[0;34m\u001b[0m\u001b[0m\n",
      "\u001b[0;31mImportError\u001b[0m: cannot import name 'is_url'"
     ]
    },
    {
     "data": {
      "text/plain": [
       "         Filename  Category\n",
       "1    Test1001.jpg  POSITIVE\n",
       "2    Test1012.jpg   NEUTRAL\n",
       "3    Test1022.jpg  POSITIVE\n",
       "4    Test1071.jpg  POSITIVE\n",
       "5    Test1122.jpg   NEUTRAL\n",
       "6    Test1161.jpg  POSITIVE\n",
       "7    Test1199.jpg  POSITIVE\n",
       "8    Test1229.jpg   NEUTRAL\n",
       "9    Test1240.jpg  POSITIVE\n",
       "10   Test1271.jpg  POSITIVE\n",
       "11   Test1279.jpg  POSITIVE\n",
       "12   Test1290.jpg  POSITIVE\n",
       "13   Test1353.jpg  POSITIVE\n",
       "14   Test1359.jpg  POSITIVE\n",
       "15   Test1615.jpg   NEUTRAL\n",
       "16   Test1620.jpg  POSITIVE\n",
       "17   Test1634.jpg  POSITIVE\n",
       "18   Test1644.jpg   NEUTRAL\n",
       "19   Test1717.jpg  POSITIVE\n",
       "20   Test1724.jpg  POSITIVE\n",
       "21   Test1743.jpg  POSITIVE\n",
       "22   Test1767.jpg  POSITIVE\n",
       "23   Test1776.jpg  POSITIVE\n",
       "24   Test1785.jpg   NEUTRAL\n",
       "25   Test1788.jpg  POSITIVE\n",
       "26   Test1803.jpg  POSITIVE\n",
       "27   Test1818.jpg  POSITIVE\n",
       "28   Test1837.jpg   NEUTRAL\n",
       "29   Test1856.jpg  POSITIVE\n",
       "30   Test1872.jpg  POSITIVE\n",
       "..            ...       ...\n",
       "210   Test198.jpg  NEGATIVE\n",
       "211   Test201.jpg  POSITIVE\n",
       "212   Test204.jpg  POSITIVE\n",
       "213   Test206.jpg  POSITIVE\n",
       "214   Test209.jpg  POSITIVE\n",
       "215   Test211.jpg  POSITIVE\n",
       "216   Test212.jpg   NEUTRAL\n",
       "217   Test213.jpg  POSITIVE\n",
       "218   Test216.jpg  POSITIVE\n",
       "219   Test218.jpg   NEUTRAL\n",
       "220   Test221.jpg  POSITIVE\n",
       "221   Test225.jpg  POSITIVE\n",
       "222   Test227.jpg  POSITIVE\n",
       "223   Test228.jpg  POSITIVE\n",
       "224   Test230.jpg  POSITIVE\n",
       "225   Test231.jpg  POSITIVE\n",
       "226   Test232.jpg  POSITIVE\n",
       "227   Test233.jpg  POSITIVE\n",
       "228   Test234.jpg  POSITIVE\n",
       "229   Test236.jpg  POSITIVE\n",
       "230   Test237.jpg  POSITIVE\n",
       "231   Test238.jpg  POSITIVE\n",
       "232   Test239.jpg  NEGATIVE\n",
       "233   Test240.jpg  POSITIVE\n",
       "234   Test242.jpg  NEGATIVE\n",
       "235   Test243.jpg   NEUTRAL\n",
       "236   Test244.jpg  POSITIVE\n",
       "237   Test245.jpg   NEUTRAL\n",
       "238   Test249.jpg  POSITIVE\n",
       "239   Test250.jpg  POSITIVE\n",
       "\n",
       "[239 rows x 2 columns]"
      ]
     },
     "execution_count": 70,
     "metadata": {},
     "output_type": "execute_result"
    }
   ],
   "source": [
    "df1 = df1.drop(columns=['Content'])"
   ]
  },
  {
   "cell_type": "code",
   "execution_count": 106,
   "metadata": {
    "_uuid": "37064dffcc8920d34ccd54fac7c8b50e583a8269"
   },
   "outputs": [],
   "source": [
    "img_data = pd.read_csv('Test.csv')\n",
    "df = pd.DataFrame(img_data)\n",
    "\n",
    "df1['Filename'] = df['Filename']\n",
    "\n",
    "a = df1['Category']\n",
    "df1 = df1.drop(columns=['Category'])\n",
    "df1['Category'] = a"
   ]
  },
  {
   "cell_type": "code",
   "execution_count": null,
   "metadata": {},
   "outputs": [],
   "source": [
    "df1['Category'] = df1['Category'].str.capitalize()\n",
    "df1['Category'] = df1['Category'].replace(['Neutral'],'Random')"
   ]
  },
  {
   "cell_type": "code",
   "execution_count": 105,
   "metadata": {},
   "outputs": [
    {
     "ename": "ImportError",
     "evalue": "cannot import name 'get_compression_method'",
     "output_type": "error",
     "traceback": [
      "\u001b[0;31m---------------------------------------------------------------------------\u001b[0m",
      "\u001b[0;31mImportError\u001b[0m                               Traceback (most recent call last)",
      "\u001b[0;32m<ipython-input-105-5a0ccb99ea2f>\u001b[0m in \u001b[0;36m<module>\u001b[0;34m()\u001b[0m\n\u001b[0;32m----> 1\u001b[0;31m \u001b[0mdf1\u001b[0m\u001b[0;34m.\u001b[0m\u001b[0mto_csv\u001b[0m\u001b[0;34m(\u001b[0m\u001b[0;34m'submission.csv'\u001b[0m\u001b[0;34m,\u001b[0m \u001b[0mindex\u001b[0m\u001b[0;34m=\u001b[0m\u001b[0;32mNone\u001b[0m\u001b[0;34m)\u001b[0m\u001b[0;34m\u001b[0m\u001b[0m\n\u001b[0m",
      "\u001b[0;32m/opt/conda/lib/python3.6/site-packages/pandas/core/frame.py\u001b[0m in \u001b[0;36mto_csv\u001b[0;34m(self, path_or_buf, sep, na_rep, float_format, columns, header, index, index_label, mode, encoding, compression, quoting, quotechar, line_terminator, chunksize, tupleize_cols, date_format, doublequote, escapechar, decimal)\u001b[0m\n\u001b[1;32m   1730\u001b[0m         \u001b[0mb\u001b[0m  \u001b[0;36m2\u001b[0m  \u001b[0;36m0.75\u001b[0m\u001b[0;34m\u001b[0m\u001b[0m\n\u001b[1;32m   1731\u001b[0m         \u001b[0;34m>>\u001b[0m\u001b[0;34m>\u001b[0m \u001b[0mdf\u001b[0m\u001b[0;34m.\u001b[0m\u001b[0mto_records\u001b[0m\u001b[0;34m(\u001b[0m\u001b[0;34m)\u001b[0m\u001b[0;34m\u001b[0m\u001b[0m\n\u001b[0;32m-> 1732\u001b[0;31m         rec.array([('a', 1, 0.5 ), ('b', 2, 0.75)],\n\u001b[0m\u001b[1;32m   1733\u001b[0m                   dtype=[('index', 'O'), ('A', '<i8'), ('B', '<f8')])\n\u001b[1;32m   1734\u001b[0m \u001b[0;34m\u001b[0m\u001b[0m\n",
      "\u001b[0;32m/opt/conda/lib/python3.6/site-packages/pandas/io/formats/csvs.py\u001b[0m in \u001b[0;36m<module>\u001b[0;34m()\u001b[0m\n\u001b[1;32m     23\u001b[0m \u001b[0;32mfrom\u001b[0m \u001b[0mpandas\u001b[0m\u001b[0;34m.\u001b[0m\u001b[0mcore\u001b[0m\u001b[0;34m.\u001b[0m\u001b[0mdtypes\u001b[0m\u001b[0;34m.\u001b[0m\u001b[0mmissing\u001b[0m \u001b[0;32mimport\u001b[0m \u001b[0mnotna\u001b[0m\u001b[0;34m\u001b[0m\u001b[0m\n\u001b[1;32m     24\u001b[0m \u001b[0;34m\u001b[0m\u001b[0m\n\u001b[0;32m---> 25\u001b[0;31m from pandas.io.common import (\n\u001b[0m\u001b[1;32m     26\u001b[0m     \u001b[0mget_compression_method\u001b[0m\u001b[0;34m,\u001b[0m\u001b[0;34m\u001b[0m\u001b[0m\n\u001b[1;32m     27\u001b[0m     \u001b[0mget_filepath_or_buffer\u001b[0m\u001b[0;34m,\u001b[0m\u001b[0;34m\u001b[0m\u001b[0m\n",
      "\u001b[0;31mImportError\u001b[0m: cannot import name 'get_compression_method'"
     ]
    }
   ],
   "source": [
    "df1.to_csv('Submission.csv', index=None)"
   ]
  },
  {
   "cell_type": "markdown",
   "metadata": {
    "_uuid": "3ee72e47f84b6dbc32e02a783de5ec1661f157e1"
   },
   "source": [
    "### Confusion Matrix"
   ]
  },
  {
   "cell_type": "code",
   "execution_count": null,
   "metadata": {
    "_uuid": "0e920173eb05f04aecdd735bc5dff0f5be5f8d15"
   },
   "outputs": [],
   "source": [
    "%%time\n",
    "y_pred_1d = []\n",
    "y_test_1d = list(df_test.target)\n",
    "scores = model.predict(x_test, verbose=1, batch_size=8000)\n",
    "y_pred_1d = [decode_sentiment(score, include_neutral=False) for score in scores]"
   ]
  },
  {
   "cell_type": "code",
   "execution_count": null,
   "metadata": {
    "_uuid": "b3575191bb425ab871f3f41e83812ee84bb7e595"
   },
   "outputs": [],
   "source": [
    "def plot_confusion_matrix(cm, classes,\n",
    "                          title='Confusion matrix',\n",
    "                          cmap=plt.cm.Blues):\n",
    "    \"\"\"\n",
    "    This function prints and plots the confusion matrix.\n",
    "    Normalization can be applied by setting `normalize=True`.\n",
    "    \"\"\"\n",
    "\n",
    "    cm = cm.astype('float') / cm.sum(axis=1)[:, np.newaxis]\n",
    "\n",
    "    plt.imshow(cm, interpolation='nearest', cmap=cmap)\n",
    "    plt.title(title, fontsize=30)\n",
    "    plt.colorbar()\n",
    "    tick_marks = np.arange(len(classes))\n",
    "    plt.xticks(tick_marks, classes, rotation=90, fontsize=22)\n",
    "    plt.yticks(tick_marks, classes, fontsize=22)\n",
    "\n",
    "    fmt = '.2f'\n",
    "    thresh = cm.max() / 2.\n",
    "    for i, j in itertools.product(range(cm.shape[0]), range(cm.shape[1])):\n",
    "        plt.text(j, i, format(cm[i, j], fmt),\n",
    "                 horizontalalignment=\"center\",\n",
    "                 color=\"white\" if cm[i, j] > thresh else \"black\")\n",
    "\n",
    "    plt.ylabel('True label', fontsize=25)\n",
    "    plt.xlabel('Predicted label', fontsize=25)"
   ]
  },
  {
   "cell_type": "code",
   "execution_count": null,
   "metadata": {
    "_uuid": "a57dc6f6211c144491a70f533225edfa95a2dc66"
   },
   "outputs": [],
   "source": [
    "%%time\n",
    "\n",
    "cnf_matrix = confusion_matrix(y_test_1d, y_pred_1d)\n",
    "plt.figure(figsize=(12,12))\n",
    "plot_confusion_matrix(cnf_matrix, classes=df_train.target.unique(), title=\"Confusion matrix\")\n",
    "plt.show()"
   ]
  },
  {
   "cell_type": "markdown",
   "metadata": {
    "_uuid": "e23b957348dcc084249d3cc7538b972da471c2cd"
   },
   "source": [
    "### Classification Report"
   ]
  },
  {
   "cell_type": "code",
   "execution_count": null,
   "metadata": {
    "_uuid": "a7fe05b7caa1c984ff1deb0be2f7c6bc043df9f5"
   },
   "outputs": [],
   "source": [
    "print(classification_report(y_test_1d, y_pred_1d))"
   ]
  },
  {
   "cell_type": "markdown",
   "metadata": {
    "_uuid": "4eb300f0c6693a618587c7dcf32f77f5416cbfb9"
   },
   "source": [
    "### Accuracy Score"
   ]
  },
  {
   "cell_type": "code",
   "execution_count": null,
   "metadata": {
    "_uuid": "5cf76e6e09f8a60ed25947932b94c772eda44d23"
   },
   "outputs": [],
   "source": [
    "accuracy_score(y_test_1d, y_pred_1d)"
   ]
  },
  {
   "cell_type": "markdown",
   "metadata": {
    "_uuid": "4f014c32f3833db282e1a075c526604f34e3158c"
   },
   "source": [
    "### Save model"
   ]
  },
  {
   "cell_type": "code",
   "execution_count": null,
   "metadata": {
    "_uuid": "3b2b3ad5b592977b404acfa1c9ad303a62837255"
   },
   "outputs": [],
   "source": [
    "model.save(KERAS_MODEL)\n",
    "w2v_model.save(WORD2VEC_MODEL)\n",
    "pickle.dump(tokenizer, open(TOKENIZER_MODEL, \"wb\"), protocol=0)\n",
    "pickle.dump(encoder, open(ENCODER_MODEL, \"wb\"), protocol=0)"
   ]
  },
  {
   "cell_type": "code",
   "execution_count": null,
   "metadata": {
    "_uuid": "cc363c54782894757f5ea8820c6a170f2e16ef93"
   },
   "outputs": [],
   "source": []
  }
 ],
 "metadata": {
  "kernelspec": {
   "display_name": "Python 3",
   "language": "python",
   "name": "python3"
  },
  "language_info": {
   "codemirror_mode": {
    "name": "ipython",
    "version": 3
   },
   "file_extension": ".py",
   "mimetype": "text/x-python",
   "name": "python",
   "nbconvert_exporter": "python",
   "pygments_lexer": "ipython3",
   "version": "3.7.4"
  }
 },
 "nbformat": 4,
 "nbformat_minor": 1
}
